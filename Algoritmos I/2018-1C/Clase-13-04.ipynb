{
 "cells": [
  {
   "cell_type": "code",
   "execution_count": null,
   "metadata": {},
   "outputs": [],
   "source": [
    "from IPython.display import Image"
   ]
  },
  {
   "cell_type": "markdown",
   "metadata": {},
   "source": [
    "# La Magia de la television\n",
    "## Capitulo 2: El exterior tiene calidad de importacion\n",
    "\n",
    "### Parte 0: Repaso general de secuencias\n",
    "\n",
    "| |Cadenas|Tuplas|Listas|\n",
    "|:---|:---|:---|:---|\n",
    "|Acceso por indice|Si|Si|Si|\n",
    "|Recorrer por indices|Si|Si|Si|\n",
    "|Recorrer por elemento|Si|Si|Si|\n",
    "|Elementos|Caracteres|Cualquier cosa|Cualquier cosa|\n",
    "|Mutabilidad|Inmutables|Inmutables|Mutables|\n",
    "|Operador + (concatenacion)|Copia|Copia|Copia|\n",
    "|Slices|Copia|Copia|Copia|\n",
    "|Append|No existe|No existe|Agrega (Modifica)|\n",
    "|Buscar un elemento|Si|Si|Si|"
   ]
  },
  {
   "cell_type": "markdown",
   "metadata": {},
   "source": []
  },
  {
   "cell_type": "code",
   "execution_count": null,
   "metadata": {},
   "outputs": [],
   "source": [
    "Image(filename='./clase-13-04_files/img1.jpg')"
   ]
  },
  {
   "cell_type": "code",
   "execution_count": null,
   "metadata": {},
   "outputs": [],
   "source": [
    "s = \"freasu\""
   ]
  },
  {
   "cell_type": "code",
   "execution_count": null,
   "metadata": {},
   "outputs": [],
   "source": [
    "MAN_OF_THE_HOUSE = 0\n",
    "BART = 1\n",
    "THE_SMART_GIRL = 2\n",
    "MAGGIE = 3\n",
    "\n"
   ]
  },
  {
   "cell_type": "markdown",
   "metadata": {},
   "source": [
    "|Hombre de la casa|Bart|La niña inteligente|Maggie|\n",
    "|:---|:---|:---|:---|\n",
    "|Homer|Bart|Lisa|Maggie|Toaster|"
   ]
  },
  {
   "cell_type": "markdown",
   "metadata": {},
   "source": []
  },
  {
   "cell_type": "code",
   "execution_count": null,
   "metadata": {},
   "outputs": [],
   "source": [
    "Image(filename='./clase-13-04_files/img2.png')"
   ]
  },
  {
   "cell_type": "code",
   "execution_count": null,
   "metadata": {},
   "outputs": [],
   "source": [
    "import support"
   ]
  },
  {
   "cell_type": "code",
   "execution_count": null,
   "metadata": {},
   "outputs": [],
   "source": [
    "my_map = support.generate_map(15,15)"
   ]
  },
  {
   "cell_type": "code",
   "execution_count": null,
   "metadata": {},
   "outputs": [],
   "source": [
    "support.print_map(my_map)"
   ]
  },
  {
   "cell_type": "markdown",
   "metadata": {},
   "source": [
    "map md"
   ]
  },
  {
   "cell_type": "code",
   "execution_count": null,
   "metadata": {},
   "outputs": [],
   "source": []
  },
  {
   "cell_type": "code",
   "execution_count": null,
   "metadata": {},
   "outputs": [],
   "source": [
    "Image(filename='./clase-13-04_files/img3.jpg')"
   ]
  },
  {
   "cell_type": "markdown",
   "metadata": {},
   "source": []
  },
  {
   "cell_type": "markdown",
   "metadata": {},
   "source": []
  },
  {
   "cell_type": "code",
   "execution_count": null,
   "metadata": {},
   "outputs": [],
   "source": [
    "Image(filename='./clase-13-04_files/img3.png')"
   ]
  },
  {
   "cell_type": "markdown",
   "metadata": {},
   "source": []
  },
  {
   "cell_type": "markdown",
   "metadata": {},
   "source": []
  },
  {
   "cell_type": "code",
   "execution_count": null,
   "metadata": {},
   "outputs": [],
   "source": [
    "Image(filename='./clase-13-04_files/img4.gif')"
   ]
  },
  {
   "cell_type": "code",
   "execution_count": null,
   "metadata": {},
   "outputs": [],
   "source": [
    "HIRAGANAS = [\"a\",\"i\",\"u\",\"e\",\"o\"\n",
    "                      \"ka\",\"ki\",\"ku\",\"ke\",\"ko\",\n",
    "                      \"sa\",\"si\",\"su\",\"se\",\"so\",\n",
    "                      \"ta\",\"ti\",\"tu\",\"te\",\"to\",\n",
    "                      \"na\",\"ni\",\"nu\",\"ne\",\"no\",\n",
    "                      \"ha\",\"hi\",\"hu\",\"he\",\"ho\",\n",
    "                      \"ma\",\"mi\",\"mu\",\"me\",\"mo\",\n",
    "                      \"ya\",\"yu\",\"yo\",\n",
    "                      \"ra\",\"ri\",\"ru\",\"re\",\"ro\",\n",
    "                      \"wa\",\"wo\",\n",
    "                      \"n\",\n",
    "                      \"ga\",\"gi\",\"gu\",\"ge\",\"go\",\n",
    "                      \"za\",\"zi\",\"zu\",\"ze\",\"zo\",\n",
    "                      \"da\",\"di\",\"du\",\"de\",\"do\",\n",
    "                      \"ba\",\"bi\",\"bu\",\"be\",\"bo\",\n",
    "                      \"pa\",\"pi\",\"pu\",\"pe\",\"po\",\n",
    "                      \"ja\",\"ju\",\"jo\"\n",
    "            ]"
   ]
  },
  {
   "cell_type": "code",
   "execution_count": null,
   "metadata": {},
   "outputs": [],
   "source": [
    "import spelling"
   ]
  },
  {
   "cell_type": "code",
   "execution_count": null,
   "metadata": {},
   "outputs": [],
   "source": []
  },
  {
   "cell_type": "code",
   "execution_count": null,
   "metadata": {},
   "outputs": [],
   "source": []
  },
  {
   "cell_type": "code",
   "execution_count": null,
   "metadata": {},
   "outputs": [],
   "source": [
    "preps = [\"a\", \"ante\", \"bajo\", \"cabe\", \"con\", \"contra\", \"de\", \"desde\", \"durante\", \"en\", \"entre\", \"hacia\", \"hasta\", \"mediante\", \"para\", \"por\", \"según\", \"sin\", \"so\", \"sobre\", \"tras\", \"versus\" , \"vía\"]"
   ]
  },
  {
   "cell_type": "code",
   "execution_count": null,
   "metadata": {},
   "outputs": [],
   "source": []
  },
  {
   "cell_type": "code",
   "execution_count": null,
   "metadata": {},
   "outputs": [],
   "source": []
  }
 ],
 "metadata": {
  "kernelspec": {
   "display_name": "Python 3",
   "language": "python",
   "name": "python3"
  },
  "language_info": {
   "codemirror_mode": {
    "name": "ipython",
    "version": 3
   },
   "file_extension": ".py",
   "mimetype": "text/x-python",
   "name": "python",
   "nbconvert_exporter": "python",
   "pygments_lexer": "ipython3",
   "version": "3.6.5rc1"
  }
 },
 "nbformat": 4,
 "nbformat_minor": 2
}
