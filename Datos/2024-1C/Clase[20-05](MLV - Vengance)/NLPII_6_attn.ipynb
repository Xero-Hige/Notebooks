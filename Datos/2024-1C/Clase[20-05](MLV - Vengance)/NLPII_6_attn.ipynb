{
  "nbformat": 4,
  "nbformat_minor": 0,
  "metadata": {
    "colab": {
      "provenance": []
    },
    "kernelspec": {
      "name": "python3",
      "display_name": "Python 3"
    },
    "language_info": {
      "name": "python"
    }
  },
  "cells": [
    {
      "cell_type": "code",
      "execution_count": null,
      "metadata": {
        "id": "8ESPOu9XZlEn"
      },
      "outputs": [],
      "source": [
        "import numpy as np\n",
        "\n",
        "input = np.array([[.1, -.1, .4, -.4, .4],\n",
        "                  [.2, 0, .4, .2, .1],\n",
        "                  [-.9, .1, .4, .2, .1]])\n",
        "\n",
        "key_m = np.array([[1, 2, 3],\n",
        "                  [4, 1, 6],\n",
        "                  [7, 1, -9],\n",
        "                  [1, 1, 2],\n",
        "                  [1, 3, 5]])\n",
        "\n",
        "query_m = np.array([[6, 1, .8],\n",
        "                    [1, 0, 1],\n",
        "                    [2, -5, 4],\n",
        "                    [.5, 1, 7],\n",
        "                    [2, 4, 3]])\n",
        "\n",
        "value_m = np.array([[8, .1, 8, .5, 1],\n",
        "                    [1.5, 0.2, .1, -.1, .7],\n",
        "                    [-9, -5, 0.4, 0, .9],\n",
        "                    [8, .1, 8, .5, 1],\n",
        "                    [1.5, 0.2, .1, -.1, .7]])"
      ]
    },
    {
      "cell_type": "code",
      "source": [
        "key_v = np.dot(input,key_m)\n",
        "key_v"
      ],
      "metadata": {
        "colab": {
          "base_uri": "https://localhost:8080/"
        },
        "id": "Y34EO2jzaKlU",
        "outputId": "ba331e9b-1bc8-4df3-abbf-05c9f98f2f80"
      },
      "execution_count": null,
      "outputs": [
        {
          "output_type": "execute_result",
          "data": {
            "text/plain": [
              "array([[ 2.5,  1.3, -2.7],\n",
              "       [ 3.3,  1.3, -2.1],\n",
              "       [ 2.6, -0.8, -4.8]])"
            ]
          },
          "metadata": {},
          "execution_count": 3
        }
      ]
    },
    {
      "cell_type": "code",
      "source": [
        "query_v = np.dot(input,query_m)\n",
        "query_v"
      ],
      "metadata": {
        "colab": {
          "base_uri": "https://localhost:8080/"
        },
        "id": "iOoW69rPafXD",
        "outputId": "918cefc1-1107-4cb1-999d-500a033436bf"
      },
      "execution_count": null,
      "outputs": [
        {
          "output_type": "execute_result",
          "data": {
            "text/plain": [
              "array([[ 1.9 , -0.7 , -0.02],\n",
              "       [ 2.3 , -1.2 ,  3.46],\n",
              "       [-4.2 , -2.3 ,  2.68]])"
            ]
          },
          "metadata": {},
          "execution_count": 4
        }
      ]
    },
    {
      "cell_type": "code",
      "source": [
        "np.dot(query_v,key_v.T)"
      ],
      "metadata": {
        "colab": {
          "base_uri": "https://localhost:8080/"
        },
        "id": "sUdXLCM2asFo",
        "outputId": "e0a244ea-49e7-4195-af75-f8f58b6e195d"
      },
      "execution_count": null,
      "outputs": [
        {
          "output_type": "execute_result",
          "data": {
            "text/plain": [
              "array([[  3.894,   5.402,   5.596],\n",
              "       [ -5.152,  -1.236,  -9.668],\n",
              "       [-20.726, -22.478, -21.944]])"
            ]
          },
          "metadata": {},
          "execution_count": 5
        }
      ]
    },
    {
      "cell_type": "code",
      "source": [
        "def softmax(x):\n",
        "    # Subtract the max for numerical stability\n",
        "    e_x = np.exp(x - np.max(x, axis=1, keepdims=True))\n",
        "    return e_x / e_x.sum(axis=1, keepdims=True)"
      ],
      "metadata": {
        "id": "nTsjVy_za6Kl"
      },
      "execution_count": null,
      "outputs": []
    },
    {
      "cell_type": "code",
      "source": [
        "attn = softmax(np.dot(query_v,key_v.T))\n",
        "attn"
      ],
      "metadata": {
        "colab": {
          "base_uri": "https://localhost:8080/"
        },
        "id": "vK1yRgtdbRO9",
        "outputId": "c73fffdb-a058-450a-e99e-0f6bc33d0b3c"
      },
      "execution_count": null,
      "outputs": [
        {
          "output_type": "execute_result",
          "data": {
            "text/plain": [
              "array([[9.08876693e-02, 4.10601986e-01, 4.98510345e-01],\n",
              "       [1.95273680e-02, 9.80259146e-01, 2.13486212e-04],\n",
              "       [6.80620308e-01, 1.18037763e-01, 2.01341929e-01]])"
            ]
          },
          "metadata": {},
          "execution_count": 7
        }
      ]
    },
    {
      "cell_type": "code",
      "source": [
        "import matplotlib.pyplot as plt\n",
        "import seaborn as sns\n",
        "\n",
        "plt.figure(figsize=(8, 6))\n",
        "sns.heatmap(attn, annot=True, linecolor='white', cmap='viridis')\n",
        "plt.show()"
      ],
      "metadata": {
        "colab": {
          "base_uri": "https://localhost:8080/",
          "height": 522
        },
        "id": "MNYsvYYOcfnv",
        "outputId": "bcdc4cbf-6152-4666-a9fc-09174260aba1"
      },
      "execution_count": null,
      "outputs": [
        {
          "output_type": "display_data",
          "data": {
            "text/plain": [
              "<Figure size 800x600 with 2 Axes>"
            ],
            "image/png": "[encoded data removed]"
          },
          "metadata": {}
        }
      ]
    },
    {
      "cell_type": "code",
      "source": [
        "value_v = np.dot(input,value_m)\n",
        "value_v"
      ],
      "metadata": {
        "colab": {
          "base_uri": "https://localhost:8080/"
        },
        "id": "-3sJTFJOdQIX",
        "outputId": "d4a3156c-75e2-4f15-9620-93e6d015adcc"
      },
      "execution_count": null,
      "outputs": [
        {
          "output_type": "execute_result",
          "data": {
            "text/plain": [
              "array([[-5.55, -1.97, -2.21, -0.18,  0.27],\n",
              "       [-0.25, -1.94,  3.37,  0.19,  0.83],\n",
              "       [-8.9 , -2.03, -5.42, -0.37, -0.2 ]])"
            ]
          },
          "metadata": {},
          "execution_count": 9
        }
      ]
    },
    {
      "cell_type": "code",
      "source": [
        "np.dot(attn,value_v)"
      ],
      "metadata": {
        "colab": {
          "base_uri": "https://localhost:8080/"
        },
        "id": "Ij4KLEVJfQe1",
        "outputId": "e19949b7-2b20-4611-d7d4-a06c80b03563"
      },
      "execution_count": null,
      "outputs": [
        {
          "output_type": "execute_result",
          "data": {
            "text/plain": [
              "array([[-5.04381913, -1.98759256, -1.51905913, -0.12279423,  0.26563725],\n",
              "       [-0.35534171, -1.94060503,  3.25916074,  0.18265532,  0.81884478],\n",
              "       [-5.59889532, -1.97853938, -2.19765687, -0.17458099,  0.24147044]])"
            ]
          },
          "metadata": {},
          "execution_count": 10
        }
      ]
    },
    {
      "cell_type": "code",
      "source": [
        "El      - [2,1,3]\n",
        "MONARCA - [1,2,4] --> [1,3,5]"
      ],
      "metadata": {
        "id": "y0Cu01LpfrU5"
      },
      "execution_count": null,
      "outputs": []
    }
  ]
}