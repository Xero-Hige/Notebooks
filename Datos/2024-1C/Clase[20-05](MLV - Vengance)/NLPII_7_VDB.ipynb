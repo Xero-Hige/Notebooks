{
  "cells": [
    {
      "cell_type": "markdown",
      "id": "6a31a2c8-6064-4809-b016-85f24021ce26",
      "metadata": {
        "id": "6a31a2c8-6064-4809-b016-85f24021ce26"
      },
      "source": [
        "# Paquetes"
      ]
    },
    {
      "cell_type": "code",
      "execution_count": null,
      "id": "77643747-7fba-469b-92b6-a5f3a14b5b8a",
      "metadata": {
        "colab": {
          "background_save": true,
          "base_uri": "https://localhost:8080/"
        },
        "id": "77643747-7fba-469b-92b6-a5f3a14b5b8a",
        "outputId": "9d2c360f-c481-43bb-bda4-636608559cac"
      },
      "outputs": [
        {
          "name": "stdout",
          "output_type": "stream",
          "text": [
            "\u001b[2K     \u001b[90m━━━━━━━━━━━━━━━━━━━━━━━━━━━━━━━━━━━━━━━━\u001b[0m \u001b[32m2.1/2.1 MB\u001b[0m \u001b[31m11.3 MB/s\u001b[0m eta \u001b[36m0:00:00\u001b[0m\n",
            "\u001b[2K     \u001b[90m━━━━━━━━━━━━━━━━━━━━━━━━━━━━━━━━━━━━━━━━\u001b[0m \u001b[32m526.8/526.8 kB\u001b[0m \u001b[31m18.6 MB/s\u001b[0m eta \u001b[36m0:00:00\u001b[0m\n",
            "\u001b[2K     \u001b[90m━━━━━━━━━━━━━━━━━━━━━━━━━━━━━━━━━━━━━━━━\u001b[0m \u001b[32m12.3/12.3 MB\u001b[0m \u001b[31m40.7 MB/s\u001b[0m eta \u001b[36m0:00:00\u001b[0m\n",
            "\u001b[2K     \u001b[90m━━━━━━━━━━━━━━━━━━━━━━━━━━━━━━━━━━━━━━━━\u001b[0m \u001b[32m973.7/973.7 kB\u001b[0m \u001b[31m37.0 MB/s\u001b[0m eta \u001b[36m0:00:00\u001b[0m\n",
            "\u001b[2K     \u001b[90m━━━━━━━━━━━━━━━━━━━━━━━━━━━━━━━━━━━━━━━━\u001b[0m \u001b[32m171.5/171.5 kB\u001b[0m \u001b[31m11.2 MB/s\u001b[0m eta \u001b[36m0:00:00\u001b[0m\n",
            "\u001b[2K     \u001b[90m━━━━━━━━━━━━━━━━━━━━━━━━━━━━━━━━━━━━━━━━\u001b[0m \u001b[32m290.4/290.4 kB\u001b[0m \u001b[31m19.4 MB/s\u001b[0m eta \u001b[36m0:00:00\u001b[0m\n",
            "\u001b[2K     \u001b[90m━━━━━━━━━━━━━━━━━━━━━━━━━━━━━━━━━━━━━━━━\u001b[0m \u001b[32m2.4/2.4 MB\u001b[0m \u001b[31m34.1 MB/s\u001b[0m eta \u001b[36m0:00:00\u001b[0m\n",
            "\u001b[2K     \u001b[90m━━━━━━━━━━━━━━━━━━━━━━━━━━━━━━━━━━━━━━━━\u001b[0m \u001b[32m92.0/92.0 kB\u001b[0m \u001b[31m3.0 MB/s\u001b[0m eta \u001b[36m0:00:00\u001b[0m\n",
            "\u001b[2K     \u001b[90m━━━━━━━━━━━━━━━━━━━━━━━━━━━━━━━━━━━━━━━━\u001b[0m \u001b[32m60.8/60.8 kB\u001b[0m \u001b[31m594.5 kB/s\u001b[0m eta \u001b[36m0:00:00\u001b[0m\n",
            "\u001b[2K     \u001b[90m━━━━━━━━━━━━━━━━━━━━━━━━━━━━━━━━━━━━━━━━\u001b[0m \u001b[32m41.3/41.3 kB\u001b[0m \u001b[31m2.3 MB/s\u001b[0m eta \u001b[36m0:00:00\u001b[0m\n",
            "\u001b[2K     \u001b[90m━━━━━━━━━━━━━━━━━━━━━━━━━━━━━━━━━━━━━━━━\u001b[0m \u001b[32m6.8/6.8 MB\u001b[0m \u001b[31m25.2 MB/s\u001b[0m eta \u001b[36m0:00:00\u001b[0m\n",
            "\u001b[2K     \u001b[90m━━━━━━━━━━━━━━━━━━━━━━━━━━━━━━━━━━━━━━━━\u001b[0m \u001b[32m60.1/60.1 kB\u001b[0m \u001b[31m3.0 MB/s\u001b[0m eta \u001b[36m0:00:00\u001b[0m\n",
            "\u001b[2K     \u001b[90m━━━━━━━━━━━━━━━━━━━━━━━━━━━━━━━━━━━━━━━━\u001b[0m \u001b[32m106.1/106.1 kB\u001b[0m \u001b[31m3.7 MB/s\u001b[0m eta \u001b[36m0:00:00\u001b[0m\n",
            "\u001b[2K     \u001b[90m━━━━━━━━━━━━━━━━━━━━━━━━━━━━━━━━━━━━━━━━\u001b[0m \u001b[32m67.3/67.3 kB\u001b[0m \u001b[31m5.6 MB/s\u001b[0m eta \u001b[36m0:00:00\u001b[0m\n",
            "\u001b[?25h  Installing build dependencies ... \u001b[?25l\u001b[?25hdone\n",
            "  Getting requirements to build wheel ... \u001b[?25l\u001b[?25hdone\n",
            "  Preparing metadata (pyproject.toml) ... \u001b[?25l\u001b[?25hdone\n",
            "\u001b[2K     \u001b[90m━━━━━━━━━━━━━━━━━━━━━━━━━━━━━━━━━━━━━━━━\u001b[0m \u001b[32m283.7/283.7 kB\u001b[0m \u001b[31m31.6 MB/s\u001b[0m eta \u001b[36m0:00:00\u001b[0m\n",
            "\u001b[2K     \u001b[90m━━━━━━━━━━━━━━━━━━━━━━━━━━━━━━━━━━━━━━━━\u001b[0m \u001b[32m1.6/1.6 MB\u001b[0m \u001b[31m69.2 MB/s\u001b[0m eta \u001b[36m0:00:00\u001b[0m\n",
            "\u001b[2K     \u001b[90m━━━━━━━━━━━━━━━━━━━━━━━━━━━━━━━━━━━━━━━━\u001b[0m \u001b[32m67.6/67.6 kB\u001b[0m \u001b[31m9.0 MB/s\u001b[0m eta \u001b[36m0:00:00\u001b[0m\n",
            "\u001b[2K     \u001b[90m━━━━━━━━━━━━━━━━━━━━━━━━━━━━━━━━━━━━━━━━\u001b[0m \u001b[32m142.5/142.5 kB\u001b[0m \u001b[31m7.0 MB/s\u001b[0m eta \u001b[36m0:00:00\u001b[0m\n",
            "\u001b[?25h  Preparing metadata (setup.py) ... \u001b[?25l\u001b[?25hdone\n",
            "\u001b[2K     \u001b[90m━━━━━━━━━━━━━━━━━━━━━━━━━━━━━━━━━━━━━━━━\u001b[0m \u001b[32m315.9/315.9 kB\u001b[0m \u001b[31m27.4 MB/s\u001b[0m eta \u001b[36m0:00:00\u001b[0m\n",
            "\u001b[2K     \u001b[90m━━━━━━━━━━━━━━━━━━━━━━━━━━━━━━━━━━━━━━━━\u001b[0m \u001b[32m75.6/75.6 kB\u001b[0m \u001b[31m10.6 MB/s\u001b[0m eta \u001b[36m0:00:00\u001b[0m\n",
            "\u001b[2K     \u001b[90m━━━━━━━━━━━━━━━━━━━━━━━━━━━━━━━━━━━━━━━━\u001b[0m \u001b[32m8.7/8.7 MB\u001b[0m \u001b[31m93.3 MB/s\u001b[0m eta \u001b[36m0:00:00\u001b[0m\n",
            "\u001b[2K     \u001b[90m━━━━━━━━━━━━━━━━━━━━━━━━━━━━━━━━━━━━━━━━\u001b[0m \u001b[32m47.2/47.2 kB\u001b[0m \u001b[31m6.4 MB/s\u001b[0m eta \u001b[36m0:00:00\u001b[0m\n",
            "\u001b[2K     \u001b[90m━━━━━━━━━━━━━━━━━━━━━━━━━━━━━━━━━━━━━━━━\u001b[0m \u001b[32m129.9/129.9 kB\u001b[0m \u001b[31m16.1 MB/s\u001b[0m eta \u001b[36m0:00:00\u001b[0m\n",
            "\u001b[2K     \u001b[90m━━━━━━━━━━━━━━━━━━━━━━━━━━━━━━━━━━━━━━━━\u001b[0m \u001b[32m307.9/307.9 kB\u001b[0m \u001b[31m34.8 MB/s\u001b[0m eta \u001b[36m0:00:00\u001b[0m\n",
            "\u001b[2K     \u001b[90m━━━━━━━━━━━━━━━━━━━━━━━━━━━━━━━━━━━━━━━━\u001b[0m \u001b[32m121.4/121.4 kB\u001b[0m \u001b[31m16.8 MB/s\u001b[0m eta \u001b[36m0:00:00\u001b[0m\n",
            "\u001b[2K     \u001b[90m━━━━━━━━━━━━━━━━━━━━━━━━━━━━━━━━━━━━━━━━\u001b[0m \u001b[32m49.3/49.3 kB\u001b[0m \u001b[31m6.7 MB/s\u001b[0m eta \u001b[36m0:00:00\u001b[0m\n",
            "\u001b[2K     \u001b[90m━━━━━━━━━━━━━━━━━━━━━━━━━━━━━━━━━━━━━━━━\u001b[0m \u001b[32m71.9/71.9 kB\u001b[0m \u001b[31m6.7 MB/s\u001b[0m eta \u001b[36m0:00:00\u001b[0m\n",
            "\u001b[2K     \u001b[90m━━━━━━━━━━━━━━━━━━━━━━━━━━━━━━━━━━━━━━━━\u001b[0m \u001b[32m53.6/53.6 kB\u001b[0m \u001b[31m6.7 MB/s\u001b[0m eta \u001b[36m0:00:00\u001b[0m\n",
            "\u001b[2K     \u001b[90m━━━━━━━━━━━━━━━━━━━━━━━━━━━━━━━━━━━━━━━━\u001b[0m \u001b[32m77.9/77.9 kB\u001b[0m \u001b[31m9.6 MB/s\u001b[0m eta \u001b[36m0:00:00\u001b[0m\n",
            "\u001b[2K     \u001b[90m━━━━━━━━━━━━━━━━━━━━━━━━━━━━━━━━━━━━━━━━\u001b[0m \u001b[32m58.3/58.3 kB\u001b[0m \u001b[31m7.5 MB/s\u001b[0m eta \u001b[36m0:00:00\u001b[0m\n",
            "\u001b[2K     \u001b[90m━━━━━━━━━━━━━━━━━━━━━━━━━━━━━━━━━━━━━━━━\u001b[0m \u001b[32m53.0/53.0 kB\u001b[0m \u001b[31m6.5 MB/s\u001b[0m eta \u001b[36m0:00:00\u001b[0m\n",
            "\u001b[2K     \u001b[90m━━━━━━━━━━━━━━━━━━━━━━━━━━━━━━━━━━━━━━━━\u001b[0m \u001b[32m46.0/46.0 kB\u001b[0m \u001b[31m5.4 MB/s\u001b[0m eta \u001b[36m0:00:00\u001b[0m\n",
            "\u001b[2K     \u001b[90m━━━━━━━━━━━━━━━━━━━━━━━━━━━━━━━━━━━━━━━━\u001b[0m \u001b[32m50.8/50.8 kB\u001b[0m \u001b[31m5.7 MB/s\u001b[0m eta \u001b[36m0:00:00\u001b[0m\n",
            "\u001b[2K     \u001b[90m━━━━━━━━━━━━━━━━━━━━━━━━━━━━━━━━━━━━━━━━\u001b[0m \u001b[32m341.4/341.4 kB\u001b[0m \u001b[31m37.4 MB/s\u001b[0m eta \u001b[36m0:00:00\u001b[0m\n",
            "\u001b[2K     \u001b[90m━━━━━━━━━━━━━━━━━━━━━━━━━━━━━━━━━━━━━━━━\u001b[0m \u001b[32m3.4/3.4 MB\u001b[0m \u001b[31m84.5 MB/s\u001b[0m eta \u001b[36m0:00:00\u001b[0m\n",
            "\u001b[2K     \u001b[90m━━━━━━━━━━━━━━━━━━━━━━━━━━━━━━━━━━━━━━━━\u001b[0m \u001b[32m1.3/1.3 MB\u001b[0m \u001b[31m86.1 MB/s\u001b[0m eta \u001b[36m0:00:00\u001b[0m\n",
            "\u001b[2K     \u001b[90m━━━━━━━━━━━━━━━━━━━━━━━━━━━━━━━━━━━━━━━━\u001b[0m \u001b[32m307.7/307.7 kB\u001b[0m \u001b[31m34.9 MB/s\u001b[0m eta \u001b[36m0:00:00\u001b[0m\n",
            "\u001b[2K     \u001b[90m━━━━━━━━━━━━━━━━━━━━━━━━━━━━━━━━━━━━━━━━\u001b[0m \u001b[32m86.8/86.8 kB\u001b[0m \u001b[31m10.6 MB/s\u001b[0m eta \u001b[36m0:00:00\u001b[0m\n",
            "\u001b[?25h  Building wheel for pypika (pyproject.toml) ... \u001b[?25l\u001b[?25hdone\n",
            "  Building wheel for ffmpy (setup.py) ... \u001b[?25l\u001b[?25hdone\n",
            "\u001b[31mERROR: pip's dependency resolver does not currently take into account all the packages that are installed. This behaviour is the source of the following dependency conflicts.\n",
            "spacy 3.7.4 requires typer<0.10.0,>=0.3.0, but you have typer 0.12.3 which is incompatible.\n",
            "weasel 0.3.4 requires typer<0.10.0,>=0.3.0, but you have typer 0.12.3 which is incompatible.\u001b[0m\u001b[31m\n",
            "\u001b[0m"
          ]
        }
      ],
      "source": [
        "!pip3 install pip chromadb gradio langchain sentence_transformers pypdf --upgrade --quiet"
      ]
    },
    {
      "cell_type": "markdown",
      "id": "8cc865b9-45f3-4d5f-9d8f-3c24134c2004",
      "metadata": {
        "id": "8cc865b9-45f3-4d5f-9d8f-3c24134c2004"
      },
      "source": [
        "# Configuracion Embeddings"
      ]
    },
    {
      "cell_type": "code",
      "execution_count": null,
      "id": "40a2572f-fd6e-4c80-a528-e94f2f8a19c4",
      "metadata": {
        "colab": {
          "background_save": true
        },
        "id": "40a2572f-fd6e-4c80-a528-e94f2f8a19c4"
      },
      "outputs": [],
      "source": [
        "EMBEDDING_MODEL = \"intfloat/multilingual-e5-large\" # https://huggingface.co/models?library=sentence-transformers\n",
        "EMBEDDINGS_NORMALIZE = True\n",
        "EMBEDDINGS_QUERY_PROMPT = \"query: \""
      ]
    },
    {
      "cell_type": "code",
      "execution_count": null,
      "id": "a614d370-7171-42c4-9fbc-1f1ed3086ff5",
      "metadata": {
        "colab": {
          "background_save": true
        },
        "id": "a614d370-7171-42c4-9fbc-1f1ed3086ff5",
        "outputId": "13e6955f-bff3-4f16-d90b-2c386d5f61ca"
      },
      "outputs": [
        {
          "ename": "ModuleNotFoundError",
          "evalue": "No module named 'langchain_community'",
          "output_type": "error",
          "traceback": [
            "\u001b[0;31m---------------------------------------------------------------------------\u001b[0m",
            "\u001b[0;31mModuleNotFoundError\u001b[0m                       Traceback (most recent call last)",
            "\u001b[0;32m<ipython-input-3-809fe75188f1>\u001b[0m in \u001b[0;36m<cell line: 1>\u001b[0;34m()\u001b[0m\n\u001b[0;32m----> 1\u001b[0;31m \u001b[0;32mfrom\u001b[0m \u001b[0mlangchain_community\u001b[0m\u001b[0;34m.\u001b[0m\u001b[0membeddings\u001b[0m \u001b[0;32mimport\u001b[0m \u001b[0mHuggingFaceEmbeddings\u001b[0m\u001b[0;34m\u001b[0m\u001b[0;34m\u001b[0m\u001b[0m\n\u001b[0m\u001b[1;32m      2\u001b[0m \u001b[0;34m\u001b[0m\u001b[0m\n\u001b[1;32m      3\u001b[0m \u001b[0mencode_kwargs\u001b[0m \u001b[0;34m=\u001b[0m \u001b[0;34m{\u001b[0m\u001b[0;34m'normalize_embeddings'\u001b[0m\u001b[0;34m:\u001b[0m \u001b[0mEMBEDDINGS_NORMALIZE\u001b[0m\u001b[0;34m}\u001b[0m\u001b[0;34m\u001b[0m\u001b[0;34m\u001b[0m\u001b[0m\n\u001b[1;32m      4\u001b[0m \u001b[0;34m\u001b[0m\u001b[0m\n\u001b[1;32m      5\u001b[0m \u001b[0membeddings\u001b[0m \u001b[0;34m=\u001b[0m \u001b[0mHuggingFaceEmbeddings\u001b[0m\u001b[0;34m(\u001b[0m\u001b[0mmodel_name\u001b[0m\u001b[0;34m=\u001b[0m\u001b[0mEMBEDDING_MODEL\u001b[0m\u001b[0;34m,\u001b[0m\u001b[0mencode_kwargs\u001b[0m\u001b[0;34m=\u001b[0m\u001b[0mencode_kwargs\u001b[0m\u001b[0;34m)\u001b[0m\u001b[0;34m\u001b[0m\u001b[0;34m\u001b[0m\u001b[0m\n",
            "\u001b[0;31mModuleNotFoundError\u001b[0m: No module named 'langchain_community'",
            "",
            "\u001b[0;31m---------------------------------------------------------------------------\u001b[0;32m\nNOTE: If your import is failing due to a missing package, you can\nmanually install dependencies using either !pip or !apt.\n\nTo view examples of installing some common dependencies, click the\n\"Open Examples\" button below.\n\u001b[0;31m---------------------------------------------------------------------------\u001b[0m\n"
          ]
        }
      ],
      "source": [
        "from langchain_community.embeddings import HuggingFaceEmbeddings\n",
        "\n",
        "encode_kwargs = {'normalize_embeddings': EMBEDDINGS_NORMALIZE}\n",
        "\n",
        "embeddings = HuggingFaceEmbeddings(model_name=EMBEDDING_MODEL,encode_kwargs=encode_kwargs)"
      ]
    },
    {
      "cell_type": "markdown",
      "id": "435ae9eb-0244-4119-b8bf-97e9d62cbea7",
      "metadata": {
        "id": "435ae9eb-0244-4119-b8bf-97e9d62cbea7"
      },
      "source": [
        "# Configuracion DB"
      ]
    },
    {
      "cell_type": "code",
      "execution_count": null,
      "id": "1c602d8a-add2-40da-ae5c-745d735cd2dd",
      "metadata": {
        "id": "1c602d8a-add2-40da-ae5c-745d735cd2dd"
      },
      "outputs": [],
      "source": [
        "DB = \"chromadb\" # chromadb | faiss"
      ]
    },
    {
      "cell_type": "code",
      "execution_count": null,
      "id": "2213b81a-d2ec-4734-b1ae-73a96af92237",
      "metadata": {
        "colab": {
          "base_uri": "https://localhost:8080/",
          "height": 120
        },
        "id": "2213b81a-d2ec-4734-b1ae-73a96af92237",
        "outputId": "e2648ba4-4368-41a5-8a4c-b5694c180ba2"
      },
      "outputs": [
        {
          "name": "stderr",
          "output_type": "stream",
          "text": [
            "/usr/local/lib/python3.10/dist-packages/_distutils_hack/__init__.py:33: UserWarning: Setuptools is replacing distutils.\n",
            "  warnings.warn(\"Setuptools is replacing distutils.\")\n",
            "WARNING: pip is being invoked by an old script wrapper. This will fail in a future version of pip.\n",
            "Please see https://github.com/pypa/pip/issues/5599 for advice on fixing the underlying issue.\n",
            "To avoid this problem you can invoke Python with '-m pip' instead of running pip directly.\n"
          ]
        },
        {
          "data": {
            "text/html": [
              "<pre style=\"white-space:pre;overflow-x:auto;line-height:normal;font-family:Menlo,'DejaVu Sans Mono',consolas,'Courier New',monospace\"><span style=\"color: #808000; text-decoration-color: #808000\">WARNING: Running pip as the 'root' user can result in broken permissions and conflicting behaviour with the system package manager. It is recommended to use a virtual environment instead: https://pip.pypa.io/warnings/venv\n",
              "</span></pre>\n"
            ],
            "text/plain": [
              "\u001b[33mWARNING: Running pip as the 'root' user can result in broken permissions and conflicting behaviour with the system package manager. It is recommended to use a virtual environment instead: https://pip.pypa.io/warnings/venv\u001b[0m\u001b[33m\n",
              "\u001b[0m"
            ]
          },
          "metadata": {},
          "output_type": "display_data"
        }
      ],
      "source": [
        "import pip\n",
        "\n",
        "if DB == \"chromadb\":\n",
        "    pip.main([\"install\",\"chromadb\",\"--upgrade\",\"--quiet\"])\n",
        "    from langchain_community.vectorstores import Chroma as VectorStore\n",
        "elif DB == \"faiss\":\n",
        "    pip.main([\"install\",\"faiss-cpu\",\"--upgrade\",\"--quiet\"])\n",
        "    from langchain_community.vectorstores import FAISS as VectorStore\n",
        "else:\n",
        "    raise (\"Invalid vector store\")"
      ]
    },
    {
      "cell_type": "markdown",
      "id": "2b5423ab-f4a0-4733-8fdf-41f0d9219f5f",
      "metadata": {
        "id": "2b5423ab-f4a0-4733-8fdf-41f0d9219f5f"
      },
      "source": [
        "# Configuracion Splitter"
      ]
    },
    {
      "cell_type": "code",
      "execution_count": null,
      "id": "e31cc8e5-75a0-4472-97fb-7ee16e925599",
      "metadata": {
        "id": "e31cc8e5-75a0-4472-97fb-7ee16e925599"
      },
      "outputs": [],
      "source": [
        "SPLITTER = \"recursive\" # recursive |\n",
        "\n",
        "TEXT_SPLITTER_CHUNKSIZE = 1000 # Tamano en caracteres del bloque de texto\n",
        "TEXT_SPLITTER_OVERLAP = 200    # Tamano en caracteres del la superposicion entre bloques\n",
        "TEXT_SPLITTER_SEPARATORS = [\"\\n\\n\",\"\\n\",\".\",\" \"] # Separadores"
      ]
    },
    {
      "cell_type": "code",
      "execution_count": null,
      "id": "e7b725df-7d56-43f1-bf4c-6aa4872afcc2",
      "metadata": {
        "colab": {
          "background_save": true
        },
        "id": "e7b725df-7d56-43f1-bf4c-6aa4872afcc2"
      },
      "outputs": [],
      "source": [
        "if SPLITTER == \"recursive\":\n",
        "    from langchain_text_splitters import RecursiveCharacterTextSplitter\n",
        "    text_splitter = RecursiveCharacterTextSplitter(chunk_size=TEXT_SPLITTER_CHUNKSIZE,\n",
        "                                                   chunk_overlap=TEXT_SPLITTER_OVERLAP,\n",
        "                                                   separators=TEXT_SPLITTER_SEPARATORS)\n",
        "else:\n",
        "    raise (\"Invalid splitter\")"
      ]
    },
    {
      "cell_type": "markdown",
      "id": "b87e229d-9013-4486-88b4-f2789d9fd3ca",
      "metadata": {
        "id": "b87e229d-9013-4486-88b4-f2789d9fd3ca"
      },
      "source": [
        "# Datos"
      ]
    },
    {
      "cell_type": "code",
      "execution_count": null,
      "id": "58bac22a-7d6f-48a4-bd0e-b1fef936d4c4",
      "metadata": {
        "id": "58bac22a-7d6f-48a4-bd0e-b1fef936d4c4"
      },
      "outputs": [],
      "source": [
        "from langchain_community.document_loaders import PyPDFLoader\n",
        "from langchain_community.document_loaders import YoutubeLoader"
      ]
    },
    {
      "cell_type": "markdown",
      "id": "1918dff0-5599-4ea8-8baa-76d725a200d9",
      "metadata": {
        "id": "1918dff0-5599-4ea8-8baa-76d725a200d9"
      },
      "source": [
        "### Youtube libs"
      ]
    },
    {
      "cell_type": "code",
      "execution_count": null,
      "id": "805bfee6-73f6-4ed8-a0c0-27eb17d3a8d3",
      "metadata": {
        "colab": {
          "base_uri": "https://localhost:8080/"
        },
        "id": "805bfee6-73f6-4ed8-a0c0-27eb17d3a8d3",
        "outputId": "f7f6dd27-f0e6-4dc8-e76a-a8e72c7d7f6d"
      },
      "outputs": [
        {
          "name": "stdout",
          "output_type": "stream",
          "text": [
            "\u001b[?25l   \u001b[90m━━━━━━━━━━━━━━━━━━━━━━━━━━━━━━━━━━━━━━━━\u001b[0m \u001b[32m0.0/57.6 kB\u001b[0m \u001b[31m?\u001b[0m eta \u001b[36m-:--:--\u001b[0m\r\u001b[2K   \u001b[90m━━━━━━━━━━━━━━━━━━━━━━━━━━━━━━━━━━━━━━━━\u001b[0m \u001b[32m57.6/57.6 kB\u001b[0m \u001b[31m3.2 MB/s\u001b[0m eta \u001b[36m0:00:00\u001b[0m\n",
            "\u001b[?25h\u001b[33mWARNING: Running pip as the 'root' user can result in broken permissions and conflicting behaviour with the system package manager. It is recommended to use a virtual environment instead: https://pip.pypa.io/warnings/venv\u001b[0m\u001b[33m\n",
            "\u001b[0m"
          ]
        }
      ],
      "source": [
        "!pip install youtube-transcript-api pytube --quiet"
      ]
    },
    {
      "cell_type": "code",
      "execution_count": null,
      "id": "74108a2d-309a-4507-9a3b-a2c49b71260a",
      "metadata": {
        "id": "74108a2d-309a-4507-9a3b-a2c49b71260a"
      },
      "outputs": [],
      "source": [
        "PDF_FILES = []\n",
        "YOUTUBE_URLS = [\"https://www.youtube.com/watch?v=Z3aWHMg92_U\"]"
      ]
    },
    {
      "cell_type": "code",
      "execution_count": null,
      "id": "38dad84c-d6f0-497a-b1d5-07f5e3daf70b",
      "metadata": {
        "id": "38dad84c-d6f0-497a-b1d5-07f5e3daf70b"
      },
      "outputs": [],
      "source": [
        "raw_docs = []"
      ]
    },
    {
      "cell_type": "code",
      "execution_count": null,
      "id": "50f9c647-81b0-40ac-be7b-f8636217cd8b",
      "metadata": {
        "id": "50f9c647-81b0-40ac-be7b-f8636217cd8b"
      },
      "outputs": [],
      "source": [
        "for pdf in PDF_FILES:\n",
        "    raw_docs += PyPDFLoader(pdf).load()\n",
        "\n",
        "for vid in YOUTUBE_URLS:\n",
        "    raw_docs += YoutubeLoader.from_youtube_url(\n",
        "    vid,\n",
        "    add_video_info=True,\n",
        "    language=[\"en\", \"id\"],\n",
        "    translation=\"es\",\n",
        ").load()\n"
      ]
    },
    {
      "cell_type": "code",
      "execution_count": null,
      "id": "8c518bc5-4a62-4305-b73f-853a0c811b77",
      "metadata": {
        "id": "8c518bc5-4a62-4305-b73f-853a0c811b77"
      },
      "outputs": [],
      "source": [
        "documents = text_splitter.split_documents(raw_docs)\n",
        "db = VectorStore.from_documents(documents, embeddings)"
      ]
    },
    {
      "cell_type": "code",
      "execution_count": null,
      "id": "2d8c7cd9-e502-4cc7-8b30-c73277232df4",
      "metadata": {
        "id": "2d8c7cd9-e502-4cc7-8b30-c73277232df4"
      },
      "outputs": [],
      "source": [
        "retriever = db.as_retriever()"
      ]
    },
    {
      "cell_type": "markdown",
      "id": "5a00cdb4-aa1a-4cd9-9cc6-28fef12c2c1f",
      "metadata": {
        "id": "5a00cdb4-aa1a-4cd9-9cc6-28fef12c2c1f"
      },
      "source": [
        "# Gradio Server"
      ]
    },
    {
      "cell_type": "code",
      "execution_count": null,
      "id": "ae6c1e10-f69a-4c1d-8c9c-5a45c5970840",
      "metadata": {
        "colab": {
          "base_uri": "https://localhost:8080/",
          "height": 695
        },
        "id": "ae6c1e10-f69a-4c1d-8c9c-5a45c5970840",
        "outputId": "ee208caf-7dac-4d1d-b4b5-0ed2f0237b10"
      },
      "outputs": [
        {
          "name": "stderr",
          "output_type": "stream",
          "text": [
            "/usr/local/lib/python3.10/dist-packages/gradio/utils.py:985: UserWarning: Expected 1 arguments for function <function <lambda> at 0x7f8c29019cf0>, received 0.\n",
            "  warnings.warn(\n",
            "/usr/local/lib/python3.10/dist-packages/gradio/utils.py:989: UserWarning: Expected at least 1 arguments for function <function <lambda> at 0x7f8c29019cf0>, received 0.\n",
            "  warnings.warn(\n"
          ]
        },
        {
          "name": "stdout",
          "output_type": "stream",
          "text": [
            "Setting queue=True in a Colab notebook requires sharing enabled. Setting `share=True` (you can turn this off by setting `share=False` in `launch()` explicitly).\n",
            "\n",
            "Colab notebook detected. To show errors in colab notebook, set debug=True in launch()\n",
            "Running on public URL: https://ce449898d106de2358.gradio.live\n",
            "\n",
            "This share link expires in 72 hours. For free permanent hosting and GPU upgrades, run `gradio deploy` from Terminal to deploy to Spaces (https://huggingface.co/spaces)\n"
          ]
        },
        {
          "data": {
            "text/html": [
              "<div><iframe src=\"https://ce449898d106de2358.gradio.live\" width=\"100%\" height=\"500\" allow=\"autoplay; camera; microphone; clipboard-read; clipboard-write;\" frameborder=\"0\" allowfullscreen></iframe></div>"
            ],
            "text/plain": [
              "<IPython.core.display.HTML object>"
            ]
          },
          "metadata": {},
          "output_type": "display_data"
        }
      ],
      "source": [
        "import gradio as gr\n",
        "\n",
        "with gr.Blocks() as demo:\n",
        "    chatbot = gr.Chatbot(likeable=True,layout=\"bubble\",height=\"70%\")\n",
        "    msg = gr.Textbox()\n",
        "    clear = gr.ClearButton([msg, chatbot])\n",
        "    shutdown = gr.Button(value=\"Shutdown\")\n",
        "    shutdown.click(lambda _:demo.close())\n",
        "\n",
        "    last_docs = gr.State(None)\n",
        "    last_docs_index = gr.State(0)\n",
        "\n",
        "    def respond(message, chat_history, last_docs, last_docs_index):\n",
        "        if not chat_history:\n",
        "            chat_history.append((message, \"Hola, en que puedo ayudarte?\"))\n",
        "            return \"\", chat_history, last_docs, last_docs_index\n",
        "\n",
        "        if last_docs:\n",
        "            if \"si\" in message:\n",
        "                last_docs = None\n",
        "                chat_history.append((message, \"Genial! Si tenes otra consulta decime.\"))\n",
        "                return \"\", chat_history, last_docs, last_docs_index\n",
        "\n",
        "            last_docs_index += 1\n",
        "\n",
        "            if len(last_docs) <= last_docs_index:\n",
        "                chat_history.append((message, \"Lamento no haber encontrado una respuesta. Intenta haciendo la pregunta de forma distinta.\"))\n",
        "                last_docs = None\n",
        "                return \"\", chat_history, last_docs, last_docs_index\n",
        "\n",
        "            doc = last_docs[last_docs_index]\n",
        "            bot_message = f\"Tambien habia encontrado esto:\\n\\n``` {doc.page_content} \\n```\\n\\nEsta en {doc.metadata['source']} en la pagina {doc.metadata['page']}. ¿Esto si te sirvio?\"\n",
        "            chat_history.append((message, bot_message))\n",
        "            return \"\", chat_history, last_docs, last_docs_index\n",
        "\n",
        "        docs = retriever.get_relevant_documents(EMBEDDINGS_QUERY_PROMPT+message.lower())\n",
        "        last_docs = docs\n",
        "\n",
        "        last_docs_index = 0\n",
        "        doc = docs[last_docs_index]\n",
        "\n",
        "        bot_message = f\"Encontre esto:\\n\\n``` {doc.page_content} \\n```\\n\\nEsta en {doc.metadata['source']} en la pagina {doc.metadata['page']}. ¿Te sirvio?\"\n",
        "\n",
        "        chat_history.append((message, bot_message))\n",
        "        return \"\", chat_history, last_docs, last_docs_index\n",
        "\n",
        "    msg.submit(respond, [msg, chatbot, last_docs, last_docs_index], [msg, chatbot,last_docs, last_docs_index])\n",
        "\n",
        "if __name__ == \"__main__\":\n",
        "    demo.launch(server_name=\"0.0.0.0\", server_port=7860)"
      ]
    },
    {
      "cell_type": "code",
      "execution_count": null,
      "id": "c8225e45-381e-403c-a9fe-4e5726a7359f",
      "metadata": {
        "colab": {
          "base_uri": "https://localhost:8080/"
        },
        "id": "c8225e45-381e-403c-a9fe-4e5726a7359f",
        "outputId": "2cb0a62e-bf33-4567-d33b-bdf1045c2aa7"
      },
      "outputs": [
        {
          "name": "stdout",
          "output_type": "stream",
          "text": [
            "Closing server running on port: 7860\n"
          ]
        }
      ],
      "source": [
        "demo.close()"
      ]
    },
    {
      "cell_type": "code",
      "execution_count": null,
      "id": "DP1v6UOZ4NGH",
      "metadata": {
        "colab": {
          "base_uri": "https://localhost:8080/",
          "height": 276
        },
        "id": "DP1v6UOZ4NGH",
        "outputId": "b3b639d8-6b73-42cd-b253-cc6f06a55a45"
      },
      "outputs": [
        {
          "data": {
            "text/html": [
              "<pre style=\"white-space:pre;overflow-x:auto;line-height:normal;font-family:Menlo,'DejaVu Sans Mono',consolas,'Courier New',monospace\"><span style=\"color: #808000; text-decoration-color: #808000\">WARNING: Number of requested results 4 is greater than number of elements in index 3, updating n_results = 3\n",
              "</span></pre>\n"
            ],
            "text/plain": [
              "\u001b[33mWARNING: Number of requested results 4 is greater than number of elements in index 3, updating n_results = 3\u001b[0m\u001b[33m\n",
              "\u001b[0m"
            ]
          },
          "metadata": {},
          "output_type": "display_data"
        },
        {
          "data": {
            "text/plain": [
              "[Document(page_content='¿Aún recuerdas por qué Izumo forjó estas espadas? Porque en tiempos pasados, cuando los Yaoyorozu-no-Kami descendieron aquí, provocaron muerte y desastre en este mundo y su gente. Para salvar el mundo, Izumo partió 70.033 espadas y las forjó en los 12 Centinelas. La primera fue la \"Verdad\", forjada por el Soberano de la Revelación. Podría enseñar a los mortales el camino de la ley y crear milagros a partir de la deconstrucción de todas las cosas. El segundo fue \"Sky\", forjado por el Eternal Zenith. Podría formar una barrera desde el firmamento e impedir el paso de los innumerables dioses de la miseria. El tercero fue \"Aullido\", capaz de convocar relámpagos para desgarrar los cielos y meteoritos para hacer llover el castigo divino. El cuarto fue \"Mist\", capaz de romper la tierra y rasgar las nubes con viento y lluvia cortantes. El quinto fue \"Frost\", congelando la tierra en un instante. El sexto fue \"Destino\", el inquieto ciclo de la vida y la muerte', metadata={'author': 'Honkai: Star Rail', 'description': 'Unknown', 'length': 242, 'publish_date': '2024-03-21 00:00:00', 'source': 'Z3aWHMg92_U', 'thumbnail_url': 'https://i.ytimg.com/vi/Z3aWHMg92_U/hq720.jpg', 'title': 'Myriad Celestia Trailer — \"Kyoden: A Cleave Across the Transient World\" | Honkai: Star Rail', 'view_count': 2244468}),\n",
              " Document(page_content='. Empeñamos todo, todo por la destrucción de dos mundos. En tiempos pasados, Takamagahara sobre el cual descendieron los Kami... era seguramente tan hermoso como Izumo. Entonces... ¿ Aún recuerdas por qué Izumo forjó estas espadas? Por una mentira. Un final que nunca existió.  Hace mucho que caminamos hacia SU sombra, cada paso adelante es uno del que nunca podremos retroceder... ...hasta que la última espada (Vida) se forja en... ...\"Nada\". Sabía que este mundo era fugaz... ...y sin embargo... y sin embargo...', metadata={'author': 'Honkai: Star Rail', 'description': 'Unknown', 'length': 242, 'publish_date': '2024-03-21 00:00:00', 'source': 'Z3aWHMg92_U', 'thumbnail_url': 'https://i.ytimg.com/vi/Z3aWHMg92_U/hq720.jpg', 'title': 'Myriad Celestia Trailer — \"Kyoden: A Cleave Across the Transient World\" | Honkai: Star Rail', 'view_count': 2244468}),\n",
              " Document(page_content='. El quinto fue \"Frost\", congelando la tierra en un instante. El sexto fue \"Destino\", el inquieto ciclo de la vida y la muerte. Luego estaban \"Llamarada\", \"Pensamiento\", \" Raíz\", \" Forma\", \"Unir\", \"Fauces\". Con esos centinelas aprovechamos las expectativas del mañana, ganando victoria tras victoria, hasta que... ...todas se rompieron. El precio de cada victoria fue un mundo en su totalidad... y al final, esa totalidad se perdió. Y entonces Izumo dividió a doce Centinelas... y los forjó en dos Portadores. El primero fue \"Origen\". El segundo fue \"Fin\". El mundo forjó 70.047 espadas y solo una pudo salvar a Izumo. Pero tú y yo sabemos... ...el camino a la salvación no existe. No hay rastro del mañana... Al resistir a los Kamigami, la humanidad eventualmente se convertirá en oni (Fin). Empeñamos todo, todo por la destrucción de dos mundos. En tiempos pasados, Takamagahara sobre el cual descendieron los Kami... era seguramente tan hermoso como Izumo. Entonces..', metadata={'author': 'Honkai: Star Rail', 'description': 'Unknown', 'length': 242, 'publish_date': '2024-03-21 00:00:00', 'source': 'Z3aWHMg92_U', 'thumbnail_url': 'https://i.ytimg.com/vi/Z3aWHMg92_U/hq720.jpg', 'title': 'Myriad Celestia Trailer — \"Kyoden: A Cleave Across the Transient World\" | Honkai: Star Rail', 'view_count': 2244468})]"
            ]
          },
          "execution_count": 20,
          "metadata": {},
          "output_type": "execute_result"
        }
      ],
      "source": [
        "retriever.get_relevant_documents(EMBEDDINGS_QUERY_PROMPT+\"why did izumo forge the swords?\".lower())"
      ]
    },
    {
      "cell_type": "code",
      "execution_count": null,
      "id": "TgXLuhSB4Zln",
      "metadata": {
        "colab": {
          "base_uri": "https://localhost:8080/"
        },
        "id": "TgXLuhSB4Zln",
        "outputId": "db91d04c-52c1-4ab8-876f-6989a6c71d90"
      },
      "outputs": [
        {
          "data": {
            "text/html": [
              "<pre style=\"white-space:pre;overflow-x:auto;line-height:normal;font-family:Menlo,'DejaVu Sans Mono',consolas,'Courier New',monospace\"><span style=\"color: #808000; text-decoration-color: #808000\">WARNING: Number of requested results 4 is greater than number of elements in index 3, updating n_results = 3\n",
              "</span></pre>\n"
            ],
            "text/plain": [
              "\u001b[33mWARNING: Number of requested results 4 is greater than number of elements in index 3, updating n_results = 3\u001b[0m\u001b[33m\n",
              "\u001b[0m"
            ]
          },
          "metadata": {},
          "output_type": "display_data"
        },
        {
          "data": {
            "application/vnd.google.colaboratory.intrinsic+json": {
              "type": "string"
            },
            "text/plain": [
              "'¿Aún recuerdas por qué Izumo forjó estas espadas? Porque en tiempos pasados, cuando los Yaoyorozu-no-Kami descendieron aquí, provocaron muerte y desastre en este mundo y su gente. Para salvar el mundo, Izumo partió 70.033 espadas y las forjó en los 12 Centinelas. La primera fue la \"Verdad\", forjada por el Soberano de la Revelación. Podría enseñar a los mortales el camino de la ley y crear milagros a partir de la deconstrucción de todas las cosas. El segundo fue \"Sky\", forjado por el Eternal Zenith. Podría formar una barrera desde el firmamento e impedir el paso de los innumerables dioses de la miseria. El tercero fue \"Aullido\", capaz de convocar relámpagos para desgarrar los cielos y meteoritos para hacer llover el castigo divino. El cuarto fue \"Mist\", capaz de romper la tierra y rasgar las nubes con viento y lluvia cortantes. El quinto fue \"Frost\", congelando la tierra en un instante. El sexto fue \"Destino\", el inquieto ciclo de la vida y la muerte'"
            ]
          },
          "execution_count": 22,
          "metadata": {},
          "output_type": "execute_result"
        }
      ],
      "source": [
        "retriever.get_relevant_documents(EMBEDDINGS_QUERY_PROMPT+\"why did izumo forge the swords?\".lower())[0].page_content"
      ]
    },
    {
      "cell_type": "code",
      "execution_count": null,
      "id": "WcZ7G2V-5AZ9",
      "metadata": {
        "id": "WcZ7G2V-5AZ9"
      },
      "outputs": [],
      "source": []
    }
  ],
  "metadata": {
    "colab": {
      "provenance": []
    },
    "kernelspec": {
      "display_name": "Python 3 (ipykernel)",
      "language": "python",
      "name": "python3"
    },
    "language_info": {
      "codemirror_mode": {
        "name": "ipython",
        "version": 3
      },
      "file_extension": ".py",
      "mimetype": "text/x-python",
      "name": "python",
      "nbconvert_exporter": "python",
      "pygments_lexer": "ipython3",
      "version": "3.11.8"
    }
  },
  "nbformat": 4,
  "nbformat_minor": 5
}