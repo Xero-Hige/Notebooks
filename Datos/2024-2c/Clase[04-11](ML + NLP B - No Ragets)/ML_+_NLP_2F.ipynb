{
  "nbformat": 4,
  "nbformat_minor": 0,
  "metadata": {
    "colab": {
      "provenance": []
    },
    "kernelspec": {
      "name": "python3",
      "display_name": "Python 3"
    },
    "language_info": {
      "name": "python"
    }
  },
  "cells": [
    {
      "cell_type": "code",
      "execution_count": null,
      "metadata": {
        "id": "nKwOToDa66Rm"
      },
      "outputs": [],
      "source": [
        "import torch\n",
        "import torch.nn as nn\n",
        "\n",
        "class SelfAttention(nn.Module):\n",
        "\n",
        "    def __init__(self):\n",
        "        super().__init__()\n",
        "        self.W_query = nn.Parameter(torch.Tensor([[0,1],[0,1]]))\n",
        "        self.W_key   = nn.Parameter(torch.Tensor([[1,1],[1,1]]))\n",
        "        self.W_value = nn.Parameter(torch.Tensor([[0.2,0.5,0.4],[0.3,0.9,0.2]]))\n",
        "\n",
        "    def forward(self, x):\n",
        "        keys = x @ self.W_key\n",
        "        queries = x @ self.W_query\n",
        "\n",
        "        attn_scores = queries @ keys.T\n",
        "\n",
        "        print(\"Keys\")\n",
        "        print(keys,\"\\n\\n\")\n",
        "\n",
        "        print(\"Querys\")\n",
        "        print(queries,\"\\n\\n\")\n",
        "\n",
        "        print(\"Attn\")\n",
        "        print(attn_scores,\"\\n\\n\")\n",
        "\n",
        "\n",
        "        values = x @ self.W_value\n",
        "\n",
        "        print(\"Values\")\n",
        "        print(values,\"\\n\\n\")\n",
        "\n",
        "\n",
        "        context_vec = attn_scores @ values\n",
        "        return context_vec"
      ]
    },
    {
      "cell_type": "code",
      "source": [
        "s = SelfAttention()"
      ],
      "metadata": {
        "id": "HsLLyQTq7Mce"
      },
      "execution_count": null,
      "outputs": []
    },
    {
      "cell_type": "code",
      "source": [
        "s.W_query"
      ],
      "metadata": {
        "colab": {
          "base_uri": "https://localhost:8080/"
        },
        "id": "1czvbCqc7lIx",
        "outputId": "1dd9bbfc-c8c0-4213-e0b3-919bf369990c"
      },
      "execution_count": null,
      "outputs": [
        {
          "output_type": "execute_result",
          "data": {
            "text/plain": [
              "Parameter containing:\n",
              "tensor([[0., 1.],\n",
              "        [0., 1.]], requires_grad=True)"
            ]
          },
          "metadata": {},
          "execution_count": 3
        }
      ]
    },
    {
      "cell_type": "code",
      "source": [
        "with torch.no_grad():\n",
        "    result = s(torch.Tensor([[0,1],[0,0]]))\n",
        "\n",
        "print(\"Result\")\n",
        "print(result)"
      ],
      "metadata": {
        "colab": {
          "base_uri": "https://localhost:8080/"
        },
        "id": "hVn2Qq5Q7nz_",
        "outputId": "08a0c98d-7bd3-446e-94c2-8dc41b4b0c6c"
      },
      "execution_count": null,
      "outputs": [
        {
          "output_type": "stream",
          "name": "stdout",
          "text": [
            "Keys\n",
            "tensor([[1., 1.],\n",
            "        [0., 0.]]) \n",
            "\n",
            "\n",
            "Querys\n",
            "tensor([[0., 1.],\n",
            "        [0., 0.]]) \n",
            "\n",
            "\n",
            "Attn\n",
            "tensor([[1., 0.],\n",
            "        [0., 0.]]) \n",
            "\n",
            "\n",
            "Values\n",
            "tensor([[0.3000, 0.9000, 0.2000],\n",
            "        [0.0000, 0.0000, 0.0000]]) \n",
            "\n",
            "\n",
            "Result\n",
            "tensor([[0.3000, 0.9000, 0.2000],\n",
            "        [0.0000, 0.0000, 0.0000]])\n"
          ]
        }
      ]
    },
    {
      "cell_type": "code",
      "source": [
        "with torch.no_grad():\n",
        "    result = s(torch.Tensor([[0,1],[1,0]]))\n",
        "\n",
        "print(\"Result\")\n",
        "print(result)"
      ],
      "metadata": {
        "colab": {
          "base_uri": "https://localhost:8080/"
        },
        "id": "BgIhWPqV7yX7",
        "outputId": "a17775ed-7a4d-4d75-cd01-69a234eeeef9"
      },
      "execution_count": null,
      "outputs": [
        {
          "output_type": "stream",
          "name": "stdout",
          "text": [
            "Keys\n",
            "tensor([[1., 1.],\n",
            "        [1., 1.]]) \n",
            "\n",
            "\n",
            "Querys\n",
            "tensor([[0., 1.],\n",
            "        [0., 1.]]) \n",
            "\n",
            "\n",
            "Attn\n",
            "tensor([[1., 1.],\n",
            "        [1., 1.]]) \n",
            "\n",
            "\n",
            "Values\n",
            "tensor([[0.3000, 0.9000, 0.2000],\n",
            "        [0.2000, 0.5000, 0.4000]]) \n",
            "\n",
            "\n",
            "Result\n",
            "tensor([[0.5000, 1.4000, 0.6000],\n",
            "        [0.5000, 1.4000, 0.6000]])\n"
          ]
        }
      ]
    },
    {
      "cell_type": "code",
      "source": [
        "class CrossAttention(nn.Module):\n",
        "\n",
        "    def __init__(self):\n",
        "        super().__init__()\n",
        "        self.W_query = nn.Parameter(torch.Tensor([[0,1],[0,1]]))\n",
        "        self.W_key   = nn.Parameter(torch.Tensor([[1,1],[1,1]]))\n",
        "        self.W_value = nn.Parameter(torch.Tensor([[0.2,0.5],[0.4,0.3]]))\n",
        "\n",
        "    def forward(self, spanish, english):\n",
        "        queries_1 = spanish @ self.W_query\n",
        "        keys_2 = english @ self.W_key\n",
        "\n",
        "        print(\"Keys\")\n",
        "        print(keys_2,\"\\n\\n\")\n",
        "\n",
        "        print(\"Querys\")\n",
        "        print(queries_1,\"\\n\\n\")\n",
        "\n",
        "        attn_scores = queries_1 @ keys_2.T\n",
        "\n",
        "        print(\"Attn\")\n",
        "        print(attn_scores,\"\\n\\n\")\n",
        "\n",
        "        values_2 = english @ self.W_value\n",
        "\n",
        "        print(\"Values\")\n",
        "        print(values_2,\"\\n\\n\")\n",
        "\n",
        "\n",
        "        return attn_scores @ values_2"
      ],
      "metadata": {
        "id": "_omO5o_N9jUj"
      },
      "execution_count": null,
      "outputs": []
    },
    {
      "cell_type": "code",
      "source": [
        "c = CrossAttention()"
      ],
      "metadata": {
        "id": "egJiYcry_Tjd"
      },
      "execution_count": null,
      "outputs": []
    },
    {
      "cell_type": "code",
      "source": [
        "with torch.no_grad():\n",
        "    #                          MI    AUTO                   MY     LITTLE   PONY\n",
        "    result = c(torch.Tensor([[0,1],[1,0.5]]),torch.Tensor([[1,1],[0.2,0.5],[0.5,0]]))\n",
        "\n",
        "print(\"Result\")\n",
        "print(result)"
      ],
      "metadata": {
        "colab": {
          "base_uri": "https://localhost:8080/"
        },
        "id": "ck_L2J55_Y_1",
        "outputId": "4ad521f5-84ba-44ec-c874-a651d9754c9b"
      },
      "execution_count": null,
      "outputs": [
        {
          "output_type": "stream",
          "name": "stdout",
          "text": [
            "Keys\n",
            "tensor([[2.0000, 2.0000],\n",
            "        [0.7000, 0.7000],\n",
            "        [0.5000, 0.5000]]) \n",
            "\n",
            "\n",
            "Querys\n",
            "tensor([[0.0000, 1.0000],\n",
            "        [0.0000, 1.5000]]) \n",
            "\n",
            "\n",
            "Attn\n",
            "tensor([[2.0000, 0.7000, 0.5000],\n",
            "        [3.0000, 1.0500, 0.7500]]) \n",
            "\n",
            "\n",
            "Values\n",
            "tensor([[0.6000, 0.8000],\n",
            "        [0.2400, 0.2500],\n",
            "        [0.1000, 0.2500]]) \n",
            "\n",
            "\n",
            "Result\n",
            "tensor([[1.4180, 1.9000],\n",
            "        [2.1270, 2.8500]])\n"
          ]
        }
      ]
    },
    {
      "cell_type": "code",
      "source": [],
      "metadata": {
        "id": "-LJhF7Xt_f2G"
      },
      "execution_count": null,
      "outputs": []
    }
  ]
}