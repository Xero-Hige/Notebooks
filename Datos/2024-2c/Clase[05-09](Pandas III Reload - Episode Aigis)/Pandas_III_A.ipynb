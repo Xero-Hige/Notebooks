{
  "nbformat": 4,
  "nbformat_minor": 0,
  "metadata": {
    "colab": {
      "provenance": []
    },
    "kernelspec": {
      "name": "python3",
      "display_name": "Python 3"
    },
    "language_info": {
      "name": "python"
    }
  },
  "cells": [
    {
      "cell_type": "code",
      "execution_count": null,
      "metadata": {
        "id": "HA6E5pT5dvYZ"
      },
      "outputs": [],
      "source": [
        "!wget https://raw.githubusercontent.com/KasumiL5x/hltb-scraper/master/all-games.csv\n",
        "!wget https://raw.githubusercontent.com/KasumiL5x/hltb-scraper/master/all-completions.csv\n",
        "!wget https://raw.githubusercontent.com/KasumiL5x/hltb-scraper/master/all-games-processed.csv"
      ]
    },
    {
      "cell_type": "code",
      "source": [
        "import pandas as pd\n",
        "import numpy as np"
      ],
      "metadata": {
        "id": "fDhB9S0Ee7M7"
      },
      "execution_count": null,
      "outputs": []
    },
    {
      "cell_type": "code",
      "source": [
        "pd.read_csv(\"all-games-processed.csv\")"
      ],
      "metadata": {
        "id": "DSNKaf0te-6g"
      },
      "execution_count": null,
      "outputs": []
    },
    {
      "cell_type": "code",
      "source": [
        "pd.read_csv(\"all-completions.csv\")"
      ],
      "metadata": {
        "id": "kFEtzrLIfDOU"
      },
      "execution_count": null,
      "outputs": []
    }
  ]
}