{
  "nbformat": 4,
  "nbformat_minor": 0,
  "metadata": {
    "colab": {
      "provenance": []
    },
    "kernelspec": {
      "name": "python3",
      "display_name": "Python 3"
    },
    "language_info": {
      "name": "python"
    }
  },
  "cells": [
    {
      "cell_type": "markdown",
      "source": [
        "https://www.stat.gov.rs/en-us/"
      ],
      "metadata": {
        "id": "I7pfNpAXmNFz"
      }
    },
    {
      "cell_type": "code",
      "execution_count": null,
      "metadata": {
        "id": "HA6E5pT5dvYZ"
      },
      "outputs": [],
      "source": [
        "!wget \"https://data.stat.gov.rs/Home/DisplayResult?languageCode=en-US&displayMode=exportCSV&subAreaId=180505&guid=a094603d-ef6b-4bfc-b34f-a30641cffb1f\" -O \"dataset.csv\""
      ]
    },
    {
      "cell_type": "code",
      "source": [
        "import pandas as pd"
      ],
      "metadata": {
        "id": "fDhB9S0Ee7M7"
      },
      "execution_count": null,
      "outputs": []
    },
    {
      "cell_type": "code",
      "source": [
        "pd.read_csv(\"dataset.csv\",sep=\";\")"
      ],
      "metadata": {
        "id": "DSNKaf0te-6g"
      },
      "execution_count": null,
      "outputs": []
    }
  ]
}