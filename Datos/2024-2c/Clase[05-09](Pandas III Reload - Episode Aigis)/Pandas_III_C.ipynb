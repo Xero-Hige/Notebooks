{
  "nbformat": 4,
  "nbformat_minor": 0,
  "metadata": {
    "colab": {
      "provenance": []
    },
    "kernelspec": {
      "name": "python3",
      "display_name": "Python 3"
    },
    "language_info": {
      "name": "python"
    }
  },
  "cells": [
    {
      "cell_type": "code",
      "execution_count": null,
      "metadata": {
        "id": "HA6E5pT5dvYZ"
      },
      "outputs": [],
      "source": [
        "!wget http://datos.salud.gob.ar/dataset/c1643775-18e1-40fd-9e7f-0cebb5b1abe6/resource/41691186-72d2-4c3b-a353-7e93fd50a7ed/download/arg_def_15_21.rar\n",
        "!unrar e ./arg_def_15_21.rar"
      ]
    },
    {
      "cell_type": "code",
      "source": [
        "import pandas as pd"
      ],
      "metadata": {
        "id": "fDhB9S0Ee7M7"
      },
      "execution_count": null,
      "outputs": []
    },
    {
      "cell_type": "code",
      "source": [
        "df = pd.read_csv(\"arg_def_15_21.csv\")"
      ],
      "metadata": {
        "id": "DSNKaf0te-6g"
      },
      "execution_count": null,
      "outputs": []
    },
    {
      "cell_type": "code",
      "source": [],
      "metadata": {
        "id": "vBkUDwLlntHn"
      },
      "execution_count": null,
      "outputs": []
    }
  ]
}