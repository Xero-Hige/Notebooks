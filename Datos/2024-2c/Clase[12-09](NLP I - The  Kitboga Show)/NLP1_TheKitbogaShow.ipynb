{
  "nbformat": 4,
  "nbformat_minor": 0,
  "metadata": {
    "colab": {
      "provenance": []
    },
    "kernelspec": {
      "name": "python3",
      "display_name": "Python 3"
    },
    "language_info": {
      "name": "python"
    }
  },
  "cells": [
    {
      "cell_type": "markdown",
      "source": [
        "# Problema Base: comparar cadenas"
      ],
      "metadata": {
        "id": "4Dmc2kINiS6T"
      }
    },
    {
      "cell_type": "code",
      "source": [
        "ord(\"A\")"
      ],
      "metadata": {
        "colab": {
          "base_uri": "https://localhost:8080/"
        },
        "id": "Td2jDaFtPS_E",
        "outputId": "87a672f0-0fc5-43d5-e918-3a760ca9cc07"
      },
      "execution_count": null,
      "outputs": [
        {
          "output_type": "execute_result",
          "data": {
            "text/plain": [
              "65"
            ]
          },
          "metadata": {},
          "execution_count": 1
        }
      ]
    },
    {
      "cell_type": "code",
      "source": [
        "ord(\"B\")"
      ],
      "metadata": {
        "colab": {
          "base_uri": "https://localhost:8080/"
        },
        "id": "F9wsTeaLPXBk",
        "outputId": "8914bd20-4fc1-41ba-feee-85058e0fb890"
      },
      "execution_count": null,
      "outputs": [
        {
          "output_type": "execute_result",
          "data": {
            "text/plain": [
              "66"
            ]
          },
          "metadata": {},
          "execution_count": 2
        }
      ]
    },
    {
      "cell_type": "code",
      "source": [
        "\"A\" == \"B\""
      ],
      "metadata": {
        "colab": {
          "base_uri": "https://localhost:8080/"
        },
        "id": "-Mt6mV_xPd1T",
        "outputId": "8b2e1ec9-a023-455f-f5e6-79a9afa04ace"
      },
      "execution_count": null,
      "outputs": [
        {
          "output_type": "execute_result",
          "data": {
            "text/plain": [
              "False"
            ]
          },
          "metadata": {},
          "execution_count": 3
        }
      ]
    },
    {
      "cell_type": "code",
      "source": [
        "\"A\" != \"B\""
      ],
      "metadata": {
        "colab": {
          "base_uri": "https://localhost:8080/"
        },
        "id": "ZKPFfDisPkPj",
        "outputId": "e97f3064-c12c-463e-9d26-6bb07ed0b574"
      },
      "execution_count": null,
      "outputs": [
        {
          "output_type": "execute_result",
          "data": {
            "text/plain": [
              "True"
            ]
          },
          "metadata": {},
          "execution_count": 4
        }
      ]
    },
    {
      "cell_type": "markdown",
      "source": [
        "Tengo implementadada la forma de checkear igualdad y desigualdad estricta, pero no tengo implementado nada flexible"
      ],
      "metadata": {
        "id": "1Jj30s3NidNT"
      }
    },
    {
      "cell_type": "code",
      "source": [
        "\"A\" ?? \"a\""
      ],
      "metadata": {
        "id": "duzP4xcPPmhQ",
        "colab": {
          "base_uri": "https://localhost:8080/",
          "height": 106
        },
        "outputId": "448ff53f-1f1e-464d-b89c-d32eee9b38b3"
      },
      "execution_count": null,
      "outputs": [
        {
          "output_type": "error",
          "ename": "SyntaxError",
          "evalue": "invalid syntax (<ipython-input-5-64d5e673526e>, line 1)",
          "traceback": [
            "\u001b[0;36m  File \u001b[0;32m\"<ipython-input-5-64d5e673526e>\"\u001b[0;36m, line \u001b[0;32m1\u001b[0m\n\u001b[0;31m    \"A\" ?? \"a\"\u001b[0m\n\u001b[0m        ^\u001b[0m\n\u001b[0;31mSyntaxError\u001b[0m\u001b[0;31m:\u001b[0m invalid syntax\n"
          ]
        }
      ]
    },
    {
      "cell_type": "markdown",
      "source": [
        "La primera vez que nos topamos con eso probablemente fue algo asi"
      ],
      "metadata": {
        "id": "iNRL2fBTin11"
      }
    },
    {
      "cell_type": "code",
      "source": [
        "while True:\n",
        "    print(\"Hola\")\n",
        "    entrada = input(\"Desea continuar? S/N\")\n",
        "    if entrada in [\"N\",\"n\",\"no\",\"No\",\"NO\"]:\n",
        "        break"
      ],
      "metadata": {
        "id": "i7SVeJ_nU6mz"
      },
      "execution_count": null,
      "outputs": []
    },
    {
      "cell_type": "markdown",
      "source": [
        "Pero para una cadena larga es mas complicado subsanar de esa forma."
      ],
      "metadata": {
        "id": "2_BH4Ub9isvC"
      }
    },
    {
      "cell_type": "code",
      "source": [
        "\"La casa es color verde\" ?? \"La casa tiene color verde\""
      ],
      "metadata": {
        "id": "WsAaZ264Pssd",
        "colab": {
          "base_uri": "https://localhost:8080/",
          "height": 106
        },
        "outputId": "8c8f3180-6520-46dc-8a90-9f2ae9e0cb25"
      },
      "execution_count": null,
      "outputs": [
        {
          "output_type": "error",
          "ename": "SyntaxError",
          "evalue": "invalid syntax (<ipython-input-6-a177d1ae5b18>, line 1)",
          "traceback": [
            "\u001b[0;36m  File \u001b[0;32m\"<ipython-input-6-a177d1ae5b18>\"\u001b[0;36m, line \u001b[0;32m1\u001b[0m\n\u001b[0;31m    \"La casa es color verde\" ?? \"La casa tiene color verde\"\u001b[0m\n\u001b[0m                             ^\u001b[0m\n\u001b[0;31mSyntaxError\u001b[0m\u001b[0;31m:\u001b[0m invalid syntax\n"
          ]
        }
      ]
    },
    {
      "cell_type": "markdown",
      "source": [
        "# 1 - Tokenize"
      ],
      "metadata": {
        "id": "DjpEB8iLXofl"
      }
    },
    {
      "cell_type": "code",
      "source": [
        "test_string = \"\"\"\n",
        "This is the mostly UNEDITED version of scammers wasting countless hours demanding more money and gift cards\n",
        "\"\"\""
      ],
      "metadata": {
        "id": "kTwBT52xXJMI"
      },
      "execution_count": null,
      "outputs": []
    },
    {
      "cell_type": "markdown",
      "source": [
        "La forma mas sencilla de tokenizar es separar por palabras"
      ],
      "metadata": {
        "id": "XqGrFl1Rizvj"
      }
    },
    {
      "cell_type": "code",
      "source": [
        "words = test_string.split()\n",
        "words"
      ],
      "metadata": {
        "colab": {
          "base_uri": "https://localhost:8080/"
        },
        "id": "pka0f39lYAU5",
        "outputId": "8ff7bc49-a157-4617-b767-2afcf000b08c"
      },
      "execution_count": null,
      "outputs": [
        {
          "output_type": "execute_result",
          "data": {
            "text/plain": [
              "['This',\n",
              " 'is',\n",
              " 'the',\n",
              " 'mostly',\n",
              " 'UNEDITED',\n",
              " 'version',\n",
              " 'of',\n",
              " 'scammers',\n",
              " 'wasting',\n",
              " 'countless',\n",
              " 'hours',\n",
              " 'demanding',\n",
              " 'more',\n",
              " 'money',\n",
              " 'and',\n",
              " 'gift',\n",
              " 'cards']"
            ]
          },
          "metadata": {},
          "execution_count": 8
        }
      ]
    },
    {
      "cell_type": "code",
      "source": [
        "window = [ test_string[i:i+3] for i in range(0,len(test_string),3) ]\n",
        "window"
      ],
      "metadata": {
        "colab": {
          "base_uri": "https://localhost:8080/"
        },
        "id": "3b-FqtN4YJXA",
        "outputId": "a1d424b7-c4d5-415b-a46c-4225630b8fc4"
      },
      "execution_count": null,
      "outputs": [
        {
          "output_type": "execute_result",
          "data": {
            "text/plain": [
              "['\\nTh',\n",
              " 'is ',\n",
              " 'is ',\n",
              " 'the',\n",
              " ' mo',\n",
              " 'stl',\n",
              " 'y U',\n",
              " 'NED',\n",
              " 'ITE',\n",
              " 'D v',\n",
              " 'ers',\n",
              " 'ion',\n",
              " ' of',\n",
              " ' sc',\n",
              " 'amm',\n",
              " 'ers',\n",
              " ' wa',\n",
              " 'sti',\n",
              " 'ng ',\n",
              " 'cou',\n",
              " 'ntl',\n",
              " 'ess',\n",
              " ' ho',\n",
              " 'urs',\n",
              " ' de',\n",
              " 'man',\n",
              " 'din',\n",
              " 'g m',\n",
              " 'ore',\n",
              " ' mo',\n",
              " 'ney',\n",
              " ' an',\n",
              " 'd g',\n",
              " 'ift',\n",
              " ' ca',\n",
              " 'rds',\n",
              " '\\n']"
            ]
          },
          "metadata": {},
          "execution_count": 9
        }
      ]
    },
    {
      "cell_type": "code",
      "source": [
        "slide = [ test_string[i:i+6] for i in range(0,len(test_string),3) ]\n",
        "slide"
      ],
      "metadata": {
        "colab": {
          "base_uri": "https://localhost:8080/"
        },
        "id": "OA88SjT5Y585",
        "outputId": "854eb1cb-1653-4689-f5c8-d30784953c8e"
      },
      "execution_count": null,
      "outputs": [
        {
          "output_type": "execute_result",
          "data": {
            "text/plain": [
              "['\\nThis ',\n",
              " 'is is ',\n",
              " 'is the',\n",
              " 'the mo',\n",
              " ' mostl',\n",
              " 'stly U',\n",
              " 'y UNED',\n",
              " 'NEDITE',\n",
              " 'ITED v',\n",
              " 'D vers',\n",
              " 'ersion',\n",
              " 'ion of',\n",
              " ' of sc',\n",
              " ' scamm',\n",
              " 'ammers',\n",
              " 'ers wa',\n",
              " ' wasti',\n",
              " 'sting ',\n",
              " 'ng cou',\n",
              " 'countl',\n",
              " 'ntless',\n",
              " 'ess ho',\n",
              " ' hours',\n",
              " 'urs de',\n",
              " ' deman',\n",
              " 'mandin',\n",
              " 'ding m',\n",
              " 'g more',\n",
              " 'ore mo',\n",
              " ' money',\n",
              " 'ney an',\n",
              " ' and g',\n",
              " 'd gift',\n",
              " 'ift ca',\n",
              " ' cards',\n",
              " 'rds\\n',\n",
              " '\\n']"
            ]
          },
          "metadata": {},
          "execution_count": 10
        }
      ]
    },
    {
      "cell_type": "markdown",
      "source": [
        "Pero tecnicamente todas esas cosas que no son palabras son formas validas (capaz no utiles) de tokenizar una cadena.\n",
        "\n",
        "Podemos ver un ejemplo funcional de un tokenizador que no separa estrictamente por palabras, y es el que se usa para ChatGPT"
      ],
      "metadata": {
        "id": "LTdzMWg7i5uU"
      }
    },
    {
      "cell_type": "code",
      "source": [
        "!pip install tiktoken"
      ],
      "metadata": {
        "colab": {
          "base_uri": "https://localhost:8080/"
        },
        "id": "nNJQ9iiCB7FZ",
        "outputId": "1ec11baf-a533-402d-fea3-b240dcd0dafa"
      },
      "execution_count": null,
      "outputs": [
        {
          "output_type": "stream",
          "name": "stdout",
          "text": [
            "Collecting tiktoken\n",
            "  Downloading tiktoken-0.7.0-cp310-cp310-manylinux_2_17_x86_64.manylinux2014_x86_64.whl.metadata (6.6 kB)\n",
            "Requirement already satisfied: regex>=2022.1.18 in /usr/local/lib/python3.10/dist-packages (from tiktoken) (2024.5.15)\n",
            "Requirement already satisfied: requests>=2.26.0 in /usr/local/lib/python3.10/dist-packages (from tiktoken) (2.32.3)\n",
            "Requirement already satisfied: charset-normalizer<4,>=2 in /usr/local/lib/python3.10/dist-packages (from requests>=2.26.0->tiktoken) (3.3.2)\n",
            "Requirement already satisfied: idna<4,>=2.5 in /usr/local/lib/python3.10/dist-packages (from requests>=2.26.0->tiktoken) (3.8)\n",
            "Requirement already satisfied: urllib3<3,>=1.21.1 in /usr/local/lib/python3.10/dist-packages (from requests>=2.26.0->tiktoken) (2.0.7)\n",
            "Requirement already satisfied: certifi>=2017.4.17 in /usr/local/lib/python3.10/dist-packages (from requests>=2.26.0->tiktoken) (2024.8.30)\n",
            "Downloading tiktoken-0.7.0-cp310-cp310-manylinux_2_17_x86_64.manylinux2014_x86_64.whl (1.1 MB)\n",
            "\u001b[2K   \u001b[90m━━━━━━━━━━━━━━━━━━━━━━━━━━━━━━━━━━━━━━━━\u001b[0m \u001b[32m1.1/1.1 MB\u001b[0m \u001b[31m5.1 MB/s\u001b[0m eta \u001b[36m0:00:00\u001b[0m\n",
            "\u001b[?25hInstalling collected packages: tiktoken\n",
            "Successfully installed tiktoken-0.7.0\n"
          ]
        }
      ]
    },
    {
      "cell_type": "code",
      "source": [
        "import tiktoken"
      ],
      "metadata": {
        "id": "LSPv8mnTBuHj"
      },
      "execution_count": null,
      "outputs": []
    },
    {
      "cell_type": "code",
      "source": [
        "enc = tiktoken.encoding_for_model(\"gpt-4o\")\n",
        "enc.encode(test_string)"
      ],
      "metadata": {
        "colab": {
          "base_uri": "https://localhost:8080/"
        },
        "id": "3ua46vkRCFsc",
        "outputId": "6b4be582-2cc9-45d0-fb4c-15564011a0be"
      },
      "execution_count": null,
      "outputs": [
        {
          "output_type": "execute_result",
          "data": {
            "text/plain": [
              "[198,\n",
              " 2500,\n",
              " 382,\n",
              " 290,\n",
              " 15646,\n",
              " 9014,\n",
              " 30370,\n",
              " 2252,\n",
              " 3926,\n",
              " 328,\n",
              " 134237,\n",
              " 70415,\n",
              " 39321,\n",
              " 5123,\n",
              " 43799,\n",
              " 945,\n",
              " 3905,\n",
              " 326,\n",
              " 10317,\n",
              " 10541,\n",
              " 198]"
            ]
          },
          "metadata": {},
          "execution_count": 13
        }
      ]
    },
    {
      "cell_type": "code",
      "source": [
        "[enc.decode([x]) for x in enc.encode(test_string)]"
      ],
      "metadata": {
        "colab": {
          "base_uri": "https://localhost:8080/"
        },
        "id": "zn7xqGHACx9w",
        "outputId": "19a9a73c-d3c6-43f3-aa58-d39bf5a462e2"
      },
      "execution_count": null,
      "outputs": [
        {
          "output_type": "execute_result",
          "data": {
            "text/plain": [
              "['\\n',\n",
              " 'This',\n",
              " ' is',\n",
              " ' the',\n",
              " ' mostly',\n",
              " ' UN',\n",
              " 'EDIT',\n",
              " 'ED',\n",
              " ' version',\n",
              " ' of',\n",
              " ' scammers',\n",
              " ' wasting',\n",
              " ' countless',\n",
              " ' hours',\n",
              " ' demanding',\n",
              " ' more',\n",
              " ' money',\n",
              " ' and',\n",
              " ' gift',\n",
              " ' cards',\n",
              " '\\n']"
            ]
          },
          "metadata": {},
          "execution_count": 14
        }
      ]
    },
    {
      "cell_type": "code",
      "source": [
        "[enc.decode([x]) for x in enc.encode(\"El carton corrugado este es horrible\")]"
      ],
      "metadata": {
        "colab": {
          "base_uri": "https://localhost:8080/"
        },
        "id": "3tKFIYPkKaPL",
        "outputId": "58c33e3d-ee47-44a8-b83f-2ffdbaa56b99"
      },
      "execution_count": null,
      "outputs": [
        {
          "output_type": "execute_result",
          "data": {
            "text/plain": [
              "['El', ' carton', ' corr', 'ug', 'ado', ' este', ' es', ' horrible']"
            ]
          },
          "metadata": {},
          "execution_count": 16
        }
      ]
    },
    {
      "cell_type": "markdown",
      "source": [
        "# 2 - Similaridad"
      ],
      "metadata": {
        "id": "-D8nJkj0bcue"
      }
    },
    {
      "cell_type": "markdown",
      "source": [
        "## Representacion de un documento: Bag Of Words"
      ],
      "metadata": {
        "id": "lJDtKEJpbmfN"
      }
    },
    {
      "cell_type": "code",
      "source": [
        "bow = set(sorted(words))\n",
        "bow"
      ],
      "metadata": {
        "colab": {
          "base_uri": "https://localhost:8080/"
        },
        "id": "SKUHphNOao0g",
        "outputId": "e2895819-8476-4650-b4fa-c075b5438e2b"
      },
      "execution_count": null,
      "outputs": [
        {
          "output_type": "execute_result",
          "data": {
            "text/plain": [
              "{'This',\n",
              " 'UNEDITED',\n",
              " 'and',\n",
              " 'cards',\n",
              " 'countless',\n",
              " 'demanding',\n",
              " 'gift',\n",
              " 'hours',\n",
              " 'is',\n",
              " 'money',\n",
              " 'more',\n",
              " 'mostly',\n",
              " 'of',\n",
              " 'scammers',\n",
              " 'the',\n",
              " 'version',\n",
              " 'wasting'}"
            ]
          },
          "metadata": {},
          "execution_count": 30
        }
      ]
    },
    {
      "cell_type": "code",
      "source": [
        "second_doc = set(\"A helpful rule of thumb is that one token generally corresponds to ~4 characters of text for common English text\".split())\n",
        "second_doc"
      ],
      "metadata": {
        "colab": {
          "base_uri": "https://localhost:8080/"
        },
        "id": "vy5LoFsFa6hj",
        "outputId": "2bc90b43-a3a0-4d07-913d-3a3280f1c992"
      },
      "execution_count": null,
      "outputs": [
        {
          "output_type": "execute_result",
          "data": {
            "text/plain": [
              "{'A',\n",
              " 'English',\n",
              " 'characters',\n",
              " 'common',\n",
              " 'corresponds',\n",
              " 'for',\n",
              " 'generally',\n",
              " 'helpful',\n",
              " 'is',\n",
              " 'of',\n",
              " 'one',\n",
              " 'rule',\n",
              " 'text',\n",
              " 'that',\n",
              " 'thumb',\n",
              " 'to',\n",
              " 'token',\n",
              " '~4'}"
            ]
          },
          "metadata": {},
          "execution_count": 31
        }
      ]
    },
    {
      "cell_type": "markdown",
      "source": [
        "Podemos definir una similaridad S tal que S(doc_1,doc_2) = 0 si son distintos, 1 si son iguales o valores intermedios como medida de que tan parecidos o no son\n",
        "\n",
        "Podemos de forma rustica implementarlo con nuesto BoW (usando los metodos de set) como la cantidad de palabras que comparten sobre la cantidad total de palabras"
      ],
      "metadata": {
        "id": "udIdfB2xcCfH"
      }
    },
    {
      "cell_type": "code",
      "source": [
        "compartidas = bow.intersection(second_doc)\n",
        "compartidas"
      ],
      "metadata": {
        "colab": {
          "base_uri": "https://localhost:8080/"
        },
        "id": "V-18b0VIb3m3",
        "outputId": "5a20ed52-d1ec-48d9-db8d-c38547e2b820"
      },
      "execution_count": null,
      "outputs": [
        {
          "output_type": "execute_result",
          "data": {
            "text/plain": [
              "{'is', 'of'}"
            ]
          },
          "metadata": {},
          "execution_count": 32
        }
      ]
    },
    {
      "cell_type": "code",
      "source": [
        "totales = bow.union(second_doc)\n",
        "totales"
      ],
      "metadata": {
        "colab": {
          "base_uri": "https://localhost:8080/"
        },
        "id": "uuGOJ_QkdFCU",
        "outputId": "f1d5f57a-944f-4fe1-dba3-1e011782ed4b"
      },
      "execution_count": null,
      "outputs": [
        {
          "output_type": "execute_result",
          "data": {
            "text/plain": [
              "{'A',\n",
              " 'English',\n",
              " 'This',\n",
              " 'UNEDITED',\n",
              " 'and',\n",
              " 'cards',\n",
              " 'characters',\n",
              " 'common',\n",
              " 'corresponds',\n",
              " 'countless',\n",
              " 'demanding',\n",
              " 'for',\n",
              " 'generally',\n",
              " 'gift',\n",
              " 'helpful',\n",
              " 'hours',\n",
              " 'is',\n",
              " 'money',\n",
              " 'more',\n",
              " 'mostly',\n",
              " 'of',\n",
              " 'one',\n",
              " 'rule',\n",
              " 'scammers',\n",
              " 'text',\n",
              " 'that',\n",
              " 'the',\n",
              " 'thumb',\n",
              " 'to',\n",
              " 'token',\n",
              " 'version',\n",
              " 'wasting',\n",
              " '~4'}"
            ]
          },
          "metadata": {},
          "execution_count": 33
        }
      ]
    },
    {
      "cell_type": "code",
      "source": [
        "similaridad = len(compartidas)  / len(totales)\n",
        "similaridad"
      ],
      "metadata": {
        "colab": {
          "base_uri": "https://localhost:8080/"
        },
        "id": "IkN_4JFCdKBm",
        "outputId": "724f829c-dd20-42f9-8cf6-eb93ade5e306"
      },
      "execution_count": null,
      "outputs": [
        {
          "output_type": "execute_result",
          "data": {
            "text/plain": [
              "0.06060606060606061"
            ]
          },
          "metadata": {},
          "execution_count": 34
        }
      ]
    },
    {
      "cell_type": "code",
      "source": [
        "def similaridad_bow(doc_1,doc_2):\n",
        "    bow_1 = set(doc_1.split())\n",
        "    bow_2 = set(doc_2.split())\n",
        "\n",
        "    shared = bow_1.intersection(bow_2)\n",
        "    total = bow_1.union(bow_2)\n",
        "\n",
        "    return len(shared)  / len(total)"
      ],
      "metadata": {
        "id": "01UXftyzddMO"
      },
      "execution_count": null,
      "outputs": []
    },
    {
      "cell_type": "code",
      "source": [
        "similaridad_bow(test_string,test_string)"
      ],
      "metadata": {
        "colab": {
          "base_uri": "https://localhost:8080/"
        },
        "id": "4Y_vc9-yeAOg",
        "outputId": "f1483b52-da16-4acf-f2c5-d5b32124958b"
      },
      "execution_count": null,
      "outputs": [
        {
          "output_type": "execute_result",
          "data": {
            "text/plain": [
              "1.0"
            ]
          },
          "metadata": {},
          "execution_count": 36
        }
      ]
    },
    {
      "cell_type": "code",
      "source": [
        "similaridad_bow(test_string,\"\")"
      ],
      "metadata": {
        "colab": {
          "base_uri": "https://localhost:8080/"
        },
        "id": "tlcl2lhpeITO",
        "outputId": "fc89c975-fd46-4a0c-8111-8a744ae6566c"
      },
      "execution_count": null,
      "outputs": [
        {
          "output_type": "execute_result",
          "data": {
            "text/plain": [
              "0.0"
            ]
          },
          "metadata": {},
          "execution_count": 37
        }
      ]
    },
    {
      "cell_type": "code",
      "source": [
        "similaridad_bow(test_string,\"UNEDITED\")"
      ],
      "metadata": {
        "colab": {
          "base_uri": "https://localhost:8080/"
        },
        "id": "0RSyNZV6eaGD",
        "outputId": "f10de2d9-d36c-4ebf-8c1e-840027d4721e"
      },
      "execution_count": null,
      "outputs": [
        {
          "output_type": "execute_result",
          "data": {
            "text/plain": [
              "0.058823529411764705"
            ]
          },
          "metadata": {},
          "execution_count": 38
        }
      ]
    },
    {
      "cell_type": "markdown",
      "source": [
        "- Soluciona el problema posicional\n",
        "- Pierde informacion\n",
        "    - Y sin hacer nada extra, no funciona del todo bien"
      ],
      "metadata": {
        "id": "4b3rFjjUe3h0"
      }
    },
    {
      "cell_type": "code",
      "source": [
        "similaridad_bow(test_string,test_string)"
      ],
      "metadata": {
        "colab": {
          "base_uri": "https://localhost:8080/"
        },
        "id": "kDK4wJceec8M",
        "outputId": "c24ffeaf-76f4-436b-899e-0acdffa6fe67"
      },
      "execution_count": null,
      "outputs": [
        {
          "output_type": "execute_result",
          "data": {
            "text/plain": [
              "1.0"
            ]
          },
          "metadata": {},
          "execution_count": 39
        }
      ]
    },
    {
      "cell_type": "code",
      "source": [
        "similaridad_bow(test_string,test_string*10)"
      ],
      "metadata": {
        "colab": {
          "base_uri": "https://localhost:8080/"
        },
        "id": "4QQQwLdjfOiZ",
        "outputId": "28787bfb-58f3-412b-8643-3a8302149066"
      },
      "execution_count": null,
      "outputs": [
        {
          "output_type": "execute_result",
          "data": {
            "text/plain": [
              "1.0"
            ]
          },
          "metadata": {},
          "execution_count": 40
        }
      ]
    },
    {
      "cell_type": "code",
      "source": [
        "similaridad_bow(\"El cazador mató al león\",\"El león mató al cazador\")"
      ],
      "metadata": {
        "colab": {
          "base_uri": "https://localhost:8080/"
        },
        "id": "NUw3mKCifRfp",
        "outputId": "91f7661a-a100-48ad-c385-b742254a4de8"
      },
      "execution_count": null,
      "outputs": [
        {
          "output_type": "execute_result",
          "data": {
            "text/plain": [
              "1.0"
            ]
          },
          "metadata": {},
          "execution_count": 41
        }
      ]
    },
    {
      "cell_type": "code",
      "source": [
        "similaridad_bow(test_string.lower(),test_string.upper())"
      ],
      "metadata": {
        "colab": {
          "base_uri": "https://localhost:8080/"
        },
        "id": "7O8EazA2hbNQ",
        "outputId": "30c0cf52-9a89-4d58-fe6f-ad77163a5e22"
      },
      "execution_count": null,
      "outputs": [
        {
          "output_type": "execute_result",
          "data": {
            "text/plain": [
              "0.0"
            ]
          },
          "metadata": {},
          "execution_count": 42
        }
      ]
    },
    {
      "cell_type": "markdown",
      "source": [
        "# Preprocesamiento"
      ],
      "metadata": {
        "id": "VeCK57LaSGcO"
      }
    },
    {
      "cell_type": "code",
      "source": [
        "test_string"
      ],
      "metadata": {
        "id": "NkqCtBmVnjnm",
        "colab": {
          "base_uri": "https://localhost:8080/",
          "height": 36
        },
        "outputId": "8691e404-9fcd-4b25-edae-dc7b0ac9e3f6"
      },
      "execution_count": null,
      "outputs": [
        {
          "output_type": "execute_result",
          "data": {
            "text/plain": [
              "'\\nThis is the mostly UNEDITED version of scammers wasting countless hours demanding more money and gift cards\\n'"
            ],
            "application/vnd.google.colaboratory.intrinsic+json": {
              "type": "string"
            }
          },
          "metadata": {},
          "execution_count": 43
        }
      ]
    },
    {
      "cell_type": "code",
      "source": [
        "test_string.lower()"
      ],
      "metadata": {
        "colab": {
          "base_uri": "https://localhost:8080/",
          "height": 36
        },
        "id": "Xlr17-PjScU-",
        "outputId": "afc82634-a05a-43dc-bfbd-efa62e535c4b"
      },
      "execution_count": null,
      "outputs": [
        {
          "output_type": "execute_result",
          "data": {
            "text/plain": [
              "'\\nthis is the mostly unedited version of scammers wasting countless hours demanding more money and gift cards\\n'"
            ],
            "application/vnd.google.colaboratory.intrinsic+json": {
              "type": "string"
            }
          },
          "metadata": {},
          "execution_count": 44
        }
      ]
    },
    {
      "cell_type": "code",
      "source": [
        "def preprocess(my_string):\n",
        "    return my_string.lower()"
      ],
      "metadata": {
        "id": "j4BswWpAOVGU"
      },
      "execution_count": null,
      "outputs": []
    },
    {
      "cell_type": "code",
      "source": [
        "def similaridad_con_preprocess(doc_1,doc_2):\n",
        "    doc_1 = preprocess(doc_1)\n",
        "    doc_2 = preprocess(doc_2)\n",
        "\n",
        "    return similaridad_bow(doc_1,doc_2)"
      ],
      "metadata": {
        "id": "SFZNiHOyTDmK"
      },
      "execution_count": null,
      "outputs": []
    },
    {
      "cell_type": "code",
      "source": [
        "similaridad_con_preprocess(test_string.lower(),test_string.upper())"
      ],
      "metadata": {
        "colab": {
          "base_uri": "https://localhost:8080/"
        },
        "id": "GiPv6uibTOcr",
        "outputId": "411dd182-8105-4afc-f3b7-c912febc943a"
      },
      "execution_count": null,
      "outputs": [
        {
          "output_type": "execute_result",
          "data": {
            "text/plain": [
              "1.0"
            ]
          },
          "metadata": {},
          "execution_count": 47
        }
      ]
    },
    {
      "cell_type": "markdown",
      "source": [
        "OJO: aplicar cosas sin pensar nos puede dar problemas"
      ],
      "metadata": {
        "id": "fwpW2Dh1kP_W"
      }
    },
    {
      "cell_type": "code",
      "source": [
        "similaridad_bow(\"Kit Boga\",\"Un kit para pesca de boga en rio\")"
      ],
      "metadata": {
        "colab": {
          "base_uri": "https://localhost:8080/"
        },
        "id": "SGHB56K8XhTc",
        "outputId": "bf488343-9232-42b7-93b8-2889bfdc98d9"
      },
      "execution_count": null,
      "outputs": [
        {
          "output_type": "execute_result",
          "data": {
            "text/plain": [
              "0.0"
            ]
          },
          "metadata": {},
          "execution_count": 48
        }
      ]
    },
    {
      "cell_type": "code",
      "source": [
        "similaridad_con_preprocess(\"Kit Boga\",\"Un kit para pesca de boga en rio\")"
      ],
      "metadata": {
        "colab": {
          "base_uri": "https://localhost:8080/"
        },
        "id": "Ul4J73GoVo02",
        "outputId": "91dcaece-de5f-438a-b3f4-9bfd74da5154"
      },
      "execution_count": null,
      "outputs": [
        {
          "output_type": "execute_result",
          "data": {
            "text/plain": [
              "0.25"
            ]
          },
          "metadata": {},
          "execution_count": 49
        }
      ]
    },
    {
      "cell_type": "markdown",
      "source": [
        "# Limpieza"
      ],
      "metadata": {
        "id": "zzipEpImkd3E"
      }
    },
    {
      "cell_type": "code",
      "source": [
        "test_string_2=\"\"\"\n",
        "This is the mostly UNEDITED version of scammers wasting countless hours demanding more money and gift cards. Whenever they think they are getting close, there's a problem, but that doesn't stop them, and the rage builds.\n",
        "\n",
        "STOP online scams before they start. Check out https://www.seraphsecure.com/kitboga and download a 14-day FREE trial of Seraph Secure for you and your family/friends. #seraphsecure\n",
        "\"\"\""
      ],
      "metadata": {
        "id": "vWFqqfr5X5bu"
      },
      "execution_count": null,
      "outputs": []
    },
    {
      "cell_type": "code",
      "source": [
        "preprocess(test_string_2).split()"
      ],
      "metadata": {
        "colab": {
          "base_uri": "https://localhost:8080/"
        },
        "id": "Nh-a-O1QYXVY",
        "outputId": "1dc7bf55-9105-4ba5-f8e9-3e4455929b83"
      },
      "execution_count": null,
      "outputs": [
        {
          "output_type": "execute_result",
          "data": {
            "text/plain": [
              "['this',\n",
              " 'is',\n",
              " 'the',\n",
              " 'mostly',\n",
              " 'unedited',\n",
              " 'version',\n",
              " 'of',\n",
              " 'scammers',\n",
              " 'wasting',\n",
              " 'countless',\n",
              " 'hours',\n",
              " 'demanding',\n",
              " 'more',\n",
              " 'money',\n",
              " 'and',\n",
              " 'gift',\n",
              " 'cards.',\n",
              " 'whenever',\n",
              " 'they',\n",
              " 'think',\n",
              " 'they',\n",
              " 'are',\n",
              " 'getting',\n",
              " 'close,',\n",
              " \"there's\",\n",
              " 'a',\n",
              " 'problem,',\n",
              " 'but',\n",
              " 'that',\n",
              " \"doesn't\",\n",
              " 'stop',\n",
              " 'them,',\n",
              " 'and',\n",
              " 'the',\n",
              " 'rage',\n",
              " 'builds.',\n",
              " 'stop',\n",
              " 'online',\n",
              " 'scams',\n",
              " 'before',\n",
              " 'they',\n",
              " 'start.',\n",
              " 'check',\n",
              " 'out',\n",
              " 'https://www.seraphsecure.com/kitboga',\n",
              " 'and',\n",
              " 'download',\n",
              " 'a',\n",
              " '14-day',\n",
              " 'free',\n",
              " 'trial',\n",
              " 'of',\n",
              " 'seraph',\n",
              " 'secure',\n",
              " 'for',\n",
              " 'you',\n",
              " 'and',\n",
              " 'your',\n",
              " 'family/friends.',\n",
              " '#seraphsecure']"
            ]
          },
          "metadata": {},
          "execution_count": 51
        }
      ]
    },
    {
      "cell_type": "code",
      "source": [
        "import re\n",
        "regex = r\"[^\\w\\d]+\"\n",
        "\n",
        "clean = re.sub(regex,\" \",test_string_2)\n",
        "clean"
      ],
      "metadata": {
        "colab": {
          "base_uri": "https://localhost:8080/",
          "height": 53
        },
        "id": "VXvwUa6kYd4P",
        "outputId": "20ef56c8-d10d-4f44-ff43-315009278f1d"
      },
      "execution_count": null,
      "outputs": [
        {
          "output_type": "execute_result",
          "data": {
            "text/plain": [
              "' This is the mostly UNEDITED version of scammers wasting countless hours demanding more money and gift cards Whenever they think they are getting close there s a problem but that doesn t stop them and the rage builds STOP online scams before they start Check out https www seraphsecure com kitboga and download a 14 day FREE trial of Seraph Secure for you and your family friends seraphsecure '"
            ],
            "application/vnd.google.colaboratory.intrinsic+json": {
              "type": "string"
            }
          },
          "metadata": {},
          "execution_count": 52
        }
      ]
    },
    {
      "cell_type": "code",
      "source": [
        "clean.split()"
      ],
      "metadata": {
        "colab": {
          "base_uri": "https://localhost:8080/"
        },
        "id": "gWf1uSJ3Y5A9",
        "outputId": "7b37ef49-8c65-44e6-a484-1ef309345a5a"
      },
      "execution_count": null,
      "outputs": [
        {
          "output_type": "execute_result",
          "data": {
            "text/plain": [
              "['This',\n",
              " 'is',\n",
              " 'the',\n",
              " 'mostly',\n",
              " 'UNEDITED',\n",
              " 'version',\n",
              " 'of',\n",
              " 'scammers',\n",
              " 'wasting',\n",
              " 'countless',\n",
              " 'hours',\n",
              " 'demanding',\n",
              " 'more',\n",
              " 'money',\n",
              " 'and',\n",
              " 'gift',\n",
              " 'cards',\n",
              " 'Whenever',\n",
              " 'they',\n",
              " 'think',\n",
              " 'they',\n",
              " 'are',\n",
              " 'getting',\n",
              " 'close',\n",
              " 'there',\n",
              " 's',\n",
              " 'a',\n",
              " 'problem',\n",
              " 'but',\n",
              " 'that',\n",
              " 'doesn',\n",
              " 't',\n",
              " 'stop',\n",
              " 'them',\n",
              " 'and',\n",
              " 'the',\n",
              " 'rage',\n",
              " 'builds',\n",
              " 'STOP',\n",
              " 'online',\n",
              " 'scams',\n",
              " 'before',\n",
              " 'they',\n",
              " 'start',\n",
              " 'Check',\n",
              " 'out',\n",
              " 'https',\n",
              " 'www',\n",
              " 'seraphsecure',\n",
              " 'com',\n",
              " 'kitboga',\n",
              " 'and',\n",
              " 'download',\n",
              " 'a',\n",
              " '14',\n",
              " 'day',\n",
              " 'FREE',\n",
              " 'trial',\n",
              " 'of',\n",
              " 'Seraph',\n",
              " 'Secure',\n",
              " 'for',\n",
              " 'you',\n",
              " 'and',\n",
              " 'your',\n",
              " 'family',\n",
              " 'friends',\n",
              " 'seraphsecure']"
            ]
          },
          "metadata": {},
          "execution_count": 53
        }
      ]
    },
    {
      "cell_type": "markdown",
      "source": [
        "Me puede no interesar el valor de lo que estoy limpiando, entonces lo reemplazo por un token distintivo que no pueda confundirse con otro:"
      ],
      "metadata": {
        "id": "b_tWo3DQjaiv"
      }
    },
    {
      "cell_type": "code",
      "source": [
        "URL_REGEX = r\"(https?://)?[-a-zA-Z0-9@:%._\\+~#=]{1,256}\\.[a-zA-Z0-9()]{1,6}\\b([-a-zA-Z0-9()@:%_\\+.~#?&//=]*)\"\n",
        "\n",
        "clean = re.sub(URL_REGEX,\"UURRLL\",test_string_2)\n",
        "clean"
      ],
      "metadata": {
        "colab": {
          "base_uri": "https://localhost:8080/",
          "height": 53
        },
        "id": "gMepOvXMZHLB",
        "outputId": "33645aa0-fc3f-4225-df4f-3b9465c20bd0"
      },
      "execution_count": null,
      "outputs": [
        {
          "output_type": "execute_result",
          "data": {
            "text/plain": [
              "\"\\nThis is the mostly UNEDITED version of scammers wasting countless hours demanding more money and gift cards. Whenever they think they are getting close, there's a problem, but that doesn't stop them, and the rage builds.\\n\\nSTOP online scams before they start. Check out UURRLL and download a 14-day FREE trial of Seraph Secure for you and your family/friends. #seraphsecure \\n\""
            ],
            "application/vnd.google.colaboratory.intrinsic+json": {
              "type": "string"
            }
          },
          "metadata": {},
          "execution_count": 54
        }
      ]
    },
    {
      "cell_type": "markdown",
      "source": [
        "Y si nos importa, podemos hace algo similar, marcando por ej en este caso la palabra como un hashtag, agregando un valor al inicio."
      ],
      "metadata": {
        "id": "GH2kC5Nejrx-"
      }
    },
    {
      "cell_type": "code",
      "source": [
        "HASHTAG_REGEX = r\"#([\\w\\d]+)\"\n",
        "\n",
        "clean = re.sub(HASHTAG_REGEX,r\"HASHTAG\\1\",test_string_2)\n",
        "clean"
      ],
      "metadata": {
        "colab": {
          "base_uri": "https://localhost:8080/",
          "height": 53
        },
        "id": "_OQAXg8Zinhy",
        "outputId": "991763ac-dbee-4db3-9af7-6b98de071c18"
      },
      "execution_count": null,
      "outputs": [
        {
          "output_type": "execute_result",
          "data": {
            "text/plain": [
              "\"\\nThis is the mostly UNEDITED version of scammers wasting countless hours demanding more money and gift cards. Whenever they think they are getting close, there's a problem, but that doesn't stop them, and the rage builds.\\n\\nSTOP online scams before they start. Check out https://www.seraphsecure.com/kitboga and download a 14-day FREE trial of Seraph Secure for you and your family/friends. HASHTAGseraphsecure \\n\""
            ],
            "application/vnd.google.colaboratory.intrinsic+json": {
              "type": "string"
            }
          },
          "metadata": {},
          "execution_count": 55
        }
      ]
    },
    {
      "cell_type": "code",
      "source": [
        "URL_REGEX = r\"(https?://)?[-a-zA-Z0-9@:%._\\+~#=]{1,256}\\.[a-zA-Z0-9()]{1,6}\\b([-a-zA-Z0-9()@:%_\\+.~#?&//=]*)\"\n",
        "HASHTAG_REGEX = r\"#([\\w\\d]+)\"\n",
        "SYMBOLS_REGEX = r\"[^a-zA-Z]+\"\n",
        "\n",
        "\n",
        "def cleanup(my_string):\n",
        "    clean = re.sub(URL_REGEX,\"UURRLL\",my_string)\n",
        "    clean = re.sub(HASHTAG_REGEX,r\"HASHTAG\\1\",clean)\n",
        "    return re.sub(SYMBOLS_REGEX,\" \",clean)\n",
        "\n",
        "cleanup(test_string_2)"
      ],
      "metadata": {
        "colab": {
          "base_uri": "https://localhost:8080/",
          "height": 53
        },
        "id": "J3dP_FOmjYG4",
        "outputId": "a698185c-31c9-466e-866d-cbfca17501f8"
      },
      "execution_count": null,
      "outputs": [
        {
          "output_type": "execute_result",
          "data": {
            "text/plain": [
              "' This is the mostly UNEDITED version of scammers wasting countless hours demanding more money and gift cards Whenever they think they are getting close there s a problem but that doesn t stop them and the rage builds STOP online scams before they start Check out UURRLL and download a day FREE trial of Seraph Secure for you and your family friends HASHTAGseraphsecure '"
            ],
            "application/vnd.google.colaboratory.intrinsic+json": {
              "type": "string"
            }
          },
          "metadata": {},
          "execution_count": 189
        }
      ]
    },
    {
      "cell_type": "code",
      "source": [
        "preprocess(cleanup(test_string_2)).split()"
      ],
      "metadata": {
        "colab": {
          "base_uri": "https://localhost:8080/"
        },
        "id": "pSKVzjjHEA7b",
        "outputId": "5e26e1ef-782f-49b2-b78f-a44750458b58"
      },
      "execution_count": null,
      "outputs": [
        {
          "output_type": "execute_result",
          "data": {
            "text/plain": [
              "['this',\n",
              " 'is',\n",
              " 'the',\n",
              " 'mostly',\n",
              " 'unedited',\n",
              " 'version',\n",
              " 'of',\n",
              " 'scammers',\n",
              " 'wasting',\n",
              " 'countless',\n",
              " 'hours',\n",
              " 'demanding',\n",
              " 'more',\n",
              " 'money',\n",
              " 'and',\n",
              " 'gift',\n",
              " 'cards',\n",
              " 'whenever',\n",
              " 'they',\n",
              " 'think',\n",
              " 'they',\n",
              " 'are',\n",
              " 'getting',\n",
              " 'close',\n",
              " 'there',\n",
              " 's',\n",
              " 'a',\n",
              " 'problem',\n",
              " 'but',\n",
              " 'that',\n",
              " 'doesn',\n",
              " 't',\n",
              " 'stop',\n",
              " 'them',\n",
              " 'and',\n",
              " 'the',\n",
              " 'rage',\n",
              " 'builds',\n",
              " 'stop',\n",
              " 'online',\n",
              " 'scams',\n",
              " 'before',\n",
              " 'they',\n",
              " 'start',\n",
              " 'check',\n",
              " 'out',\n",
              " 'uurrll',\n",
              " 'and',\n",
              " 'download',\n",
              " 'a',\n",
              " 'day',\n",
              " 'free',\n",
              " 'trial',\n",
              " 'of',\n",
              " 'seraph',\n",
              " 'secure',\n",
              " 'for',\n",
              " 'you',\n",
              " 'and',\n",
              " 'your',\n",
              " 'family',\n",
              " 'friends',\n",
              " 'hashtagseraphsecure']"
            ]
          },
          "metadata": {},
          "execution_count": 190
        }
      ]
    },
    {
      "cell_type": "code",
      "source": [
        "similaridad_con_preprocess(cleanup(test_string),cleanup(test_string_2))"
      ],
      "metadata": {
        "colab": {
          "base_uri": "https://localhost:8080/"
        },
        "id": "tSKqGTXjFeog",
        "outputId": "9460202e-80cb-4d6c-dd25-e6bdddaa6e3b"
      },
      "execution_count": null,
      "outputs": [
        {
          "output_type": "execute_result",
          "data": {
            "text/plain": [
              "0.32075471698113206"
            ]
          },
          "metadata": {},
          "execution_count": 191
        }
      ]
    },
    {
      "cell_type": "code",
      "source": [
        "len(set(cleanup(test_string_2).split()))"
      ],
      "metadata": {
        "colab": {
          "base_uri": "https://localhost:8080/"
        },
        "id": "9CCVUhlFF--z",
        "outputId": "e2edfb1c-d10f-4312-91ce-769018fb82c7"
      },
      "execution_count": null,
      "outputs": [
        {
          "output_type": "execute_result",
          "data": {
            "text/plain": [
              "55"
            ]
          },
          "metadata": {},
          "execution_count": 192
        }
      ]
    },
    {
      "cell_type": "code",
      "source": [
        "!pip install youtube-transcript-api pytube langchain_community --quiet"
      ],
      "metadata": {
        "id": "tWItVzHkGBJQ"
      },
      "execution_count": null,
      "outputs": []
    },
    {
      "cell_type": "code",
      "source": [
        "from langchain_community.document_loaders import YoutubeLoader\n",
        "\n",
        "steve = YoutubeLoader.from_youtube_url(\n",
        "    \"https://youtu.be/sRMMwpDTs5k\",\n",
        "    add_video_info=True,\n",
        "    language=[\"en\", \"id\"]\n",
        ").load()\n",
        "\n",
        "steve"
      ],
      "metadata": {
        "colab": {
          "base_uri": "https://localhost:8080/"
        },
        "id": "ESGD6AIMGwwj",
        "outputId": "e948102d-28f2-4345-ee95-859d69b50056"
      },
      "execution_count": null,
      "outputs": [
        {
          "output_type": "execute_result",
          "data": {
            "text/plain": [
              "[Document(metadata={'source': 'sRMMwpDTs5k', 'title': \"The Angriest Scammer I've Ever Called: Steve\", 'description': 'Unknown', 'view_count': 19642948, 'thumbnail_url': 'https://i.ytimg.com/vi/sRMMwpDTs5k/hq720.jpg?v=660ea981', 'publish_date': '2020-08-16 00:00:00', 'length': 5086, 'author': 'Kitboga'}, page_content=\"[Music] do you want your money or do you don't want your money then you need to do as i say you are not my teacher no no no no no no no [Applause] i've been calling scammers for over three years now and although i've had some pretty exciting and interesting learning experiences and just all around crazy moments this has to be the most extreme raw anger that i have ever witnessed the entire call took place over a couple days 10 hours worth of phone calls and ultimately ended in a pretty exciting display of anger it started off like a typical refund scam where they pose as a company like microsoft offering to give you money back for something you purchased they lock your computer and then pretend to transfer money to your bank account you never used our service at once but you paid 399 dollars two years back so we have to refund that money to you okay you know sometimes i feel like life is a lot like chess sometimes you do you don't realize that you're just right now just go ahead and type the name of your why do i have to go to my bank uh you don't have to give me any of your personal information you don't need to worry about it as this call has been recorded for the policing purposes right you just need to go ahead and accept the money transfer what we are going to do that's it if you tell any of your personal details over this call i might lose my job because i am dealing with you and we have some protocols which we need to follow oh gosh well i'll be sure not to say anything personal then yeah i wouldn't want you to lose your job there that would be that would be bad thank you your computer is acting like really weird sometimes you know oh i think this guy is very suspicious uh he tried to do a bank right he tried to log in like without any credentials and stuff yeah why okay do you have a username and a password um well i can't give you any personal information over the phone i understand you need not tell me anything all right after you log in just let me know do not tell me anything just give me a second working on you i'm working on your case only and i'm not touching any other customer okay just bear with me oh okay sorry i'm just not familiar with the how these things work i'll keep quiet just go ahead and write down the available balance of your account okay you want me to write down okay yes yes so that after i give you the money you can you know by adding it up you can always proceed that if you have received the money or not i could just write down the balance of this everything with this paper and before i hang on out of curiosity by a raise how many of you have been expecting money into your bank account and the way that you verify whether or not you got it is by writing down your previous balance account how many because i've never done that i just look at the transaction history while scammers are on your computer they often use something like this to hide your screen and then they'll transfer money in between your accounts or edit the html to make it look like you have more money than you're supposed to it's all part of their tricks up some coffee for my husband when he gets back he likes it he likes it extra sloppy i understand do you ever put eggs in your coffee never it's like a quick way to eat breakfast you know you get it all done all at once just put a raw egg in there a little mayonnaise whip it up all right [Music] a little bit hard to see it is it fine now i mean the text okay write down your name it says enter your name enter the name and do not hit enter okay just enter the name i need to go i need to go back to the kitchen and finish up my how how much longer is this going to take i hate to be wrong what only two minutes that's it two minutes you just need to fill up this form and get your money that's it okay so just enter the name okay we are running out of time can you please make it bigger so i can read it please it says please enter your name okay so just enter the name from the keyboard and do not hit enter okay just enter the name i wish they didn't make things complicated i thought computers were supposed to make things easier you know not harder like this now enter your phone number and please do not hit enter after this again do not okay if i hit enter yeah now just enter the zip code that's a little that's my personal information i can't say that over the phone then hit enter so many zeros ma'am how much of money did you transfer it says check your bank oh my god oh my god forty thousand dollars what are you talking about mom oh just let me check your microphone give me a moment i can't say anything hold on go back hey i'm going back hold on hold on hold on i can't think i can't see i can't see oh oh god okay just pause panic okay oh sweet baby jesus the scam is to try to make you think that it's not the 400. hello hello hold on hold on i'm unplugging the computer you can see the computer now i unplugged the computer that way the transfer won't go through right now okay i'm back hello ma'am what do you see on your screen i unplugged the computer that way the transfer wouldn't go through i don't want 400 000 why are you yelling at me young man i i'm trying to help you no i turned the computer off i don't want that money to go through i'm telling you we can't get it why are you yelling at me is the computer is the computer on paula is the computer on are you in front of the computer [Applause] stop yelling at me i'm joining i am sorry i am sorry come back come [Music] i'm really sorry paula it's my mistake i'm sorry it's just that you you transferred the money to me no why did you do this my mistake oh why would you take me [Applause] [Music] is when i get angry give me a minute how do you destroy a computer what's the fastest way i'll make sure this doesn't happen if you destroy the computer you lose your money okay you lose your damn money hello hello hello hold on honey hold on do you know anything that you are gonna lose and you are gonna beg hello i'm trying to work i'm not strong enough i'm trying honey i'm trying to destroy the evidence but none of you need to turn on that computer listen to me [Applause] [Applause] i can't hear you you're not turn the damn computer on turn your computer on i mean i don't know if it's gonna turn on now or not hit it i hit the screen pretty hard but hold on i'm what you see what you did why did you break the computer come back and check your account the money went through first i might have to just check later i'm feeling a little stressed out right now to be honest with you i might have to take something i think i need to take something pills [Applause] to start relaxing you know for me sometimes [Applause] [Music] [Applause] you have no money you remember right that you had 260 000 in your money market i can't move my mouse at all i think there's something wrong hold on let me try i might have to turn it off and turn it back on again if it doesn't work right no uh let me just close it [Applause] hello i i just need to i think i need to take a break i turned the computer [Applause] is off all of the money was in my account and even though you tried to send 400 000 while you accidentally sent 400 000 it looks like it didn't go through so hopefully [Music] [Laughter] how is all my money going do you want your money back yes or no no no no no yes yes yes do you hear me yes now listen to me as i speak to you okay now i will send you listen [Applause] do you want me to hang up this do you want me to hang up this call who the hell do you think you are and who would that think don't you dare talk to me that way listen to me listen to me okay are you gonna do as i say say sorry are you going sorry i owe you 260 000 dollars but you have all my money you had my money oh okay thank god so now if you i can only transfer you listen to me now okay can you give me my money back please listen to me [Music] if you accidentally got my money no no no it's it's it's not accidentally it is not accidentally it is purposeful okay it is for purpose but this has been done for a purpose do you understand but it's only me who can help you to get your money back your money is 260 000 correct which is not there right but my money is forty thousand dollars all right oh the four hundred the forty thousand dollars went to mine okay if you give me two hundred and twenty thousand dollars back that's how basic math works do you understand that 60 minus 20 no minus 40. 20 great so you give me 220 000 back which means you'll be keeping your forty thousand dollars and then everything's fine okay for that all right for that you need to go for that for that you need to go to your bank okay and you need to withdraw forty thousand dollars in i don't have i don't have forty thousand dollars you have all my money but that is not how we work okay you need to understand one thing that you have done a physical error so you need to you know make sure that we resolve it in a physical manner you have to go to the bank and you need to withdraw money okay let me call the bank and make an appointment okay i'll call today no no no all right listen to me listen to me listen to me listen to me why don't you listen to me ma'am if you really want your money back make sure that you do not go ahead and say anything extra to them just call them up and tell them that you want to withdraw cash okay i think i need to talk to a manager because i don't even have the forty thousand dollars in my bank that you want me to give you i am gonna give you listen to me make an appointment with the manager we'll settle it that way listen to me listen to me please please listen to me please listen to me please listen to me please listen to me ma'am if i wanted to steal your money i already have your money i should simply hang up and go away and you won't have anything yeah i haven't quite figured out why you haven't done that yet maybe you feel a little bit bad okay i hope and pray at least you feel bad no no no no no ma'am i just need my money at this point i pretended to drive to the store with my crazy neighbor spent some more time with him on the phone and ultimately ended up at the store pretending to purchase gift cards i'll tell them that there's a guy who has i don't know someone asked me that someone asked me to do it i'll say something no no no i'll say someone asked me today no no no no you who's this big yo you wanna okay if they ask you that why do you want the money tell them that it's medical emergency what all right okay a medical emergency tell them listen i'll tell the manager what happened i'll get as much money as i can and i'll call you back all right do you want to talk to them what happened okay what happened i'll let you talk to the manager okay no no no why are you messing it up i hung up and made him wait all weekend to talk to me and then of course he's asking where the cards are okay so you have the money with you i ate a do you have an accident yesterday with my neighbor and when we were getting the money and uh you know i was trying to have the to help her out first time car and get her back into her house ten thousand dollars that's a lot of money to just put in the living room so so and we started digging a hole in our backyard yeah but i fell i i you know how you jump on a shovel but when i jumped up my hip kinda gave out all right listen to me do you have the money i tell you what i thought my hips didn't lie after my original surgery but today sorry yesterday it lied and it kind of gave out i put it i put it in the backyard for safekeeping that way no one would steal it okay okay just bring it from the backyard okay bring the money for backyard i i got you told me to get tinfoil yesterday and i got a lot of it it's all over the kitchen do you have the money now you have the money it's in a hole in my backyard i keep telling you that how many times do i have to tell you like married it took me two hours to take that can you dig can you dig and get the money back i need the money right now well i can't give it to you in california immediately it's gonna it'll take me some time to get there i understand i understand you have to go to the nearest post office or a ups hello ma'am do you want the money back do you want your money back yes yes okay now just stop crying have a glass of water okay you're okay are you okay now oh better i yummy try to think of which hole i put the money in hold on hold on let me try this one we did a couple different holes honey hold on take your time take your time no [Music] problem the neighborhood kids are coming over no no no no no guys this is my these are my holes hey get out of here get out while you are putting the coil on the money right you are you are covering the money with the foil right no i'm just putting it in the box steve just putting the foil all over no you need to no please listen to me please are you listening so here's what i'm thinking i'll send a thousand dollars to you and then you send back what's 10 of my money twenty six thousand dollars and then i'll send you we'll do it bit by bit like a trust exercise you know so i'll send you the thousand dollars you it's kind of like at the grand exchange those guys doing the money doubling they do a trust trade first so i'll trade you i'll give you the thousand listen to me ma'am listen to me please listen to me i am gonna give you 26 000 right now and you need to give me the 10 000 right now and i have 10 000 and ten percent of that one thousand dollars you send me twenty six thousand dollars and if all goes well if you give up your money and i get your money man do you want your money or do you don't want your money yes i do work i do want the money then you need to do as i say you are not my teacher hey you calm down young man why do you want ten dollars i have given you that money let me teach you i think you don't understand how this works dude you owe me 220 money back yes i do please do you want your money please do you want your money back where is your husband yeah well he's in the living room this is jimmy yes jimmy okay jimmy i hope you understand what is going on yes jimmy do you hear me hello yes i am there can you hear me i am there listen to me i can barely hear him if he's on there i don't know what he's saying okay now can you help me put it on speakerphone hello can you hear us hello i can't hear you can you hear me you can hear him he's right there hello hello yeah can you hear me can you i was in the middle of watching television so this better be good sir basically basically i have basically it's a problem you have lost two hundred and sixty thousand dollars okay what why are you what are you talking about how do what that we've been saving listen all this money was supposed to help us i don't want your money i don't want your money i just want my money then where is the 10 000 where is the 10 000 give me my money back just look at your balance now just come in front of your computer now he's editing my bank account to have an extra ten thousand dollars bro so ten thousand is extra right whoops uh whoops uh steve you accidentally sent 270 000 you were supposed to send me 220. oops okay no problem you have to give me the money no this is a big mess i want you to know that there's good in the world when you do good when you do good good sometimes get gets thrown back to you all right so my husband said that he will go to the bank and wire transfer sixty thousand dollars to a bank account right now today if you leave us alone so can you give me the ten thousand for the time being what you have in cash with you he's gonna bring that back he's gonna bring that back to the bank and deposit it and transfer you uh 260 000. it will be a overseas wire transfer all right overseas okay this is the bank of okay we'll give that a try yeah they're saying any international transfers it's they're just it's slowed down right now with all the processing and all the regulations they have right now with they can do it it just might take a long time they said if you have if we were sending money here domestically in the states that would only take uh two hours otherwise it could take up to 21 days yes no no problem just ask them about the receipt okay tell them to mail you the receipt how do i just just wondering how do i have assurance from you that you're not gonna steal any more of my money what do i i don't want any of your money i'm gonna release your computer the moment see they are done okay you just show me the receipt and i leave your computer till then do not turn off you can man the the picture message is not clear can you do one thing oh did you get by can you do one thing okay can you say go for a little while i need to go in the backyard and do a little bit of gardening over the past couple days if you're there i can can you hear me barely hear ya you sound like you're whispering right now i have bad hearing i'm an idiot okay jimmy jimmy now can you hear me now can you hear me uh can you hello can you speak up son very bad hearing yes yes okay now listen to me it's just that that the transfer that you did okay the number is wrong the account number is wrong the account number is wrong yes hello yeah this is steve this is steve oh miss okay mrs mrs pete from uh from church how are you how are things going i want to talk to paula paula very smaller uh yeah i would say things are pretty baller yeah i guess that's what my that's what my grandson would say [Music] hallelujah are you saying coca-cola paula polla don't think we have any coca-cola no um pepsi has always been more of paula's thing paula likes pepsi why the [\\xa0__\\xa0] are you doing so much are you [\\xa0__\\xa0] what was that a truck uh you need to borrow my truck you're ready we hit the ford uh he's killing snowman oh god i hope they can cancel it i hope they can cancel moms not sell them just now ma'am i gotta call the banks just tell them that you want it okay you want to call me what is the next day steve kind of disappeared but i got a chance to talk to his manager and get another bank account and otherwise keep the call going for another day you know the company person are yelling on me and they are again and again um like telling me to get this money back to them do they have an account here in the united states do you know okay so you want the account uh from the united states right well i know the fraud department said that they're not they put up some kind of a hold on our account and they're investing they were investigating and they told me that right now i can't do transfers out of the country that i can only do transfers in the united states so if you had an account you know domestically here let's say in california they told me they assured me it would only take about an hour or two for the money to get wired i had to prove that i was actually transferring money to them so i photoshopped it and took a picture and then of course the next day i pretended like my husband canceled the wire transfer anyway yesterday and canceled it can i get some kind of steve will you be would you be willing to write down on a piece of paper that you promised to leave my family alone if you do it today without any mistake if the money comes today in the account twenty five thousand dollars trust me that you are not going to lose a single penny but i don't trust you you've you've been trying to manipulate and steal all my money for a week now why would i trust you no next week and ask for another 25 000 and then another 250 we have um baseball cards magic the gathering cards pokemon cards or any of those ma'am do you see the computers do you see the computer what if i bought something for you on amazon and i sent it to your house what if i did it that way ma'am do you see your computer hello steve do you see the computer uh yes i do hello maybe i can find something for you that is worth um some money i could just buy buy it from from the amazon and then you would be able to oh i can't move my computer i can't move it hey write the name of your favorite teacher right trying to help you write the name of your favorite teacher do you listen to me my husband has contracted one of the best lawyers in the city blah blah blah he writes a law blog he he's very distinguished he will be trying to come after you in in your company first team he can't do anything you and i both know that you're not gonna leave me alone and i know i know that that's a lawyer doesn't scare you but what i'm trying to tell you is that i won't be able to give you anything after today what do you want what do you want a clown video game do you want a pillow okay what about a nice set of clothes like a nice text a nice tuxedo suit or what about a nice watch do you see the computer screen maybe a lifetime supply of those and you won't be able to do anything captain crunch lucky charms cookie crisp do you like cookie crisp steve you will lose your money i want to steve i can't transfer it to a foreign bank account i told you a dozen times then you are not gonna get your money back either i already have my money back you already gave it to me so you are gonna i'm gonna take it in seconds okay i don't think in a second you know that can't control yourself i i just want i just want 25 000 if you give me that money steve your money remains safe would you take two thousand dollars at this point to leave me alone ten thousand minimum or you will see the consequences ten thousand minimum honey how else can i pay can i give you my credit card and you just go to go to whatever store you want and buy buy yourself something nice you know about buy yourself a what do you want a new pair of shoes you know how you know target gift card you know target gift card i've heard of gift cards yeah the target has a whole gift card section yeah so you need to buy target gift cards all right if you unable to give the gift card then i won't be able to help you okay i want that in writing can you put it in writing i get you 2500 gift card you leave my family alone how about that if you do it first okay i want you to write it down and i promise you i will go get you the 2500 yes listen to me now okay don't be a stubborn baby all right you go i have you know i have reduced the amount i created the terms yes the moment you show me the moment the moment you send me the picture of the no that's not how this works right on the piece of paper steve just say if i get twenty five hundred dollars put at the very top if paula gives me twenty-five and the next person do something right you just outline it on the page no longer call her family and will not steal money from her and then you sign it and if i never give you the 2500 then the contract doesn't matter okay that's how it works steve god do i get to teach you everything god how i take all your money you just wait just wait you lose all the money today you have made me angry now you are [\\xa0__\\xa0] big you have made me angry is that the way that you talk to your mother [Music] next time the next time i steve agree to never call paula or her family again or take her money if she gets me if she goes to the store and buys gift cards will you say that out loud at least i see wait i'm not gonna take a single friend okay i'm not ready i need to get my ipad so i can record it i steve watson tell you okay that i am not gonna call you back and not gonna touch your money only and only if you give me five cards or five hundred dollars each of target okay okay perfect yes did you bought the card hey steve i'm at the store right now okay do not talk to me in front of them due to increased fraudulent activity surrounding gift cards we now limit customers to only buy 1 000 target gift card to learn more about gift cards gift cards scams and all this stuff if you listen to me you can't buy you know the target gift cards but they have a bunch of other gift cards they've got like um tacos no no no listen to me listen to me listen to me stay here listen to i have a me coming over i asked them to get a manager and i was just going to ask them you know what the best kind of card the kid is but i figured i would call him no but i'm just waiting for the manager to come over and we'll find out what they think listen to me listen to me listen to me please listen to me listen to me listen to me listen to me listen to no i just want [Music] one thousand dollar target card but i can buy more of them sorry the manager is coming over i gotta go i'll ask him what kind of card to get i had a quick question for you i'm about to buy these cars um up at the front uh do you know how to hide the transaction from my bank that way my i don't want my husband to see that i'm buying anything so if you could work on that while i'm over here i'll i'll buy this google card and then you yeah you promise once i give you these cards you're not going to bother my family [Music] some lady was trying to get my attention okay what were you saying what was that call me once you're out of the store if i buy the cards for you then it's like the last thing they want you to say because they're thinking that a manager or someone who overhears it will interrupt you and say man man you might be involved in some kind of a scam you got the card yes what card you bought i'm just trying to figure out did you hide the bank activity i already told you i will okay send me scratch the cards properly okay scratch the cards properly and and digits or whatever [Music] ma'am can you send me all the pictures can you click all the pictures of the card back off the card and send it to me on the emails steve i'll do you one better i was looking into this um how to get it to turn it into cash and it seems very easy you go to the store on the left hand you click redeem and then it says enter the code so hold on let me see if i can sorry i'm not very good with the [Music] computers okay oh that's easy okay why did you did this [Music] are you mad why the [\\xa0__\\xa0] is this scratch off the next one why are you ready why are you evening steve you told me you told me you wanted the clearance this is so you won't bother my family right now why are you ready why are you ready because you want the cash why did you redeem it [Music] listen [Music] i'm purposely hanging up on him we'll call him back in a minute but i want him to think that his phone disconnected and i'll just have to sit there and watch me redeem another oh oh god i think we're seeing his true power he's so angry this is beyond what i would have expected um [Music] [Music] and my family alone once and for all okay the second google card i'm just going [Music] through 3 x okay and then after that steve i i i'm gonna go ahead and i'll do this for you and you don't have to send me the picture of your agreement until afterwards if that makes you feel more good you can send me you can send me the picture whenever you whenever you want you know maybe uh whenever it's more convenient for you if after we do this okay hey you [\\xa0__\\xa0] hey you [\\xa0__\\xa0] you listen to me do you listen to me [Applause] [Music] yes [Music] your phone is breaking up honey what are you what are you trying to say i will redeem it i will redeem it it's the number eight so there's the next card and six white rapes i got a hold of the card right here you just needed oh steve you're a sweet summer child [Music] wow this is this is colorful i guess we know what his true power is oh perfect steve another 500. nobody can save you you have wasted all my cards hello you have you have wasted all my cards you have wasted all my cards hello steve why did you redeem it why did you redeem it why did you redeem it steve this is why did you redeem it why why why did i tell you to redeem did i ask you to redeem did i enact you to these teams listen to me very carefully i still have a few more give me a break steve now [Music] i can redeem the last few cards and then okay ma'am why did you man why are you redeeming it why are you reading the card um well if you ask google here how to redeem google cards for cash [Music] it's right here hey this is i'm doing this so you'll leave my family alone i don't you are revealing it for your own i won't get it i won't get it i won't get it what do you mean ma'am what are you doing what are you doing do not read him that do not read him that do not redeem that now i [\\xa0__\\xa0] your family now my your whole family now oh [Music] uh what was it uh four hundred dollar card because i subtracted a hundred dollars because you were being mean earlier now listen to me [\\xa0__\\xa0] now listen to me you [\\xa0__\\xa0] thing listen to me your [Applause] you said earlier i have it on my ipad hold on yeah okay just wait yesterday it says on my ipad you said this earlier i steve what's up i will make you a prostitute i already did three of them i have i have two more did you hear it did you give it to me did you give it to me i did not got any pardon i did not believe god okay i have two more cards to give you all right you got three two more okay listen to me listen to me listen to me okay when did you give me a card when did you give when did you gave me a card you never gave me a thing i just gave you the cards why the [\\xa0__\\xa0] are you redeeming it why the [\\xa0__\\xa0] you been on the phone with me the whole time i i can't understand why this is so complicated for you let me here let me go ahead and scroll down why did you rename it why did you redeem it are you a mad [\\xa0__\\xa0] steve can you help me hide my bank transaction so my husband doesn't see this steve you promised you would do that you will go to jail now you will go to jail you just wait why would i go to jail i am gonna show you because you redeemed my [\\xa0__\\xa0] cards oh why did you redeem it did steve steve calm down let's re let's rewind for a second you are going you have the ability to steal 260 dollars from my family correct but now you see why we had a gentleman we had a transaction a gentleman's deal i think you called it over the phone and i recorded it oh he's angry he said now wait and see i'm gonna bait him a little bit and i'm gonna go on to my bank account i can pause the timer too was that a that's perhaps the mad the maddest is that a word the most mad um i have experienced a scammer to date i'm having a problem with my computer i can't really move my mouse i was wondering if that's something that you're doing hold on listen to me mom listen to me i wanted to say something to you can i tell you please yes ma'am you have wasted all the cards okay then why did you redeem the remaining why did you did this why you did this well i redeemed the first three cards because you want characters earlier i gave you a bunch of different if you remember earlier honey i offered to give you um gosh what was it 20 000 worth of anything you wanted off amazon and you didn't want it can i tell you please take 2500 how will you is you used my cards i'm gonna use your money okay okay sure steve let's get more things let's get one thing straight first of all i still have two cards i have not used all the cards why didn't you why would you card transactions [Music] cards steve i gave you dude to give you cash how did you god gave me time how did you let me test it right here [Music] [Music] it's very loud did he ask you to do that did he ask you to do that did i ask you to do that yes you specifically asked for cash multiple times if i remember correctly you specifically turned it down twenty thousand dollars and you wanted cash we need to figure out how to hide the transactions on the bank because if my husband's i will tell you i will tell you how to hide it i want my cards back i want my cards back why did you redeem it why did you redeem it steve i'm gonna let me just teach you something a lot of kids don't understand this when you say something and someone doesn't understand it you should try saying something differently next time if you say the same thing over and over expecting a different result not very happy one of the things that you want to do sometimes you have to use your brain a little bit so why don't you ask me that question differently so i understand you okay okay now you understand something the cards which you have used is worthless now okay the cards which you have redeemed or else you lose [Music] clearly you can't you can't you just see what i can do you are an evil why did you why did you why did you use my cards steve i think you've lost thank you i think somewhere along the way over the past 10 hours here you kind of lost it you lost your self-control you've gone a little bit in maybe a little a little crazy there honey calm down all right no you and i you and i both know that you just need some money you're not going to hurt anybody you don't want to go to jail why did you do it listen you should you should stay on the shallow the shallow way okay you want it you want the things to be okay you want the things to be i want card right now you need to go to different store you need to go to a different store and buy me target gift card what card will you buy me what card will you buy me steve target gift card [Music] what for someone who seems to think so highly of themselves and who has claimed to have so much power over this situation you're acting like a little child you're acting like a fool what are you hoping to get out of this because because 10 hours ago when i talked to you on the phone you stole 260 000 for me and i can do that again i'm looking at my bank and i'm realizing i still have two hundred and sixty thousand dollars in here and okay so do you want me to take your screen like a helpless little child when they when mommy doesn't give you what you want and it makes me think to myself you know what steve has no control over this situation i mean if if he could take 260 thousand dollars from my bank account right now why wouldn't he just do do you want to see how i take it steve why why would you no no no why would you come to my house and threaten my family over 2 000 when you could just take 260 000 for me i'm curious i am a good person that is the reason i want those back good person you just threatened to murder my husband if i don't give you two thousand dollars what's wrong with you are you gonna give it are you gonna give it to me you've lost your mind do you hear me you have no clue what you're doing right now honey you're threatening my family like it doesn't even matter over what over what steve i still am i'd still have a thousand dollars worth of gift cards here just take my money you know what i told you that before you can take all my i told you you could take sixty thousand dollars for me and you didn't want but did you did that you didn't want it and you want to talk to me again you're going to have to listen here buckaroo all right i'm trying to help you i'm trying to help because i don't want you to bother my family anymore try that for a second you're a very you are a very very very you know i haven't seen a [\\xa0__\\xa0] like you relaxed trust me this was all a plan all a game you know it was all a game from you i have i did understood this from a very beginning this was a game okay i'm not gonna pick up your call any day honey what listen how do i make sure you don't call me or my son ever again you need to go to a different store okay and you need to buy three thousand dollars card no no take care no no no you wasted twenty thousand dollars time me right now take twenty thousand dollars for me oh twenty thousand how i don't know the same way that you would take the two hundred and sixty thousand why don't you just i can take all the money i can't take in bits and pieces if i want i can take all the money okay steve you're a good person yes i trust you right i know you're just a kid thank you you don't have your head on straight right now all right sweetie all right honey yeah take the 260 000 from my bank and then send me back 200 000. okay i cannot do that ma'am the moment i take it i won't be able to give it to you back okay it's a free country you can do whatever you want it's it's only you who can do it all right can you buy me more cards can you buy me more cards what are you talking about why couldn't you guard me gift card why can't you give me one mom steve here's what you do write this down take the money go to your bank take it out of the bank put it in a box and wrap it in tin foil like you told me and then mail it to my house you have my address right what's my address steve that's my i have everything what's my address you live in chicago and what's my address i have it written what is it when the bullet hits your husband [Music] when you when you throw threats okay give me the muscle i want to know steve does it make you feel good does it make you feel like a powerful strong man when you threaten someone like that how would you how would you like it if you're someone you cared about had that happen to them if your grandma or your mom your wife yes if they said anything even close to that they would feel disgust and shame and yet you spout it like it's no big deal which means you oh god honey i can only imagine can i ask you now can i ask you something now can i ask you something can i ask you something are you listening okay so here's what you're doing here's what we're gonna do honey you are going to give me you have 900 cards you have 900 to negotiate you have nine okay i'm willing okay instead of you taking 260 000 i'll give you a 500 google play card and you will leave me and my family alone deal for 500 are you kidding me i want twenty five hundred dollars as i promised on the call sorry i mean one more five hundred dollar card because you already have the fifteen hundred dollars so i want two thousand total why do two thousand total is what i mean white man what are you talking about honey what are you talking about you have redeemed the [\\xa0__\\xa0] card in your own [\\xa0__\\xa0] account i can't hear you what did you say you see that right there do you have do you have this yeah that's who you have my email yeah that was the google card right so what happens is uh here i'll tell you take the card and take that code uh okay yeah yeah yeah all right okay and copy copy that color okay copy and then you're to want to take it take it after you what are you doing again i'm leaving again if you go over there okay what is this doing give him the money now from your account i don't understand what you're doing for that i thought you just gave i thought you just gave it i i think he's not freaking out because he thinks [Music] i might have to i can help you mom i can help you hold on hold on i can help you hold on please worldwide hold on tech professionals okay let me click that mom can you please he doesn't see that it's redirecting us to zombocom oh this is great this is perfect it's got the phone number for google support 25 by 25 by 7.00 any time and we will be there to help you okay hold on a minute don't have to help us they're gonna have to help us find the password because i don't know if my husband knows i don't know if it knows the password just give me one quick second okay okay hold on please do not do anything till the time i tell you to okay hold on honey i'm calling from my husband's phone so we can get the password all right no no no hold on hold on do not call anybody hold on can you hear it we're on hold don't call them do not call them okay so i'm on hold with them um i'm gonna probably put you down and i'll talk i'll talk to them about getting my uh my password and everything okay honey we'll get this figured out it seems like my husband's okay with it all right this is good i can get you the account ma'am click on man click on forgot password you need to open his email and click i think i might just leave the call right there to be honest if we never talk to him again i feel like we accomplished a lot in that we spent 10 hours with him we we heard rage like i've never heard before and it was an experience that i likely will never forget so far i haven't heard from steve i don't know if he's just letting his voice heal or rethinking everything about his life i don't know if this will be an experience that makes steve think twice about what he's doing but i hope that you had the opportunity to learn from this and get a couple laughs at his expense thank you so much and as always know that you are loved valued and appreciated i'll see the next video [Music] hello okay\")]"
            ]
          },
          "metadata": {},
          "execution_count": 194
        }
      ]
    },
    {
      "cell_type": "code",
      "source": [
        "steve = steve[0].page_content"
      ],
      "metadata": {
        "id": "FV1kH3qcHgRh"
      },
      "execution_count": null,
      "outputs": []
    },
    {
      "cell_type": "code",
      "source": [
        "len(set(cleanup(steve).split()))"
      ],
      "metadata": {
        "colab": {
          "base_uri": "https://localhost:8080/"
        },
        "id": "ZzFQ45OEIEEk",
        "outputId": "3717bbfc-60a1-4cf3-e52a-7bc1345d2b3c"
      },
      "execution_count": null,
      "outputs": [
        {
          "output_type": "execute_result",
          "data": {
            "text/plain": [
              "963"
            ]
          },
          "metadata": {},
          "execution_count": 196
        }
      ]
    },
    {
      "cell_type": "code",
      "source": [
        "two_lovers_first_kiss = YoutubeLoader.from_youtube_url(\n",
        "    \"https://youtu.be/-dJWB9FoMCU\",\n",
        "    add_video_info=True,\n",
        "    language=[\"en\", \"id\"]\n",
        ").load()[0].page_content\n",
        "\n",
        "len(set(cleanup(two_lovers_first_kiss).split()))"
      ],
      "metadata": {
        "colab": {
          "base_uri": "https://localhost:8080/"
        },
        "id": "09eT-mMFIhAB",
        "outputId": "da1d34f9-baa2-4549-d9bc-6ce5b92b374a"
      },
      "execution_count": null,
      "outputs": [
        {
          "output_type": "execute_result",
          "data": {
            "text/plain": [
              "560"
            ]
          },
          "metadata": {},
          "execution_count": 197
        }
      ]
    },
    {
      "cell_type": "code",
      "source": [
        "similaridad_con_preprocess(cleanup(steve),cleanup(two_lovers_first_kiss))"
      ],
      "metadata": {
        "colab": {
          "base_uri": "https://localhost:8080/"
        },
        "id": "YoKQUBAbJG3b",
        "outputId": "b9c5b0e2-4fb7-4d58-8962-bdc8f628d966"
      },
      "execution_count": null,
      "outputs": [
        {
          "output_type": "execute_result",
          "data": {
            "text/plain": [
              "0.22867853795688847"
            ]
          },
          "metadata": {},
          "execution_count": 198
        }
      ]
    },
    {
      "cell_type": "code",
      "source": [
        "lolip = set(cleanup(two_lovers_first_kiss).split())\n",
        "kit = set(cleanup(steve).split())\n",
        "\n",
        "len(lolip.union(kit))"
      ],
      "metadata": {
        "colab": {
          "base_uri": "https://localhost:8080/"
        },
        "id": "OGmR2ddAMIA0",
        "outputId": "ccf90478-1146-46ec-bbab-d385aa76e10d"
      },
      "execution_count": null,
      "outputs": [
        {
          "output_type": "execute_result",
          "data": {
            "text/plain": [
              "1262"
            ]
          },
          "metadata": {},
          "execution_count": 199
        }
      ]
    },
    {
      "cell_type": "code",
      "source": [
        "crow_pro = YoutubeLoader.from_youtube_url(\n",
        "    \"https://youtu.be/wSfDCLQhbns\",\n",
        "    add_video_info=True,\n",
        "    language=[\"en\", \"id\"]\n",
        ").load()[0].page_content\n",
        "\n",
        "len(set(cleanup(crow_pro).split()))\n"
      ],
      "metadata": {
        "colab": {
          "base_uri": "https://localhost:8080/"
        },
        "id": "ziAJUvxaMVdI",
        "outputId": "c79249e1-8f8c-4638-b987-1add8a8a640f"
      },
      "execution_count": null,
      "outputs": [
        {
          "output_type": "execute_result",
          "data": {
            "text/plain": [
              "1176"
            ]
          },
          "metadata": {},
          "execution_count": 200
        }
      ]
    },
    {
      "cell_type": "code",
      "source": [
        "kit_2 = set(cleanup(crow_pro).split())\n",
        "\n",
        "len(lolip.union(kit).union(kit_2))"
      ],
      "metadata": {
        "colab": {
          "base_uri": "https://localhost:8080/"
        },
        "id": "wWoM412BNMSA",
        "outputId": "1a909ad8-9239-4487-fbf4-feeb063779d0"
      },
      "execution_count": null,
      "outputs": [
        {
          "output_type": "execute_result",
          "data": {
            "text/plain": [
              "1872"
            ]
          },
          "metadata": {},
          "execution_count": 201
        }
      ]
    },
    {
      "cell_type": "code",
      "source": [
        "similaridad_con_preprocess(cleanup(steve),cleanup(crow_pro))"
      ],
      "metadata": {
        "colab": {
          "base_uri": "https://localhost:8080/"
        },
        "id": "UomyMkBJNdO6",
        "outputId": "1c1dc352-dca0-427b-e35c-e41c51f86ae9"
      },
      "execution_count": null,
      "outputs": [
        {
          "output_type": "execute_result",
          "data": {
            "text/plain": [
              "0.3380703066566941"
            ]
          },
          "metadata": {},
          "execution_count": 202
        }
      ]
    },
    {
      "cell_type": "markdown",
      "source": [
        "# Preprocesamiento: generalizacion"
      ],
      "metadata": {
        "id": "P3CZvpmTNxt-"
      }
    },
    {
      "cell_type": "code",
      "source": [
        "def preprocess(my_string):\n",
        "    my_string = cleanup(my_string)\n",
        "    return my_string.lower()"
      ],
      "metadata": {
        "id": "KVH9SHJVOj4q"
      },
      "execution_count": null,
      "outputs": []
    },
    {
      "cell_type": "code",
      "source": [
        "def similaridad_con_preprocess(doc_1,doc_2):\n",
        "    doc_1 = preprocess(doc_1)\n",
        "    doc_2 = preprocess(doc_2)\n",
        "\n",
        "    return similaridad_bow(doc_1,doc_2)"
      ],
      "metadata": {
        "id": "WP2bHRT4N8Ae"
      },
      "execution_count": null,
      "outputs": []
    },
    {
      "cell_type": "code",
      "source": [
        "import nltk"
      ],
      "metadata": {
        "id": "c_RxPdz1OsUv"
      },
      "execution_count": null,
      "outputs": []
    },
    {
      "cell_type": "code",
      "source": [
        "nltk.word_tokenize(test_string)"
      ],
      "metadata": {
        "colab": {
          "base_uri": "https://localhost:8080/"
        },
        "id": "bn__6sP_O3pD",
        "outputId": "2009f93b-c783-41e9-d70d-96e7d5ffaed8"
      },
      "execution_count": null,
      "outputs": [
        {
          "output_type": "execute_result",
          "data": {
            "text/plain": [
              "['This',\n",
              " 'is',\n",
              " 'the',\n",
              " 'mostly',\n",
              " 'UNEDITED',\n",
              " 'version',\n",
              " 'of',\n",
              " 'scammers',\n",
              " 'wasting',\n",
              " 'countless',\n",
              " 'hours',\n",
              " 'demanding',\n",
              " 'more',\n",
              " 'money',\n",
              " 'and',\n",
              " 'gift',\n",
              " 'cards']"
            ]
          },
          "metadata": {},
          "execution_count": 206
        }
      ]
    },
    {
      "cell_type": "code",
      "source": [
        "nltk.download('punkt')\n",
        "nltk.word_tokenize(test_string)"
      ],
      "metadata": {
        "colab": {
          "base_uri": "https://localhost:8080/"
        },
        "id": "0Q-nwt1oO6gS",
        "outputId": "c7a974b2-f0da-4835-a65d-fb6f69d9d54b"
      },
      "execution_count": null,
      "outputs": [
        {
          "output_type": "stream",
          "name": "stderr",
          "text": [
            "[nltk_data] Downloading package punkt to /root/nltk_data...\n",
            "[nltk_data]   Package punkt is already up-to-date!\n"
          ]
        },
        {
          "output_type": "execute_result",
          "data": {
            "text/plain": [
              "['This',\n",
              " 'is',\n",
              " 'the',\n",
              " 'mostly',\n",
              " 'UNEDITED',\n",
              " 'version',\n",
              " 'of',\n",
              " 'scammers',\n",
              " 'wasting',\n",
              " 'countless',\n",
              " 'hours',\n",
              " 'demanding',\n",
              " 'more',\n",
              " 'money',\n",
              " 'and',\n",
              " 'gift',\n",
              " 'cards']"
            ]
          },
          "metadata": {},
          "execution_count": 207
        }
      ]
    },
    {
      "cell_type": "code",
      "source": [
        "stemmer = nltk.stem.snowball.EnglishStemmer()"
      ],
      "metadata": {
        "id": "Jk316PlXPJNO"
      },
      "execution_count": null,
      "outputs": []
    },
    {
      "cell_type": "code",
      "source": [
        "stemmer.stem(\"cars\")"
      ],
      "metadata": {
        "colab": {
          "base_uri": "https://localhost:8080/",
          "height": 36
        },
        "id": "y9JUALK3PZjV",
        "outputId": "e84c5fd1-1ee6-42d1-c6a1-6c61a5e38a90"
      },
      "execution_count": null,
      "outputs": [
        {
          "output_type": "execute_result",
          "data": {
            "text/plain": [
              "'car'"
            ],
            "application/vnd.google.colaboratory.intrinsic+json": {
              "type": "string"
            }
          },
          "metadata": {},
          "execution_count": 209
        }
      ]
    },
    {
      "cell_type": "code",
      "source": [
        "stemmer.stem(\"running running\")"
      ],
      "metadata": {
        "colab": {
          "base_uri": "https://localhost:8080/",
          "height": 36
        },
        "id": "oVUDe7rkPwg6",
        "outputId": "3e2898ca-2000-4684-c893-7febbad88deb"
      },
      "execution_count": null,
      "outputs": [
        {
          "output_type": "execute_result",
          "data": {
            "text/plain": [
              "'running run'"
            ],
            "application/vnd.google.colaboratory.intrinsic+json": {
              "type": "string"
            }
          },
          "metadata": {},
          "execution_count": 210
        }
      ]
    },
    {
      "cell_type": "code",
      "source": [
        "[ stemmer.stem(w) for w in preprocess(\"running running\").split() ]"
      ],
      "metadata": {
        "colab": {
          "base_uri": "https://localhost:8080/"
        },
        "id": "_w4ckg6tQPIb",
        "outputId": "4cfe273d-8e0a-4296-b7a7-33ed8c5aee63"
      },
      "execution_count": null,
      "outputs": [
        {
          "output_type": "execute_result",
          "data": {
            "text/plain": [
              "['run', 'run']"
            ]
          },
          "metadata": {},
          "execution_count": 211
        }
      ]
    },
    {
      "cell_type": "code",
      "source": [
        "set([ stemmer.stem(w) for w in preprocess(\"running running\").split() ])"
      ],
      "metadata": {
        "colab": {
          "base_uri": "https://localhost:8080/"
        },
        "id": "fern7QGaQlyr",
        "outputId": "49ba748e-ee1c-48d3-bd00-4fd0fc3775a0"
      },
      "execution_count": null,
      "outputs": [
        {
          "output_type": "execute_result",
          "data": {
            "text/plain": [
              "{'run'}"
            ]
          },
          "metadata": {},
          "execution_count": 212
        }
      ]
    },
    {
      "cell_type": "code",
      "source": [
        "set([ stemmer.stem(w) for w in preprocess(test_string).split() ])"
      ],
      "metadata": {
        "colab": {
          "base_uri": "https://localhost:8080/"
        },
        "id": "-D8OJpZSQqCS",
        "outputId": "04f841df-c032-4456-db58-88d25c9fde6f"
      },
      "execution_count": null,
      "outputs": [
        {
          "output_type": "execute_result",
          "data": {
            "text/plain": [
              "{'and',\n",
              " 'card',\n",
              " 'countless',\n",
              " 'demand',\n",
              " 'gift',\n",
              " 'hour',\n",
              " 'is',\n",
              " 'money',\n",
              " 'more',\n",
              " 'most',\n",
              " 'of',\n",
              " 'scammer',\n",
              " 'the',\n",
              " 'this',\n",
              " 'unedit',\n",
              " 'version',\n",
              " 'wast'}"
            ]
          },
          "metadata": {},
          "execution_count": 213
        }
      ]
    },
    {
      "cell_type": "code",
      "source": [
        "len(set([ stemmer.stem(w) for w in preprocess(test_string).split() ]))"
      ],
      "metadata": {
        "colab": {
          "base_uri": "https://localhost:8080/"
        },
        "id": "7OffvdKuQ3S1",
        "outputId": "b5f3a956-bc9c-4b7a-d193-6752fb0673cf"
      },
      "execution_count": null,
      "outputs": [
        {
          "output_type": "execute_result",
          "data": {
            "text/plain": [
              "17"
            ]
          },
          "metadata": {},
          "execution_count": 214
        }
      ]
    },
    {
      "cell_type": "code",
      "source": [
        "len(set(preprocess(test_string).split()))"
      ],
      "metadata": {
        "colab": {
          "base_uri": "https://localhost:8080/"
        },
        "id": "Ju2dQIBzRELr",
        "outputId": "9258bccb-cc2d-42ee-d6d4-f5c71605d75f"
      },
      "execution_count": null,
      "outputs": [
        {
          "output_type": "execute_result",
          "data": {
            "text/plain": [
              "17"
            ]
          },
          "metadata": {},
          "execution_count": 215
        }
      ]
    },
    {
      "cell_type": "code",
      "source": [
        "len(set([ stemmer.stem(w) for w in preprocess(steve).split() ]))"
      ],
      "metadata": {
        "colab": {
          "base_uri": "https://localhost:8080/"
        },
        "id": "-cm6BN0eRI5m",
        "outputId": "917b096e-049b-421f-f3cf-403e245dd230"
      },
      "execution_count": null,
      "outputs": [
        {
          "output_type": "execute_result",
          "data": {
            "text/plain": [
              "823"
            ]
          },
          "metadata": {},
          "execution_count": 216
        }
      ]
    },
    {
      "cell_type": "code",
      "source": [
        "len(set(preprocess(steve).split()))"
      ],
      "metadata": {
        "colab": {
          "base_uri": "https://localhost:8080/"
        },
        "id": "Rojxd7c8RPW-",
        "outputId": "f01e994a-22de-4787-fcc1-7774423c7e9f"
      },
      "execution_count": null,
      "outputs": [
        {
          "output_type": "execute_result",
          "data": {
            "text/plain": [
              "963"
            ]
          },
          "metadata": {},
          "execution_count": 217
        }
      ]
    },
    {
      "cell_type": "code",
      "source": [
        "len(lolip.union(kit).union(kit_2))"
      ],
      "metadata": {
        "colab": {
          "base_uri": "https://localhost:8080/"
        },
        "id": "zydOXvXxRY-V",
        "outputId": "178fb254-6ba4-41cf-87d5-fc0c8de45d55"
      },
      "execution_count": null,
      "outputs": [
        {
          "output_type": "execute_result",
          "data": {
            "text/plain": [
              "1872"
            ]
          },
          "metadata": {},
          "execution_count": 218
        }
      ]
    },
    {
      "cell_type": "code",
      "source": [
        "len(set( stemmer.stem(w) for w in lolip.union(kit).union(kit_2) ))"
      ],
      "metadata": {
        "colab": {
          "base_uri": "https://localhost:8080/"
        },
        "id": "JquBhGO9Rrb7",
        "outputId": "018c5c5e-9dc5-4603-88d3-f84b616bbcb3"
      },
      "execution_count": null,
      "outputs": [
        {
          "output_type": "execute_result",
          "data": {
            "text/plain": [
              "1500"
            ]
          },
          "metadata": {},
          "execution_count": 219
        }
      ]
    },
    {
      "cell_type": "code",
      "source": [
        "def similaridad_con_preprocess(doc_1,doc_2):\n",
        "    doc_1 = preprocess(doc_1)\n",
        "    doc_2 = preprocess(doc_2)\n",
        "\n",
        "    doc_1 = \" \".join(stemmer.stem(w) for w in doc_1.split())\n",
        "    doc_2 = \" \".join(stemmer.stem(w) for w in doc_2.split())\n",
        "\n",
        "    return similaridad_bow(doc_1,doc_2)"
      ],
      "metadata": {
        "id": "csZvYzsNR0Ji"
      },
      "execution_count": null,
      "outputs": []
    },
    {
      "cell_type": "code",
      "source": [
        "similaridad_con_preprocess(steve,two_lovers_first_kiss)"
      ],
      "metadata": {
        "colab": {
          "base_uri": "https://localhost:8080/"
        },
        "id": "fMy-afI8SRNw",
        "outputId": "70e1064f-7044-4c57-92a3-b1777df8f584"
      },
      "execution_count": null,
      "outputs": [
        {
          "output_type": "execute_result",
          "data": {
            "text/plain": [
              "0.24485981308411214"
            ]
          },
          "metadata": {},
          "execution_count": 221
        }
      ]
    },
    {
      "cell_type": "code",
      "source": [
        "similaridad_con_preprocess(steve,crow_pro)"
      ],
      "metadata": {
        "colab": {
          "base_uri": "https://localhost:8080/"
        },
        "id": "3KNlrUhaSWVL",
        "outputId": "24aeb141-9956-4b5b-bbc3-6604a02024b2"
      },
      "execution_count": null,
      "outputs": [
        {
          "output_type": "execute_result",
          "data": {
            "text/plain": [
              "0.37059724349157736"
            ]
          },
          "metadata": {},
          "execution_count": 222
        }
      ]
    },
    {
      "cell_type": "code",
      "source": [
        "similaridad_con_preprocess(steve,steve)"
      ],
      "metadata": {
        "colab": {
          "base_uri": "https://localhost:8080/"
        },
        "id": "bbnWlj4TSiCC",
        "outputId": "f02c1737-5815-467e-d96f-49ad53eedf23"
      },
      "execution_count": null,
      "outputs": [
        {
          "output_type": "execute_result",
          "data": {
            "text/plain": [
              "1.0"
            ]
          },
          "metadata": {},
          "execution_count": 223
        }
      ]
    },
    {
      "cell_type": "code",
      "source": [
        "similaridad_con_preprocess(steve,\"\")"
      ],
      "metadata": {
        "colab": {
          "base_uri": "https://localhost:8080/"
        },
        "id": "pWni8AjCS1Ux",
        "outputId": "a7f60f37-617c-4aae-876f-79e7addb25f7"
      },
      "execution_count": null,
      "outputs": [
        {
          "output_type": "execute_result",
          "data": {
            "text/plain": [
              "0.0"
            ]
          },
          "metadata": {},
          "execution_count": 224
        }
      ]
    },
    {
      "cell_type": "code",
      "source": [
        "similaridad_con_preprocess(\"red car\",\"red cars\")"
      ],
      "metadata": {
        "colab": {
          "base_uri": "https://localhost:8080/"
        },
        "id": "S4F2RVLJS3UU",
        "outputId": "6f8974cc-9935-4266-8809-f5ae1440bd82"
      },
      "execution_count": null,
      "outputs": [
        {
          "output_type": "execute_result",
          "data": {
            "text/plain": [
              "1.0"
            ]
          },
          "metadata": {},
          "execution_count": 225
        }
      ]
    },
    {
      "cell_type": "code",
      "source": [
        "stemmer.stem(\"Darling\")"
      ],
      "metadata": {
        "colab": {
          "base_uri": "https://localhost:8080/",
          "height": 36
        },
        "id": "2t6hR4LZS9rr",
        "outputId": "48b9f59b-0925-44e8-b615-58defcedba3d"
      },
      "execution_count": null,
      "outputs": [
        {
          "output_type": "execute_result",
          "data": {
            "text/plain": [
              "'darl'"
            ],
            "application/vnd.google.colaboratory.intrinsic+json": {
              "type": "string"
            }
          },
          "metadata": {},
          "execution_count": 226
        }
      ]
    },
    {
      "cell_type": "code",
      "source": [
        "nltk.tag.pos_tag(test_string.split())"
      ],
      "metadata": {
        "colab": {
          "base_uri": "https://localhost:8080/"
        },
        "id": "1Apiz15KpLu7",
        "outputId": "11dac482-3679-4784-ab7f-056fd0148084"
      },
      "execution_count": null,
      "outputs": [
        {
          "output_type": "execute_result",
          "data": {
            "text/plain": [
              "[('This', 'DT'),\n",
              " ('is', 'VBZ'),\n",
              " ('the', 'DT'),\n",
              " ('mostly', 'RB'),\n",
              " ('UNEDITED', 'NNP'),\n",
              " ('version', 'NN'),\n",
              " ('of', 'IN'),\n",
              " ('scammers', 'NNS'),\n",
              " ('wasting', 'VBG'),\n",
              " ('countless', 'NN'),\n",
              " ('hours', 'NNS'),\n",
              " ('demanding', 'VBG'),\n",
              " ('more', 'JJR'),\n",
              " ('money', 'NN'),\n",
              " ('and', 'CC'),\n",
              " ('gift', 'NN'),\n",
              " ('cards', 'NNS')]"
            ]
          },
          "metadata": {},
          "execution_count": 227
        }
      ]
    },
    {
      "cell_type": "code",
      "source": [
        "nltk.download('averaged_perceptron_tagger')\n",
        "nltk.download('universal_tagset')\n",
        "\n",
        "nltk.tag.pos_tag(test_string.split(),tagset=\"universal\")"
      ],
      "metadata": {
        "colab": {
          "base_uri": "https://localhost:8080/"
        },
        "id": "TH4vhVXmp0gx",
        "outputId": "d5201a51-6219-482e-e342-ed7743888c1e"
      },
      "execution_count": null,
      "outputs": [
        {
          "output_type": "stream",
          "name": "stderr",
          "text": [
            "[nltk_data] Downloading package averaged_perceptron_tagger to\n",
            "[nltk_data]     /root/nltk_data...\n",
            "[nltk_data]   Package averaged_perceptron_tagger is already up-to-\n",
            "[nltk_data]       date!\n",
            "[nltk_data] Downloading package universal_tagset to /root/nltk_data...\n",
            "[nltk_data]   Package universal_tagset is already up-to-date!\n"
          ]
        },
        {
          "output_type": "execute_result",
          "data": {
            "text/plain": [
              "[('This', 'DET'),\n",
              " ('is', 'VERB'),\n",
              " ('the', 'DET'),\n",
              " ('mostly', 'ADV'),\n",
              " ('UNEDITED', 'NOUN'),\n",
              " ('version', 'NOUN'),\n",
              " ('of', 'ADP'),\n",
              " ('scammers', 'NOUN'),\n",
              " ('wasting', 'VERB'),\n",
              " ('countless', 'NOUN'),\n",
              " ('hours', 'NOUN'),\n",
              " ('demanding', 'VERB'),\n",
              " ('more', 'ADJ'),\n",
              " ('money', 'NOUN'),\n",
              " ('and', 'CONJ'),\n",
              " ('gift', 'NOUN'),\n",
              " ('cards', 'NOUN')]"
            ]
          },
          "metadata": {},
          "execution_count": 228
        }
      ]
    },
    {
      "cell_type": "markdown",
      "source": [
        "Definiciones en:\n",
        "\n",
        "https://universaldependencies.org/u/pos/"
      ],
      "metadata": {
        "id": "C8upTOU0rTso"
      }
    },
    {
      "cell_type": "code",
      "source": [
        "from nltk.stem import WordNetLemmatizer\n",
        "\n",
        "lemmatizer = WordNetLemmatizer()\n",
        "\n",
        "lemmatizer.lemmatize(\"cars\")"
      ],
      "metadata": {
        "colab": {
          "base_uri": "https://localhost:8080/",
          "height": 36
        },
        "id": "GZZ8nE_Ap8BC",
        "outputId": "1efa2eef-e831-4f54-a5f8-56f4c1f275ed"
      },
      "execution_count": null,
      "outputs": [
        {
          "output_type": "execute_result",
          "data": {
            "text/plain": [
              "'car'"
            ],
            "application/vnd.google.colaboratory.intrinsic+json": {
              "type": "string"
            }
          },
          "metadata": {},
          "execution_count": 229
        }
      ]
    },
    {
      "cell_type": "code",
      "source": [
        "nltk.download('wordnet')\n",
        "lemmatizer.lemmatize(\"cars\")"
      ],
      "metadata": {
        "colab": {
          "base_uri": "https://localhost:8080/",
          "height": 71
        },
        "id": "YkO7HLbMruNF",
        "outputId": "2beded50-9387-4583-981f-79e4c438ba5f"
      },
      "execution_count": null,
      "outputs": [
        {
          "output_type": "stream",
          "name": "stderr",
          "text": [
            "[nltk_data] Downloading package wordnet to /root/nltk_data...\n",
            "[nltk_data]   Package wordnet is already up-to-date!\n"
          ]
        },
        {
          "output_type": "execute_result",
          "data": {
            "text/plain": [
              "'car'"
            ],
            "application/vnd.google.colaboratory.intrinsic+json": {
              "type": "string"
            }
          },
          "metadata": {},
          "execution_count": 230
        }
      ]
    },
    {
      "cell_type": "code",
      "source": [
        "lemmatizer.lemmatize(\"darling\")"
      ],
      "metadata": {
        "colab": {
          "base_uri": "https://localhost:8080/",
          "height": 36
        },
        "id": "MKmMXny2rxUH",
        "outputId": "8c993795-a533-4903-fc1f-36c4a124b86f"
      },
      "execution_count": null,
      "outputs": [
        {
          "output_type": "execute_result",
          "data": {
            "text/plain": [
              "'darling'"
            ],
            "application/vnd.google.colaboratory.intrinsic+json": {
              "type": "string"
            }
          },
          "metadata": {},
          "execution_count": 231
        }
      ]
    },
    {
      "cell_type": "code",
      "source": [
        "lemmatizer.lemmatize(\"running\")"
      ],
      "metadata": {
        "colab": {
          "base_uri": "https://localhost:8080/",
          "height": 36
        },
        "id": "a-5wtxVfr80g",
        "outputId": "4e5bf563-4997-414e-8565-9986dbcb8ac9"
      },
      "execution_count": null,
      "outputs": [
        {
          "output_type": "execute_result",
          "data": {
            "text/plain": [
              "'running'"
            ],
            "application/vnd.google.colaboratory.intrinsic+json": {
              "type": "string"
            }
          },
          "metadata": {},
          "execution_count": 232
        }
      ]
    },
    {
      "cell_type": "code",
      "source": [
        "lemmatizer.lemmatize(\"running\",pos=\"v\")"
      ],
      "metadata": {
        "colab": {
          "base_uri": "https://localhost:8080/",
          "height": 36
        },
        "id": "AbUsnJ2jsD-o",
        "outputId": "f333eda2-ec63-4bb5-9e4c-b590d5afd6ba"
      },
      "execution_count": null,
      "outputs": [
        {
          "output_type": "execute_result",
          "data": {
            "text/plain": [
              "'run'"
            ],
            "application/vnd.google.colaboratory.intrinsic+json": {
              "type": "string"
            }
          },
          "metadata": {},
          "execution_count": 233
        }
      ]
    },
    {
      "cell_type": "code",
      "source": [
        "nltk.tag.pos_tag(test_string.split(),tagset=\"universal\")"
      ],
      "metadata": {
        "colab": {
          "base_uri": "https://localhost:8080/"
        },
        "id": "8hLlCZZrsJpb",
        "outputId": "d2633dfb-ba8b-4297-9362-26af6b2b94b5"
      },
      "execution_count": null,
      "outputs": [
        {
          "output_type": "execute_result",
          "data": {
            "text/plain": [
              "[('This', 'DET'),\n",
              " ('is', 'VERB'),\n",
              " ('the', 'DET'),\n",
              " ('mostly', 'ADV'),\n",
              " ('UNEDITED', 'NOUN'),\n",
              " ('version', 'NOUN'),\n",
              " ('of', 'ADP'),\n",
              " ('scammers', 'NOUN'),\n",
              " ('wasting', 'VERB'),\n",
              " ('countless', 'NOUN'),\n",
              " ('hours', 'NOUN'),\n",
              " ('demanding', 'VERB'),\n",
              " ('more', 'ADJ'),\n",
              " ('money', 'NOUN'),\n",
              " ('and', 'CONJ'),\n",
              " ('gift', 'NOUN'),\n",
              " ('cards', 'NOUN')]"
            ]
          },
          "metadata": {},
          "execution_count": 234
        }
      ]
    },
    {
      "cell_type": "markdown",
      "source": [
        "*pos (str) – The Part Of Speech tag. Valid options are “n” for nouns, “v” for verbs, “a” for adjectives, “r” for adverbs and “s” for satellite adjectives.*\n",
        "\n",
        "Nuestros marcadores no estan en ese formato, asi que armamos una tabla de traduccion."
      ],
      "metadata": {
        "id": "jHlKZouIslTM"
      }
    },
    {
      "cell_type": "code",
      "source": [
        "translate_pos = {\n",
        "    \"NOUN\":\"n\",\n",
        "    \"VERB\":\"v\",\n",
        "    \"ADJ\":\"a\",\n",
        "    \"ADV\":\"r\",\n",
        "}"
      ],
      "metadata": {
        "id": "Bna992z2skLG"
      },
      "execution_count": null,
      "outputs": []
    },
    {
      "cell_type": "code",
      "source": [
        "tagged_string = [ (w,translate_pos.get(pos,\"n\")) for w,pos in nltk.tag.pos_tag(test_string.split(),tagset=\"universal\")]\n",
        "tagged_string"
      ],
      "metadata": {
        "colab": {
          "base_uri": "https://localhost:8080/"
        },
        "id": "LrR1BOOps_-c",
        "outputId": "1aa218c0-bbe1-487a-f299-1bf3f36d684f"
      },
      "execution_count": null,
      "outputs": [
        {
          "output_type": "execute_result",
          "data": {
            "text/plain": [
              "[('This', 'n'),\n",
              " ('is', 'v'),\n",
              " ('the', 'n'),\n",
              " ('mostly', 'r'),\n",
              " ('UNEDITED', 'n'),\n",
              " ('version', 'n'),\n",
              " ('of', 'n'),\n",
              " ('scammers', 'n'),\n",
              " ('wasting', 'v'),\n",
              " ('countless', 'n'),\n",
              " ('hours', 'n'),\n",
              " ('demanding', 'v'),\n",
              " ('more', 'a'),\n",
              " ('money', 'n'),\n",
              " ('and', 'n'),\n",
              " ('gift', 'n'),\n",
              " ('cards', 'n')]"
            ]
          },
          "metadata": {},
          "execution_count": 237
        }
      ]
    },
    {
      "cell_type": "code",
      "source": [
        "test_string"
      ],
      "metadata": {
        "colab": {
          "base_uri": "https://localhost:8080/",
          "height": 36
        },
        "id": "0Ywrs-7EtyDL",
        "outputId": "9b8b3585-26ad-4bfd-baed-fd5409cc12ae"
      },
      "execution_count": null,
      "outputs": [
        {
          "output_type": "execute_result",
          "data": {
            "text/plain": [
              "'\\nThis is the mostly UNEDITED version of scammers wasting countless hours demanding more money and gift cards\\n'"
            ],
            "application/vnd.google.colaboratory.intrinsic+json": {
              "type": "string"
            }
          },
          "metadata": {},
          "execution_count": 238
        }
      ]
    },
    {
      "cell_type": "code",
      "source": [
        "\" \".join(lemmatizer.lemmatize(w) for w,pos in tagged_string)"
      ],
      "metadata": {
        "colab": {
          "base_uri": "https://localhost:8080/",
          "height": 36
        },
        "id": "CObOkftDtke3",
        "outputId": "d3135881-786c-4578-c429-d8b6e4b818b9"
      },
      "execution_count": null,
      "outputs": [
        {
          "output_type": "execute_result",
          "data": {
            "text/plain": [
              "'This is the mostly UNEDITED version of scammer wasting countless hour demanding more money and gift card'"
            ],
            "application/vnd.google.colaboratory.intrinsic+json": {
              "type": "string"
            }
          },
          "metadata": {},
          "execution_count": 239
        }
      ]
    },
    {
      "cell_type": "code",
      "source": [
        "\" \".join(lemmatizer.lemmatize(w,pos=pos) for w,pos in tagged_string)"
      ],
      "metadata": {
        "colab": {
          "base_uri": "https://localhost:8080/",
          "height": 36
        },
        "id": "4xHeCN7WtQOx",
        "outputId": "38e4fda3-5fd3-4cef-baa6-a47692373349"
      },
      "execution_count": null,
      "outputs": [
        {
          "output_type": "execute_result",
          "data": {
            "text/plain": [
              "'This be the mostly UNEDITED version of scammer waste countless hour demand more money and gift card'"
            ],
            "application/vnd.google.colaboratory.intrinsic+json": {
              "type": "string"
            }
          },
          "metadata": {},
          "execution_count": 240
        }
      ]
    },
    {
      "cell_type": "code",
      "source": [
        "def lematize_string(my_string):\n",
        "    tagged_string = [ (w,translate_pos.get(pos,\"n\")) for w,pos in nltk.tag.pos_tag(my_string.split(),tagset=\"universal\")]\n",
        "    return \" \".join(lemmatizer.lemmatize(w,pos=pos) for w,pos in tagged_string)"
      ],
      "metadata": {
        "id": "hm87Zv8ZuOms"
      },
      "execution_count": null,
      "outputs": []
    },
    {
      "cell_type": "code",
      "source": [
        "def similaridad_con_preprocess(doc_1,doc_2):\n",
        "    doc_1 = preprocess(doc_1)\n",
        "    doc_2 = preprocess(doc_2)\n",
        "\n",
        "    doc_1 = lematize_string(doc_1)\n",
        "    doc_2 = lematize_string(doc_2)\n",
        "\n",
        "    return similaridad_bow(doc_1,doc_2)"
      ],
      "metadata": {
        "id": "ZhoEptV-teep"
      },
      "execution_count": null,
      "outputs": []
    },
    {
      "cell_type": "code",
      "source": [
        "similaridad_con_preprocess(steve,two_lovers_first_kiss)"
      ],
      "metadata": {
        "colab": {
          "base_uri": "https://localhost:8080/"
        },
        "id": "ur52V4Pjufum",
        "outputId": "4b13960e-b67a-4cdc-e945-ef965e69c3f6"
      },
      "execution_count": null,
      "outputs": [
        {
          "output_type": "execute_result",
          "data": {
            "text/plain": [
              "0.22867853795688847"
            ]
          },
          "metadata": {},
          "execution_count": 243
        }
      ]
    },
    {
      "cell_type": "code",
      "source": [
        "similaridad_con_preprocess(steve,crow_pro)"
      ],
      "metadata": {
        "colab": {
          "base_uri": "https://localhost:8080/"
        },
        "id": "m99h7jjpumSh",
        "outputId": "8fd21d67-256b-4289-ecc5-6d044fad126c"
      },
      "execution_count": null,
      "outputs": [
        {
          "output_type": "execute_result",
          "data": {
            "text/plain": [
              "0.3380703066566941"
            ]
          },
          "metadata": {},
          "execution_count": 244
        }
      ]
    },
    {
      "cell_type": "code",
      "source": [
        "len(lolip.union(kit).union(kit_2))"
      ],
      "metadata": {
        "colab": {
          "base_uri": "https://localhost:8080/"
        },
        "id": "lZqsgP4xurGd",
        "outputId": "7e7a13a7-345b-4723-f64e-06f897a6ded4"
      },
      "execution_count": null,
      "outputs": [
        {
          "output_type": "execute_result",
          "data": {
            "text/plain": [
              "1872"
            ]
          },
          "metadata": {},
          "execution_count": 245
        }
      ]
    },
    {
      "cell_type": "code",
      "source": [
        "lolip_bow = set(lematize_string(preprocess(two_lovers_first_kiss)).split())\n",
        "\n",
        "lolip_bow"
      ],
      "metadata": {
        "colab": {
          "base_uri": "https://localhost:8080/"
        },
        "id": "etkxqBJ9u3vB",
        "outputId": "9481578f-b758-42fe-abfd-0624f6f4b392"
      },
      "execution_count": null,
      "outputs": [
        {
          "output_type": "execute_result",
          "data": {
            "text/plain": [
              "{'a',\n",
              " 'able',\n",
              " 'about',\n",
              " 'absolutely',\n",
              " 'accidentally',\n",
              " 'across',\n",
              " 'act',\n",
              " 'actually',\n",
              " 'admit',\n",
              " 'again',\n",
              " 'all',\n",
              " 'along',\n",
              " 'also',\n",
              " 'always',\n",
              " 'an',\n",
              " 'and',\n",
              " 'android',\n",
              " 'anno',\n",
              " 'annoy',\n",
              " 'answer',\n",
              " 'any',\n",
              " 'anything',\n",
              " 'apparently',\n",
              " 'appear',\n",
              " 'areow',\n",
              " 'around',\n",
              " 'as',\n",
              " 'at',\n",
              " 'audience',\n",
              " 'awareness',\n",
              " 'awesome',\n",
              " 'awkward',\n",
              " 'b',\n",
              " 'back',\n",
              " 'background',\n",
              " 'bad',\n",
              " 'be',\n",
              " 'because',\n",
              " 'become',\n",
              " 'bed',\n",
              " 'beginning',\n",
              " 'behind',\n",
              " 'believe',\n",
              " 'bet',\n",
              " 'between',\n",
              " 'bite',\n",
              " 'blasting',\n",
              " 'bloody',\n",
              " 'blow',\n",
              " 'boob',\n",
              " 'boovie',\n",
              " 'bottom',\n",
              " 'boy',\n",
              " 'break',\n",
              " 'bull',\n",
              " 'busy',\n",
              " 'but',\n",
              " 'buy',\n",
              " 'buzzy',\n",
              " 'by',\n",
              " 'bye',\n",
              " 'byebye',\n",
              " 'c',\n",
              " 'ca',\n",
              " 'calm',\n",
              " 'can',\n",
              " 'cancer',\n",
              " 'cannot',\n",
              " 'car',\n",
              " 'check',\n",
              " 'chinese',\n",
              " 'cight',\n",
              " 'click',\n",
              " 'clickable',\n",
              " 'clicking',\n",
              " 'cliff',\n",
              " 'combination',\n",
              " 'come',\n",
              " 'comment',\n",
              " 'computer',\n",
              " 'connect',\n",
              " 'consider',\n",
              " 'control',\n",
              " 'could',\n",
              " 'couldn',\n",
              " 'course',\n",
              " 'crawl',\n",
              " 'creepy',\n",
              " 'cringy',\n",
              " 'crips',\n",
              " 'cursor',\n",
              " 'cut',\n",
              " 'cute',\n",
              " 'cuz',\n",
              " 'd',\n",
              " 'damn',\n",
              " 'damnable',\n",
              " 'data',\n",
              " 'day',\n",
              " 'db',\n",
              " 'dead',\n",
              " 'definitely',\n",
              " 'design',\n",
              " 'desk',\n",
              " 'dictionary',\n",
              " 'didn',\n",
              " 'die',\n",
              " 'different',\n",
              " 'dinner',\n",
              " 'direction',\n",
              " 'directly',\n",
              " 'dirty',\n",
              " 'discover',\n",
              " 'do',\n",
              " 'doll',\n",
              " 'don',\n",
              " 'door',\n",
              " 'down',\n",
              " 'ear',\n",
              " 'eat',\n",
              " 'educational',\n",
              " 'effort',\n",
              " 'else',\n",
              " 'embarrassing',\n",
              " 'end',\n",
              " 'enjoy',\n",
              " 'escape',\n",
              " 'even',\n",
              " 'eventually',\n",
              " 'every',\n",
              " 'exact',\n",
              " 'explain',\n",
              " 'explode',\n",
              " 'fantasy',\n",
              " 'fat',\n",
              " 'feel',\n",
              " 'feeling',\n",
              " 'female',\n",
              " 'find',\n",
              " 'first',\n",
              " 'for',\n",
              " 'forward',\n",
              " 'frame',\n",
              " 'from',\n",
              " 'front',\n",
              " 'fun',\n",
              " 'funny',\n",
              " 'future',\n",
              " 'g',\n",
              " 'galaxy',\n",
              " 'game',\n",
              " 'gaming',\n",
              " 'garbage',\n",
              " 'get',\n",
              " 'ghost',\n",
              " 'giant',\n",
              " 'girl',\n",
              " 'glass',\n",
              " 'go',\n",
              " 'god',\n",
              " 'good',\n",
              " 'graphic',\n",
              " 'graphical',\n",
              " 'great',\n",
              " 'grow',\n",
              " 'guess',\n",
              " 'guest',\n",
              " 'guy',\n",
              " 'guys',\n",
              " 'half',\n",
              " 'halfway',\n",
              " 'happen',\n",
              " 'hate',\n",
              " 'haunt',\n",
              " 'have',\n",
              " 'he',\n",
              " 'head',\n",
              " 'hear',\n",
              " 'hell',\n",
              " 'here',\n",
              " 'his',\n",
              " 'hold',\n",
              " 'honestly',\n",
              " 'hope',\n",
              " 'horrible',\n",
              " 'hot',\n",
              " 'hour',\n",
              " 'house',\n",
              " 'how',\n",
              " 'human',\n",
              " 'hurt',\n",
              " 'i',\n",
              " 'if',\n",
              " 'image',\n",
              " 'imagine',\n",
              " 'immediately',\n",
              " 'immersive',\n",
              " 'in',\n",
              " 'incing',\n",
              " 'indulge',\n",
              " 'information',\n",
              " 'ingenuity',\n",
              " 'innovation',\n",
              " 'interest',\n",
              " 'into',\n",
              " 'invite',\n",
              " 'isn',\n",
              " 'issue',\n",
              " 'it',\n",
              " 'jam',\n",
              " 'jerk',\n",
              " 'joke',\n",
              " 'josh',\n",
              " 'just',\n",
              " 'k',\n",
              " 'keep',\n",
              " 'kid',\n",
              " 'kill',\n",
              " 'kiss',\n",
              " 'know',\n",
              " 'knowledge',\n",
              " 'lack',\n",
              " 'last',\n",
              " 'laughter',\n",
              " 'layer',\n",
              " 'leave',\n",
              " 'let',\n",
              " 'lie',\n",
              " 'life',\n",
              " 'liike',\n",
              " 'like',\n",
              " 'line',\n",
              " 'lip',\n",
              " 'listen',\n",
              " 'little',\n",
              " 'll',\n",
              " 'lonely',\n",
              " 'look',\n",
              " 'lose',\n",
              " 'love',\n",
              " 'lp',\n",
              " 'm',\n",
              " 'ma',\n",
              " 'magic',\n",
              " 'make',\n",
              " 'man',\n",
              " 'mansplain',\n",
              " 'many',\n",
              " 'map',\n",
              " 'marty',\n",
              " 'may',\n",
              " 'maybe',\n",
              " 'mcfly',\n",
              " 'me',\n",
              " 'mean',\n",
              " 'metal',\n",
              " 'middle',\n",
              " 'might',\n",
              " 'mile',\n",
              " 'million',\n",
              " 'mindblowing',\n",
              " 'mirror',\n",
              " 'moo',\n",
              " 'more',\n",
              " 'movember',\n",
              " 'mr',\n",
              " 'much',\n",
              " 'murder',\n",
              " 'music',\n",
              " 'must',\n",
              " 'mustache',\n",
              " 'my',\n",
              " 'n',\n",
              " 'name',\n",
              " 'nasty',\n",
              " 'need',\n",
              " 'nerd',\n",
              " 'never',\n",
              " 'night',\n",
              " 'no',\n",
              " 'noise',\n",
              " 'not',\n",
              " 'november',\n",
              " 'now',\n",
              " 'nut',\n",
              " 'obsess',\n",
              " 'odd',\n",
              " 'of',\n",
              " 'off',\n",
              " 'oh',\n",
              " 'okay',\n",
              " 'on',\n",
              " 'one',\n",
              " 'only',\n",
              " 'or',\n",
              " 'origin',\n",
              " 'other',\n",
              " 'out',\n",
              " 'outline',\n",
              " 'over',\n",
              " 'parseek',\n",
              " 'part',\n",
              " 'party',\n",
              " 'people',\n",
              " 'per',\n",
              " 'perfect',\n",
              " 'person',\n",
              " 'pick',\n",
              " 'pit',\n",
              " 'place',\n",
              " 'point',\n",
              " 'pretty',\n",
              " 'problem',\n",
              " 'puffy',\n",
              " 'pulsate',\n",
              " 'puzzle',\n",
              " 'quiet',\n",
              " 'r',\n",
              " 'race',\n",
              " 'rainbow',\n",
              " 're',\n",
              " 'ready',\n",
              " 'real',\n",
              " 'realize',\n",
              " 'really',\n",
              " 'reason',\n",
              " 'reborn',\n",
              " 'restart',\n",
              " 'rhyme',\n",
              " 'right',\n",
              " 'road',\n",
              " 'ronnie',\n",
              " 'room',\n",
              " 'row',\n",
              " 'rud',\n",
              " 'ruddy',\n",
              " 'rude',\n",
              " 's',\n",
              " 'same',\n",
              " 'saver',\n",
              " 'say',\n",
              " 'scene',\n",
              " 'scream',\n",
              " 'screen',\n",
              " 'see',\n",
              " 'sex',\n",
              " 'sexy',\n",
              " 'she',\n",
              " 'shiny',\n",
              " 'should',\n",
              " 'shove',\n",
              " 'show',\n",
              " 'shut',\n",
              " 'shy',\n",
              " 'sick',\n",
              " 'side',\n",
              " 'silence',\n",
              " 'sing',\n",
              " 'six',\n",
              " 'sixlet',\n",
              " 'skeleton',\n",
              " 'sky',\n",
              " 'smell',\n",
              " 'smushed',\n",
              " 'so',\n",
              " 'sol',\n",
              " 'solution',\n",
              " 'solvable',\n",
              " 'solve',\n",
              " 'some',\n",
              " 'someone',\n",
              " 'something',\n",
              " 'sometimes',\n",
              " 'somewhere',\n",
              " 'song',\n",
              " 'sorry',\n",
              " 'sound',\n",
              " 'sp',\n",
              " 'space',\n",
              " 'speaker',\n",
              " 'spider',\n",
              " 'spot',\n",
              " 'spotify',\n",
              " 'square',\n",
              " 'st',\n",
              " 'stal',\n",
              " 'star',\n",
              " 'start',\n",
              " 'std',\n",
              " 'still',\n",
              " 'stop',\n",
              " 'strip',\n",
              " 'strong',\n",
              " 'stuff',\n",
              " 'stupid',\n",
              " 'stw',\n",
              " 'sudden',\n",
              " 'suppose',\n",
              " 'sure',\n",
              " 'swear',\n",
              " 'sweaty',\n",
              " 'syons',\n",
              " 't',\n",
              " 'tag',\n",
              " 'take',\n",
              " 'talk',\n",
              " 'tank',\n",
              " 'ted',\n",
              " 'tell',\n",
              " 'terrible',\n",
              " 'test',\n",
              " 'testicular',\n",
              " 'than',\n",
              " 'thank',\n",
              " 'that',\n",
              " 'the',\n",
              " 'theine',\n",
              " 'their',\n",
              " 'them',\n",
              " 'then',\n",
              " 'there',\n",
              " 'these',\n",
              " 'they',\n",
              " 'think',\n",
              " 'this',\n",
              " 'though',\n",
              " 'three',\n",
              " 'till',\n",
              " 'time',\n",
              " 'tissue',\n",
              " 'to',\n",
              " 'toy',\n",
              " 'transition',\n",
              " 'triying',\n",
              " 'true',\n",
              " 'truth',\n",
              " 'try',\n",
              " 'turn',\n",
              " 'u',\n",
              " 'uh',\n",
              " 'um',\n",
              " 'understand',\n",
              " 'unsolvable',\n",
              " 'until',\n",
              " 'up',\n",
              " 'upper',\n",
              " 'upstairs',\n",
              " 'use',\n",
              " 've',\n",
              " 'very',\n",
              " 'vexed',\n",
              " 'via',\n",
              " 'violin',\n",
              " 'vision',\n",
              " 'vomit',\n",
              " 'w',\n",
              " 'waa',\n",
              " 'walk',\n",
              " 'wall',\n",
              " 'wander',\n",
              " 'want',\n",
              " 'watch',\n",
              " 'way',\n",
              " 'we',\n",
              " 'weezy',\n",
              " 'weird',\n",
              " 'well',\n",
              " 'what',\n",
              " 'whatever',\n",
              " 'wheezy',\n",
              " 'when',\n",
              " 'where',\n",
              " 'wherever',\n",
              " 'which',\n",
              " 'white',\n",
              " 'who',\n",
              " 'whoa',\n",
              " 'whole',\n",
              " 'whoopsie',\n",
              " 'why',\n",
              " 'wife',\n",
              " 'will',\n",
              " 'with',\n",
              " 'woman',\n",
              " 'wonderful',\n",
              " 'word',\n",
              " 'work',\n",
              " 'would',\n",
              " 'yeah',\n",
              " 'yes',\n",
              " 'yet',\n",
              " 'yo',\n",
              " 'yob',\n",
              " 'you',\n",
              " 'your',\n",
              " 'yourself'}"
            ]
          },
          "metadata": {},
          "execution_count": 250
        }
      ]
    },
    {
      "cell_type": "code",
      "source": [
        "lolip_bow = set(lematize_string(preprocess(two_lovers_first_kiss)).split())\n",
        "kit_1_bow = set(lematize_string(preprocess(steve)).split())\n",
        "kit_2_bow = set(lematize_string(preprocess(crow_pro)).split())"
      ],
      "metadata": {
        "id": "6Yk2kV2HxyTu"
      },
      "execution_count": null,
      "outputs": []
    },
    {
      "cell_type": "code",
      "source": [
        "len(lolip_bow.union(kit_1_bow).union(kit_2_bow))"
      ],
      "metadata": {
        "colab": {
          "base_uri": "https://localhost:8080/"
        },
        "id": "rYhs6sUyu75S",
        "outputId": "bf65d685-476f-46d9-9822-71c3906a43b6"
      },
      "execution_count": null,
      "outputs": [
        {
          "output_type": "execute_result",
          "data": {
            "text/plain": [
              "1535"
            ]
          },
          "metadata": {},
          "execution_count": 252
        }
      ]
    },
    {
      "cell_type": "code",
      "source": [
        "lolip_bow = set(preprocess(lematize_string(two_lovers_first_kiss)).split())\n",
        "kit_1_bow = set(preprocess(lematize_string(steve)).split())\n",
        "kit_2_bow = set(preprocess(lematize_string(crow_pro)).split())"
      ],
      "metadata": {
        "id": "EkaJe1a5y9PC"
      },
      "execution_count": null,
      "outputs": []
    },
    {
      "cell_type": "code",
      "source": [
        "len(lolip_bow.union(kit_1_bow).union(kit_2_bow))"
      ],
      "metadata": {
        "colab": {
          "base_uri": "https://localhost:8080/"
        },
        "id": "800f5N3CzB8G",
        "outputId": "ddc0a767-e73a-4248-8a9f-665407e2de0e"
      },
      "execution_count": null,
      "outputs": [
        {
          "output_type": "execute_result",
          "data": {
            "text/plain": [
              "1551"
            ]
          },
          "metadata": {},
          "execution_count": 254
        }
      ]
    },
    {
      "cell_type": "markdown",
      "source": [
        "# Count V"
      ],
      "metadata": {
        "id": "XUPU-dqc0iAS"
      }
    },
    {
      "cell_type": "code",
      "source": [
        "def vectorize(tokens):\n",
        "    d = {}\n",
        "    for token in tokens:\n",
        "        d[token] = d.get(token,0) + 1\n",
        "\n",
        "    return d"
      ],
      "metadata": {
        "id": "cVAZFLeEz5PX"
      },
      "execution_count": null,
      "outputs": []
    },
    {
      "cell_type": "code",
      "source": [
        "vectorize(test_string.split())"
      ],
      "metadata": {
        "colab": {
          "base_uri": "https://localhost:8080/"
        },
        "id": "q_iMkZ0o0z_r",
        "outputId": "21adab44-e96e-4302-b294-c8f16d0ac3a5"
      },
      "execution_count": null,
      "outputs": [
        {
          "output_type": "execute_result",
          "data": {
            "text/plain": [
              "{'This': 1,\n",
              " 'is': 1,\n",
              " 'the': 1,\n",
              " 'mostly': 1,\n",
              " 'UNEDITED': 1,\n",
              " 'version': 1,\n",
              " 'of': 1,\n",
              " 'scammers': 1,\n",
              " 'wasting': 1,\n",
              " 'countless': 1,\n",
              " 'hours': 1,\n",
              " 'demanding': 1,\n",
              " 'more': 1,\n",
              " 'money': 1,\n",
              " 'and': 1,\n",
              " 'gift': 1,\n",
              " 'cards': 1}"
            ]
          },
          "metadata": {},
          "execution_count": 261
        }
      ]
    },
    {
      "cell_type": "code",
      "source": [
        "vectorize(test_string_2.split())"
      ],
      "metadata": {
        "colab": {
          "base_uri": "https://localhost:8080/"
        },
        "id": "7PN5l5fh0ezZ",
        "outputId": "2777eb8e-6724-4712-af61-6f28b9c11fe3"
      },
      "execution_count": null,
      "outputs": [
        {
          "output_type": "execute_result",
          "data": {
            "text/plain": [
              "{'This': 1,\n",
              " 'is': 1,\n",
              " 'the': 2,\n",
              " 'mostly': 1,\n",
              " 'UNEDITED': 1,\n",
              " 'version': 1,\n",
              " 'of': 2,\n",
              " 'scammers': 1,\n",
              " 'wasting': 1,\n",
              " 'countless': 1,\n",
              " 'hours': 1,\n",
              " 'demanding': 1,\n",
              " 'more': 1,\n",
              " 'money': 1,\n",
              " 'and': 4,\n",
              " 'gift': 1,\n",
              " 'cards.': 1,\n",
              " 'Whenever': 1,\n",
              " 'they': 3,\n",
              " 'think': 1,\n",
              " 'are': 1,\n",
              " 'getting': 1,\n",
              " 'close,': 1,\n",
              " \"there's\": 1,\n",
              " 'a': 2,\n",
              " 'problem,': 1,\n",
              " 'but': 1,\n",
              " 'that': 1,\n",
              " \"doesn't\": 1,\n",
              " 'stop': 1,\n",
              " 'them,': 1,\n",
              " 'rage': 1,\n",
              " 'builds.': 1,\n",
              " 'STOP': 1,\n",
              " 'online': 1,\n",
              " 'scams': 1,\n",
              " 'before': 1,\n",
              " 'start.': 1,\n",
              " 'Check': 1,\n",
              " 'out': 1,\n",
              " 'https://www.seraphsecure.com/kitboga': 1,\n",
              " 'download': 1,\n",
              " '14-day': 1,\n",
              " 'FREE': 1,\n",
              " 'trial': 1,\n",
              " 'Seraph': 1,\n",
              " 'Secure': 1,\n",
              " 'for': 1,\n",
              " 'you': 1,\n",
              " 'your': 1,\n",
              " 'family/friends.': 1,\n",
              " '#seraphsecure': 1}"
            ]
          },
          "metadata": {},
          "execution_count": 260
        }
      ]
    },
    {
      "cell_type": "code",
      "source": [
        "def similaridad_count_v(string_a,string_b):\n",
        "\n",
        "    vector_a = vectorize(string_a.split())\n",
        "    vector_b = vectorize(string_b.split())\n",
        "\n",
        "    keys = set(vector_a.keys()).union(set(vector_b.keys()))\n",
        "\n",
        "    print(keys)"
      ],
      "metadata": {
        "id": "JtTc6FgB0y3B"
      },
      "execution_count": null,
      "outputs": []
    },
    {
      "cell_type": "code",
      "source": [
        "similaridad_count_v(\"your car\",\"Hi mark\")"
      ],
      "metadata": {
        "colab": {
          "base_uri": "https://localhost:8080/"
        },
        "id": "t1lcF27e16N5",
        "outputId": "3aaf5f00-fe0b-478a-a2cb-232beaa024a3"
      },
      "execution_count": null,
      "outputs": [
        {
          "output_type": "stream",
          "name": "stdout",
          "text": [
            "{'your', 'Hi', 'mark', 'car'}\n"
          ]
        }
      ]
    },
    {
      "cell_type": "code",
      "source": [
        "def similaridad_count_v(string_a,string_b):\n",
        "\n",
        "    vector_a = vectorize(string_a.split())\n",
        "    vector_b = vectorize(string_b.split())\n",
        "\n",
        "    keys = set(vector_a.keys()).union(set(vector_b.keys()))\n",
        "\n",
        "    total = 0\n",
        "    diff = 0\n",
        "    for key in keys:\n",
        "        total += vector_a.get(key,0) + vector_b.get(key,0)\n",
        "        diff += abs( vector_a.get(key,0) - vector_b.get(key,0) )\n",
        "\n",
        "    return diff / total"
      ],
      "metadata": {
        "id": "G0A2R_bW2BRc"
      },
      "execution_count": null,
      "outputs": []
    },
    {
      "cell_type": "code",
      "source": [
        "similaridad_count_v(test_string,test_string)"
      ],
      "metadata": {
        "colab": {
          "base_uri": "https://localhost:8080/"
        },
        "id": "ZjOdKlDI2o03",
        "outputId": "2e73c5ab-f15b-47d4-965a-4c13a68c5439"
      },
      "execution_count": null,
      "outputs": [
        {
          "output_type": "execute_result",
          "data": {
            "text/plain": [
              "0.0"
            ]
          },
          "metadata": {},
          "execution_count": 273
        }
      ]
    },
    {
      "cell_type": "code",
      "source": [],
      "metadata": {
        "id": "uVXVrgMtp_F7"
      },
      "execution_count": null,
      "outputs": []
    },
    {
      "cell_type": "code",
      "source": [],
      "metadata": {
        "id": "Qqtywg4pp_C2"
      },
      "execution_count": null,
      "outputs": []
    },
    {
      "cell_type": "code",
      "source": [],
      "metadata": {
        "id": "RNDZa8rTp_Ab"
      },
      "execution_count": null,
      "outputs": []
    },
    {
      "cell_type": "code",
      "source": [
        "similaridad_count_v(test_string,\"\")"
      ],
      "metadata": {
        "colab": {
          "base_uri": "https://localhost:8080/"
        },
        "id": "zd6zE1x929Tp",
        "outputId": "da02a264-734f-478b-b8c2-afb8853fa27a"
      },
      "execution_count": null,
      "outputs": [
        {
          "output_type": "execute_result",
          "data": {
            "text/plain": [
              "1.0"
            ]
          },
          "metadata": {},
          "execution_count": 275
        }
      ]
    },
    {
      "cell_type": "code",
      "source": [
        "similaridad_count_v(test_string,test_string*10)"
      ],
      "metadata": {
        "colab": {
          "base_uri": "https://localhost:8080/"
        },
        "id": "y0s5c1273ZPm",
        "outputId": "c64ecd39-ca36-4785-fb0f-7d33dfab31e4"
      },
      "execution_count": null,
      "outputs": [
        {
          "output_type": "execute_result",
          "data": {
            "text/plain": [
              "0.8181818181818182"
            ]
          },
          "metadata": {},
          "execution_count": 276
        }
      ]
    },
    {
      "cell_type": "markdown",
      "source": [
        "Me queda invertido porque no es una similaridad lo que estoy calculando sino una distancia (particularmente es una distancia Manhatan). Dos cosas cercanas suelen ser mas parecidas, por ende la similaridad es inversamente proporcional a la distancia."
      ],
      "metadata": {
        "id": "auGmLnVzkSkC"
      }
    },
    {
      "cell_type": "code",
      "source": [
        "def similaridad_count_v(string_a,string_b):\n",
        "\n",
        "    vector_a = vectorize(string_a.split())\n",
        "    vector_b = vectorize(string_b.split())\n",
        "\n",
        "    keys = set(vector_a.keys()).union(set(vector_b.keys()))\n",
        "\n",
        "    total = 0\n",
        "    diff = 0\n",
        "    for key in keys:\n",
        "        total += vector_a.get(key,0) + vector_b.get(key,0)\n",
        "        diff += abs( vector_a.get(key,0) - vector_b.get(key,0) )\n",
        "\n",
        "    return 1 - (diff / total)"
      ],
      "metadata": {
        "id": "Tx8tyAbhvXDX"
      },
      "execution_count": null,
      "outputs": []
    },
    {
      "cell_type": "code",
      "source": [
        "similaridad_count_v(test_string,test_string)"
      ],
      "metadata": {
        "colab": {
          "base_uri": "https://localhost:8080/"
        },
        "id": "9MXAx3zH6pVB",
        "outputId": "119ab62d-db61-430f-c892-d1cc8fdb62c8"
      },
      "execution_count": null,
      "outputs": [
        {
          "output_type": "execute_result",
          "data": {
            "text/plain": [
              "1.0"
            ]
          },
          "metadata": {},
          "execution_count": 278
        }
      ]
    },
    {
      "cell_type": "code",
      "source": [
        "similaridad_count_v(test_string,\"\")"
      ],
      "metadata": {
        "colab": {
          "base_uri": "https://localhost:8080/"
        },
        "id": "78JmerXf6qx0",
        "outputId": "e02cb211-e719-461c-8d52-ebef842ecb0a"
      },
      "execution_count": null,
      "outputs": [
        {
          "output_type": "execute_result",
          "data": {
            "text/plain": [
              "0.0"
            ]
          },
          "metadata": {},
          "execution_count": 279
        }
      ]
    },
    {
      "cell_type": "code",
      "source": [
        "def similaridad_con_preprocess(doc_1,doc_2):\n",
        "    doc_1 = preprocess(doc_1)\n",
        "    doc_2 = preprocess(doc_2)\n",
        "\n",
        "    doc_1 = lematize_string(doc_1)\n",
        "    doc_2 = lematize_string(doc_2)\n",
        "\n",
        "    return similaridad_count_v(doc_1,doc_2)"
      ],
      "metadata": {
        "id": "Pw7Da-xS6tRD"
      },
      "execution_count": null,
      "outputs": []
    },
    {
      "cell_type": "code",
      "source": [
        "similaridad_con_preprocess(test_string,test_string)"
      ],
      "metadata": {
        "colab": {
          "base_uri": "https://localhost:8080/"
        },
        "id": "fOOaLuRf60Qf",
        "outputId": "cc5212fd-5367-426f-80af-520a977326e1"
      },
      "execution_count": null,
      "outputs": [
        {
          "output_type": "execute_result",
          "data": {
            "text/plain": [
              "1.0"
            ]
          },
          "metadata": {},
          "execution_count": 281
        }
      ]
    },
    {
      "cell_type": "code",
      "source": [
        "similaridad_con_preprocess(test_string,\"\")"
      ],
      "metadata": {
        "colab": {
          "base_uri": "https://localhost:8080/"
        },
        "id": "TLvp5a9M63w9",
        "outputId": "270399a3-412b-4e43-9211-bad2ebf29de4"
      },
      "execution_count": null,
      "outputs": [
        {
          "output_type": "execute_result",
          "data": {
            "text/plain": [
              "0.0"
            ]
          },
          "metadata": {},
          "execution_count": 282
        }
      ]
    },
    {
      "cell_type": "code",
      "source": [
        "similaridad_con_preprocess(\"kit calling scammer\",steve)"
      ],
      "metadata": {
        "colab": {
          "base_uri": "https://localhost:8080/"
        },
        "id": "YbzkW-l466a4",
        "outputId": "55d23b6f-d975-4e00-a227-8df9426ec710"
      },
      "execution_count": null,
      "outputs": [
        {
          "output_type": "execute_result",
          "data": {
            "text/plain": [
              "0.00046290938548776417"
            ]
          },
          "metadata": {},
          "execution_count": 283
        }
      ]
    },
    {
      "cell_type": "code",
      "source": [
        "similaridad_con_preprocess(\"kit calling scammer\",two_lovers_first_kiss)"
      ],
      "metadata": {
        "colab": {
          "base_uri": "https://localhost:8080/"
        },
        "id": "-7CjaM6n7JI4",
        "outputId": "e4050bfb-19e2-4e1b-e25f-c4d773a4f33f"
      },
      "execution_count": null,
      "outputs": [
        {
          "output_type": "execute_result",
          "data": {
            "text/plain": [
              "0.0"
            ]
          },
          "metadata": {},
          "execution_count": 284
        }
      ]
    },
    {
      "cell_type": "markdown",
      "source": [
        "El problema que puedo tener, es que con distancia Manhatan la longitud de la cadena entra en la ecuacion. A medida que aumenta la diferencia de cantidad de tokens entre ambas, aumenta tambien la distancia.\n",
        "\n",
        "Si queremos implementar un motor de busqueda, vamos a calcular similaridades contra el \"query string\", que suele ser algo corto, y por ende articulos cortos se priorizarian sobre articulos largos.\n",
        "\n",
        "Para una similaridad que apute a el contenido de las cadenas, usamos similaridad coseno."
      ],
      "metadata": {
        "id": "iCCX3t5pkzTT"
      }
    },
    {
      "cell_type": "code",
      "source": [
        "def similaridad_count_v(string_a,string_b):\n",
        "\n",
        "    vector_a = vectorize(string_a.split())\n",
        "    vector_b = vectorize(string_b.split())\n",
        "\n",
        "    nltk.cluster.cosine_distance(vector_a,vector_b)"
      ],
      "metadata": {
        "id": "9igzdkip7Ns5"
      },
      "execution_count": null,
      "outputs": []
    },
    {
      "cell_type": "code",
      "source": [
        "similaridad_count_v(\"string_a\",\"string_b\")"
      ],
      "metadata": {
        "colab": {
          "base_uri": "https://localhost:8080/",
          "height": 287
        },
        "id": "KeNgjJOP7lfB",
        "outputId": "882028e9-20a7-4e6a-b7f5-c19a95eb6837"
      },
      "execution_count": null,
      "outputs": [
        {
          "output_type": "error",
          "ename": "TypeError",
          "evalue": "unsupported operand type(s) for *: 'dict' and 'dict'",
          "traceback": [
            "\u001b[0;31m---------------------------------------------------------------------------\u001b[0m",
            "\u001b[0;31mTypeError\u001b[0m                                 Traceback (most recent call last)",
            "\u001b[0;32m<ipython-input-286-c5bf7a12ef6a>\u001b[0m in \u001b[0;36m<cell line: 1>\u001b[0;34m()\u001b[0m\n\u001b[0;32m----> 1\u001b[0;31m \u001b[0msimilaridad_count_v\u001b[0m\u001b[0;34m(\u001b[0m\u001b[0;34m\"string_a\"\u001b[0m\u001b[0;34m,\u001b[0m\u001b[0;34m\"string_b\"\u001b[0m\u001b[0;34m)\u001b[0m\u001b[0;34m\u001b[0m\u001b[0;34m\u001b[0m\u001b[0m\n\u001b[0m",
            "\u001b[0;32m<ipython-input-285-541289ea22ec>\u001b[0m in \u001b[0;36msimilaridad_count_v\u001b[0;34m(string_a, string_b)\u001b[0m\n\u001b[1;32m      4\u001b[0m     \u001b[0mvector_b\u001b[0m \u001b[0;34m=\u001b[0m \u001b[0mvectorize\u001b[0m\u001b[0;34m(\u001b[0m\u001b[0mstring_b\u001b[0m\u001b[0;34m.\u001b[0m\u001b[0msplit\u001b[0m\u001b[0;34m(\u001b[0m\u001b[0;34m)\u001b[0m\u001b[0;34m)\u001b[0m\u001b[0;34m\u001b[0m\u001b[0;34m\u001b[0m\u001b[0m\n\u001b[1;32m      5\u001b[0m \u001b[0;34m\u001b[0m\u001b[0m\n\u001b[0;32m----> 6\u001b[0;31m     \u001b[0mnltk\u001b[0m\u001b[0;34m.\u001b[0m\u001b[0mcluster\u001b[0m\u001b[0;34m.\u001b[0m\u001b[0mcosine_distance\u001b[0m\u001b[0;34m(\u001b[0m\u001b[0mvector_a\u001b[0m\u001b[0;34m,\u001b[0m\u001b[0mvector_b\u001b[0m\u001b[0;34m)\u001b[0m\u001b[0;34m\u001b[0m\u001b[0;34m\u001b[0m\u001b[0m\n\u001b[0m",
            "\u001b[0;32m/usr/local/lib/python3.10/dist-packages/nltk/cluster/util.py\u001b[0m in \u001b[0;36mcosine_distance\u001b[0;34m(u, v)\u001b[0m\n\u001b[1;32m    128\u001b[0m     \u001b[0mequal\u001b[0m \u001b[0mto\u001b[0m\u001b[0;31m \u001b[0m\u001b[0;31m`\u001b[0m\u001b[0;31m`\u001b[0m\u001b[0;36m1\u001b[0m \u001b[0;34m-\u001b[0m \u001b[0;34m(\u001b[0m\u001b[0mu\u001b[0m\u001b[0;34m.\u001b[0m\u001b[0mv\u001b[0m \u001b[0;34m/\u001b[0m \u001b[0;34m|\u001b[0m\u001b[0mu\u001b[0m\u001b[0;34m|\u001b[0m\u001b[0;34m|\u001b[0m\u001b[0mv\u001b[0m\u001b[0;34m|\u001b[0m\u001b[0;34m)\u001b[0m\u001b[0;31m`\u001b[0m\u001b[0;31m`\u001b[0m\u001b[0;34m.\u001b[0m\u001b[0;34m\u001b[0m\u001b[0;34m\u001b[0m\u001b[0m\n\u001b[1;32m    129\u001b[0m     \"\"\"\n\u001b[0;32m--> 130\u001b[0;31m     \u001b[0;32mreturn\u001b[0m \u001b[0;36m1\u001b[0m \u001b[0;34m-\u001b[0m \u001b[0;34m(\u001b[0m\u001b[0mnumpy\u001b[0m\u001b[0;34m.\u001b[0m\u001b[0mdot\u001b[0m\u001b[0;34m(\u001b[0m\u001b[0mu\u001b[0m\u001b[0;34m,\u001b[0m \u001b[0mv\u001b[0m\u001b[0;34m)\u001b[0m \u001b[0;34m/\u001b[0m \u001b[0;34m(\u001b[0m\u001b[0msqrt\u001b[0m\u001b[0;34m(\u001b[0m\u001b[0mnumpy\u001b[0m\u001b[0;34m.\u001b[0m\u001b[0mdot\u001b[0m\u001b[0;34m(\u001b[0m\u001b[0mu\u001b[0m\u001b[0;34m,\u001b[0m \u001b[0mu\u001b[0m\u001b[0;34m)\u001b[0m\u001b[0;34m)\u001b[0m \u001b[0;34m*\u001b[0m \u001b[0msqrt\u001b[0m\u001b[0;34m(\u001b[0m\u001b[0mnumpy\u001b[0m\u001b[0;34m.\u001b[0m\u001b[0mdot\u001b[0m\u001b[0;34m(\u001b[0m\u001b[0mv\u001b[0m\u001b[0;34m,\u001b[0m \u001b[0mv\u001b[0m\u001b[0;34m)\u001b[0m\u001b[0;34m)\u001b[0m\u001b[0;34m)\u001b[0m\u001b[0;34m)\u001b[0m\u001b[0;34m\u001b[0m\u001b[0;34m\u001b[0m\u001b[0m\n\u001b[0m\u001b[1;32m    131\u001b[0m \u001b[0;34m\u001b[0m\u001b[0m\n\u001b[1;32m    132\u001b[0m \u001b[0;34m\u001b[0m\u001b[0m\n",
            "\u001b[0;31mTypeError\u001b[0m: unsupported operand type(s) for *: 'dict' and 'dict'"
          ]
        }
      ]
    },
    {
      "cell_type": "markdown",
      "source": [
        "Ya esto requiere vectores y no diccionarios (por temas de optimizacion) asi que podemos usar el vectorizer de sklearn.\n",
        "\n",
        "Ojo, que al cambiar de diccionario a vector/lista, no se puede representar de forma dispersa (si no esta un token, implicitamente es un 0). Eso ademas plantea otro problema de que NECESITO de antemano saber TODOS los tokens posibles."
      ],
      "metadata": {
        "id": "SOs-20udlzhq"
      }
    },
    {
      "cell_type": "code",
      "source": [
        "from sklearn.feature_extraction.text import CountVectorizer\n",
        "\n",
        "vectorizer = CountVectorizer()\n",
        "X = vectorizer.fit_transform([steve,two_lovers_first_kiss,crow_pro])\n",
        "\n",
        "X"
      ],
      "metadata": {
        "colab": {
          "base_uri": "https://localhost:8080/"
        },
        "id": "mLnrRB7a7p2q",
        "outputId": "34918bcb-ce63-45f4-ece6-add95c025fdb"
      },
      "execution_count": null,
      "outputs": [
        {
          "output_type": "execute_result",
          "data": {
            "text/plain": [
              "<3x1831 sparse matrix of type '<class 'numpy.int64'>'\n",
              "\twith 2664 stored elements in Compressed Sparse Row format>"
            ]
          },
          "metadata": {},
          "execution_count": 288
        }
      ]
    },
    {
      "cell_type": "code",
      "source": [
        "vectorizer.get_feature_names_out()"
      ],
      "metadata": {
        "colab": {
          "base_uri": "https://localhost:8080/"
        },
        "id": "DlSE0F5-8JPo",
        "outputId": "74ded4b1-76e7-4721-b285-b67e55dbd2d1"
      },
      "execution_count": null,
      "outputs": [
        {
          "output_type": "execute_result",
          "data": {
            "text/plain": [
              "array(['00', '000', '0030', ..., 'zeros', 'zip', 'zombocom'], dtype=object)"
            ]
          },
          "metadata": {},
          "execution_count": 289
        }
      ]
    },
    {
      "cell_type": "code",
      "source": [
        "def similaridad_count_v(vector_a,vector_b):\n",
        "    return 1 - nltk.cluster.cosine_distance(vector_a,vector_b)"
      ],
      "metadata": {
        "id": "NNRx3_KM8QZh"
      },
      "execution_count": null,
      "outputs": []
    },
    {
      "cell_type": "code",
      "source": [
        "corpus = [ lematize_string(preprocess(doc)) for doc in [test_string,test_string_2,steve,two_lovers_first_kiss,crow_pro] ]\n",
        "corpus"
      ],
      "metadata": {
        "colab": {
          "base_uri": "https://localhost:8080/"
        },
        "id": "tRqS24pD8ko-",
        "outputId": "ebdfd104-e005-4308-fb7d-099096ea455f"
      },
      "execution_count": null,
      "outputs": [
        {
          "output_type": "execute_result",
          "data": {
            "text/plain": [
              "['this be the mostly unedited version of scammer waste countless hour demand more money and gift card',\n",
              " 'this be the mostly unedited version of scammer waste countless hour demand more money and gift card whenever they think they be get close there s a problem but that doesn t stop them and the rage build stop online scam before they start check out uurrll and download a day free trial of seraph secure for you and your family friends hashtagseraphsecure',\n",
              " 'music do you want your money or do you don t want your money then you need to do a i say you be not my teacher no no no no no no no applause i ve be call scammer for over three year now and although i ve have some pretty exciting and interesting learning experience and just all around crazy moment this have to be the most extreme raw anger that i have ever witness the entire call take place over a couple day hour worth of phone call and ultimately end in a pretty excite display of anger it start off like a typical refund scam where they pose a a company like microsoft offering to give you money back for something you purchase they lock your computer and then pretend to transfer money to your bank account you never use our service at once but you pay dollar two year back so we have to refund that money to you okay you know sometimes i feel like life be a lot like chess sometimes you do you don t realize that you re just right now just go ahead and type the name of your why do i have to go to my bank uh you don t have to give me any of your personal information you don t need to worry about it a this call have be record for the policing purpose right you just need to go ahead and accept the money transfer what we be go to do that s it if you tell any of your personal detail over this call i might lose my job because i be deal with you and we have some protocol which we need to follow oh gosh well i ll be sure not to say anything personal then yeah i wouldn t want you to lose your job there that would be that would be bad thank you your computer be act like really weird sometimes you know oh i think this guy be very suspicious uh he try to do a bank right he try to log in like without any credential and stuff yeah why okay do you have a username and a password um well i can t give you any personal information over the phone i understand you need not tell me anything all right after you log in just let me know do not tell me anything just give me a second working on you i m work on your case only and i m not touch any other customer okay just bear with me oh okay sorry i m just not familiar with the how these thing work i ll keep quiet just go ahead and write down the available balance of your account okay you want me to write down okay yes yes so that after i give you the money you can you know by add it up you can always proceed that if you have receive the money or not i could just write down the balance of this everything with this paper and before i hang on out of curiosity by a raise how many of you have be expect money into your bank account and the way that you verify whether or not you get it be by write down your previous balance account how many because i ve never do that i just look at the transaction history while scammer be on your computer they often use something like this to hide your screen and then they ll transfer money in between your account or edit the html to make it look like you have more money than you re suppose to it s all part of their trick up some coffee for my husband when he get back he like it he like it extra sloppy i understand do you ever put egg in your coffee never it s like a quick way to eat breakfast you know you get it all do all at once just put a raw egg in there a little mayonnaise whip it up all right music a little bit hard to see it be it fine now i mean the text okay write down your name it say enter your name enter the name and do not hit enter okay just enter the name i need to go i need to go back to the kitchen and finish up my how how much long be this go to take i hate to be wrong what only two minute that s it two minute you just need to fill up this form and get your money that s it okay so just enter the name okay we be run out of time can you please make it big so i can read it please it say please enter your name okay so just enter the name from the keyboard and do not hit enter okay just enter the name i wish they didn t make thing complicate i think computer be suppose to make thing easy you know not hard like this now enter your phone number and please do not hit enter after this again do not okay if i hit enter yeah now just enter the zip code that s a little that s my personal information i can t say that over the phone then hit enter so many zero ma be how much of money do you transfer it say check your bank oh my god oh my god forty thousand dollar what be you talk about mom oh just let me check your microphone give me a moment i can t say anything hold on go back hey i m go back hold on hold on hold on i can t think i can t see i can t see oh oh god okay just pause panic okay oh sweet baby jesus the scam be to try to make you think that it s not the hello hello hold on hold on i m unplug the computer you can see the computer now i unplug the computer that way the transfer win t go through right now okay i m back hello ma be what do you see on your screen i unplug the computer that way the transfer wouldn t go through i don t want why be you yell at me young man i i m try to help you no i turn the computer off i don t want that money to go through i m tell you we can t get it why be you yell at me be the computer be the computer on paula be the computer on be you in front of the computer applause stop yelling at me i m joining i be sorry i be sorry come back come music i m really sorry paula it s my mistake i m sorry it s just that you you transfer the money to me no why do you do this my mistake oh why would you take me applause music be when i get angry give me a minute how do you destroy a computer what s the fast way i ll make sure this doesn t happen if you destroy the computer you lose your money okay you lose your damn money hello hello hello hold on honey hold on do you know anything that you be gonna lose and you be gonna beg hello i m try to work i m not strong enough i m try honey i m try to destroy the evidence but none of you need to turn on that computer listen to me applause applause i can t hear you you re not turn the damn computer on turn your computer on i mean i don t know if it s gonna turn on now or not hit it i hit the screen pretty hard but hold on i m what you see what you do why do you break the computer come back and check your account the money go through first i might have to just check later i m feel a little stress out right now to be honest with you i might have to take something i think i need to take something pill applause to start relax you know for me sometimes applause music applause you have no money you remember right that you have in your money market i can t move my mouse at all i think there s something wrong hold on let me try i might have to turn it off and turn it back on again if it doesn t work right no uh let me just close it applause hello i i just need to i think i need to take a break i turn the computer applause be off all of the money be in my account and even though you try to send while you accidentally send it look like it didn t go through so hopefully music laughter how be all my money go do you want your money back yes or no no no no no yes yes yes do you hear me yes now listen to me a i speak to you okay now i will send you listen applause do you want me to hang up this do you want me to hang up this call who the hell do you think you be and who would that think don t you dare talk to me that way listen to me listen to me okay be you gonna do a i say say sorry be you go sorry i owe you dollar but you have all my money you have my money oh okay thank god so now if you i can only transfer you listen to me now okay can you give me my money back please listen to me music if you accidentally get my money no no no it s it s it s not accidentally it be not accidentally it be purposeful okay it be for purpose but this have be do for a purpose do you understand but it s only me who can help you to get your money back your money be correct which be not there right but my money be forty thousand dollar all right oh the four hundred the forty thousand dollar go to mine okay if you give me two hundred and twenty thousand dollar back that s how basic math work do you understand that minus no minus great so you give me back which mean you ll be keep your forty thousand dollar and then everything s fine okay for that all right for that you need to go for that for that you need to go to your bank okay and you need to withdraw forty thousand dollar in i don t have i don t have forty thousand dollar you have all my money but that be not how we work okay you need to understand one thing that you have do a physical error so you need to you know make sure that we resolve it in a physical manner you have to go to the bank and you need to withdraw money okay let me call the bank and make an appointment okay i ll call today no no no all right listen to me listen to me listen to me listen to me why don t you listen to me ma be if you really want your money back make sure that you do not go ahead and say anything extra to them just call them up and tell them that you want to withdraw cash okay i think i need to talk to a manager because i don t even have the forty thousand dollar in my bank that you want me to give you i be gonna give you listen to me make an appointment with the manager we ll settle it that way listen to me listen to me please please listen to me please listen to me please listen to me please listen to me ma be if i want to steal your money i already have your money i should simply hang up and go away and you win t have anything yeah i haven t quite figure out why you haven t do that yet maybe you feel a little bit bad okay i hope and pray at least you feel bad no no no no no ma be i just need my money at this point i pretend to drive to the store with my crazy neighbor spend some more time with him on the phone and ultimately end up at the store pretending to purchase gift card i ll tell them that there s a guy who have i don t know someone ask me that someone ask me to do it i ll say something no no no i ll say someone ask me today no no no no you who s this big yo you wanna okay if they ask you that why do you want the money tell them that it s medical emergency what all right okay a medical emergency tell them listen i ll tell the manager what happen i ll get a much money a i can and i ll call you back all right do you want to talk to them what happen okay what happen i ll let you talk to the manager okay no no no why be you mess it up i hang up and make him wait all weekend to talk to me and then of course he s ask where the card be okay so you have the money with you i eat a do you have an accident yesterday with my neighbor and when we be get the money and uh you know i be try to have the to help her out first time car and get her back into her house ten thousand dollar that s a lot of money to just put in the living room so so and we start dig a hole in our backyard yeah but i fell i i you know how you jump on a shovel but when i jump up my hip kinda give out all right listen to me do you have the money i tell you what i think my hip didn t lie after my original surgery but today sorry yesterday it lie and it kind of give out i put it i put it in the backyard for safekeeping that way no one would steal it okay okay just bring it from the backyard okay bring the money for backyard i i get you tell me to get tinfoil yesterday and i get a lot of it it s all over the kitchen do you have the money now you have the money it s in a hole in my backyard i keep tell you that how many time do i have to tell you like marry it take me two hour to take that can you dig can you dig and get the money back i need the money right now well i can t give it to you in california immediately it s gonna it ll take me some time to get there i understand i understand you have to go to the near post office or a ups hello ma be do you want the money back do you want your money back yes yes okay now just stop cry have a glass of water okay you re okay be you okay now oh good i yummy try to think of which hole i put the money in hold on hold on let me try this one we do a couple different hole honey hold on take your time take your time no music problem the neighborhood kid be come over no no no no no guy this be my these be my hole hey get out of here get out while you be put the coil on the money right you be you be cover the money with the foil right no i m just put it in the box steve just put the foil all over no you need to no please listen to me please be you listen so here s what i m think i ll send a thousand dollar to you and then you send back what s of my money twenty six thousand dollar and then i ll send you we ll do it bite by bit like a trust exercise you know so i ll send you the thousand dollar you it s kind of like at the grand exchange those guy do the money double they do a trust trade first so i ll trade you i ll give you the thousand listen to me ma be listen to me please listen to me i be gonna give you right now and you need to give me the right now and i have and ten percent of that one thousand dollar you send me twenty six thousand dollar and if all go well if you give up your money and i get your money man do you want your money or do you don t want your money yes i do work i do want the money then you need to do a i say you be not my teacher hey you calm down young man why do you want ten dollar i have give you that money let me teach you i think you don t understand how this work dude you owe me money back yes i do please do you want your money please do you want your money back where be your husband yeah well he s in the living room this be jimmy yes jimmy okay jimmy i hope you understand what be go on yes jimmy do you hear me hello yes i be there can you hear me i be there listen to me i can barely hear him if he s on there i don t know what he s say okay now can you help me put it on speakerphone hello can you hear u hello i can t hear you can you hear me you can hear him he s right there hello hello yeah can you hear me can you i be in the middle of watch television so this good be good sir basically basically i have basically it s a problem you have lose two hundred and sixty thousand dollar okay what why be you what be you talk about how do what that we ve be save listen all this money be suppose to help u i don t want your money i don t want your money i just want my money then where be the where be the give me my money back just look at your balance now just come in front of your computer now he s edit my bank account to have an extra ten thousand dollar bro so ten thousand be extra right whoop uh whoop uh steve you accidentally send you be suppose to send me oops okay no problem you have to give me the money no this be a big mess i want you to know that there s good in the world when you do good when you do good good sometimes get get throw back to you all right so my husband say that he will go to the bank and wire transfer sixty thousand dollar to a bank account right now today if you leave u alone so can you give me the ten thousand for the time be what you have in cash with you he s gonna bring that back he s gonna bring that back to the bank and deposit it and transfer you uh it will be a overseas wire transfer all right overseas okay this be the bank of okay we ll give that a try yeah they re say any international transfer it s they re just it s slow down right now with all the processing and all the regulation they have right now with they can do it it just might take a long time they say if you have if we be send money here domestically in the state that would only take uh two hour otherwise it could take up to day yes no no problem just ask them about the receipt okay tell them to mail you the receipt how do i just just wonder how do i have assurance from you that you re not gonna steal any more of my money what do i i don t want any of your money i m gonna release your computer the moment see they be do okay you just show me the receipt and i leave your computer till then do not turn off you can man the the picture message be not clear can you do one thing oh do you get by can you do one thing okay can you say go for a little while i need to go in the backyard and do a little bit of gardening over the past couple day if you re there i can can you hear me barely hear ya you sound like you re whisper right now i have bad hearing i m an idiot okay jimmy jimmy now can you hear me now can you hear me uh can you hello can you speak up son very bad hear yes yes okay now listen to me it s just that that the transfer that you do okay the number be wrong the account number be wrong the account number be wrong yes hello yeah this be steve this be steve oh miss okay mr mrs pete from uh from church how be you how be thing go i want to talk to paula paula very small uh yeah i would say thing be pretty baller yeah i guess that s what my that s what my grandson would say music hallelujah be you say coca cola paula polla don t think we have any coca cola no um pepsi have always be more of paula s thing paula like pepsi why the be you do so much be you what be that a truck uh you need to borrow my truck you re ready we hit the ford uh he s kill snowman oh god i hope they can cancel it i hope they can cancel mom not sell them just now ma be i gotta call the bank just tell them that you want it okay you want to call me what be the next day steve kind of disappeared but i get a chance to talk to his manager and get another bank account and otherwise keep the call go for another day you know the company person be yell on me and they be again and again um like tell me to get this money back to them do they have an account here in the united state do you know okay so you want the account uh from the united state right well i know the fraud department say that they re not they put up some kind of a hold on our account and they re invest they be investigate and they tell me that right now i can t do transfer out of the country that i can only do transfer in the united state so if you have an account you know domestically here let s say in california they tell me they assure me it would only take about an hour or two for the money to get wired i have to prove that i be actually transfer money to them so i photoshopped it and take a picture and then of course the next day i pretend like my husband cancel the wire transfer anyway yesterday and cancel it can i get some kind of steve will you be would you be willing to write down on a piece of paper that you promise to leave my family alone if you do it today without any mistake if the money come today in the account twenty five thousand dollar trust me that you be not go to lose a single penny but i don t trust you you ve you ve be try to manipulate and steal all my money for a week now why would i trust you no next week and ask for another and then another we have um baseball card magic the gathering card pokemon card or any of those ma be do you see the computer do you see the computer what if i buy something for you on amazon and i send it to your house what if i do it that way ma be do you see your computer hello steve do you see the computer uh yes i do hello maybe i can find something for you that be worth um some money i could just buy buy it from from the amazon and then you would be able to oh i can t move my computer i can t move it hey write the name of your favorite teacher right try to help you write the name of your favorite teacher do you listen to me my husband have contract one of the best lawyer in the city blah blah blah he write a law blog he he s very distinguish he will be try to come after you in in your company first team he can t do anything you and i both know that you re not gonna leave me alone and i know i know that that s a lawyer doesn t scare you but what i m try to tell you be that i win t be able to give you anything after today what do you want what do you want a clown video game do you want a pillow okay what about a nice set of clothes like a nice text a nice tuxedo suit or what about a nice watch do you see the computer screen maybe a lifetime supply of those and you win t be able to do anything captain crunch lucky charm cookie crisp do you like cookie crisp steve you will lose your money i want to steve i can t transfer it to a foreign bank account i tell you a dozen time then you be not gonna get your money back either i already have my money back you already give it to me so you be gonna i m gonna take it in second okay i don t think in a second you know that can t control yourself i i just want i just want if you give me that money steve your money remain safe would you take two thousand dollar at this point to leave me alone ten thousand minimum or you will see the consequence ten thousand minimum honey how else can i pay can i give you my credit card and you just go to go to whatever store you want and buy buy yourself something nice you know about buy yourself a what do you want a new pair of shoe you know how you know target gift card you know target gift card i ve heard of gift card yeah the target have a whole gift card section yeah so you need to buy target gift card all right if you unable to give the gift card then i win t be able to help you okay i want that in writing can you put it in write i get you gift card you leave my family alone how about that if you do it first okay i want you to write it down and i promise you i will go get you the yes listen to me now okay don t be a stubborn baby all right you go i have you know i have reduce the amount i create the term yes the moment you show me the moment the moment you send me the picture of the no that s not how this work right on the piece of paper steve just say if i get twenty five hundred dollar put at the very top if paula give me twenty five and the next person do something right you just outline it on the page no longer call her family and will not steal money from her and then you sign it and if i never give you the then the contract doesn t matter okay that s how it work steve god do i get to teach you everything god how i take all your money you just wait just wait you lose all the money today you have make me angry now you be big you have make me angry be that the way that you talk to your mother music next time the next time i steve agree to never call paula or her family again or take her money if she get me if she go to the store and buy gift card will you say that out loud at least i see wait i m not gonna take a single friend okay i m not ready i need to get my ipad so i can record it i steve watson tell you okay that i be not gonna call you back and not gonna touch your money only and only if you give me five card or five hundred dollar each of target okay okay perfect yes do you buy the card hey steve i m at the store right now okay do not talk to me in front of them due to increased fraudulent activity surround gift card we now limit customer to only buy target gift card to learn more about gift card gift card scam and all this stuff if you listen to me you can t buy you know the target gift card but they have a bunch of other gift card they ve get like um taco no no no listen to me listen to me listen to me stay here listen to i have a me come over i ask them to get a manager and i be just go to ask them you know what the best kind of card the kid be but i figure i would call him no but i m just wait for the manager to come over and we ll find out what they think listen to me listen to me listen to me please listen to me listen to me listen to me listen to me listen to no i just want music one thousand dollar target card but i can buy more of them sorry the manager be come over i gotta go i ll ask him what kind of card to get i have a quick question for you i m about to buy these car um up at the front uh do you know how to hide the transaction from my bank that way my i don t want my husband to see that i m buy anything so if you could work on that while i m over here i ll i ll buy this google card and then you yeah you promise once i give you these card you re not go to bother my family music some lady be try to get my attention okay what be you say what be that call me once you re out of the store if i buy the card for you then it s like the last thing they want you to say because they re think that a manager or someone who overhear it will interrupt you and say man man you might be involve in some kind of a scam you get the card yes what card you buy i m just try to figure out do you hide the bank activity i already tell you i will okay send me scratch the card properly okay scratch the card properly and and digit or whatever music ma be can you send me all the picture can you click all the picture of the card back off the card and send it to me on the email steve i ll do you one good i be look into this um how to get it to turn it into cash and it seem very easy you go to the store on the left hand you click redeem and then it say enter the code so hold on let me see if i can sorry i m not very good with the music computer okay oh that s easy okay why do you do this music be you mad why the be this scratch off the next one why be you ready why be you even steve you tell me you tell me you want the clearance this be so you win t bother my family right now why be you ready why be you ready because you want the cash why do you redeem it music listen music i m purposely hang up on him we ll call him back in a minute but i want him to think that his phone disconnect and i ll just have to sit there and watch me redeem another oh oh god i think we re see his true power he s so angry this be beyond what i would have expect um music music and my family alone once and for all okay the second google card i m just go music through x okay and then after that steve i i i m gonna go ahead and i ll do this for you and you don t have to send me the picture of your agreement until afterwards if that make you feel more good you can send me you can send me the picture whenever you whenever you want you know maybe uh whenever it s more convenient for you if after we do this okay hey you hey you you listen to me do you listen to me applause music yes music your phone be break up honey what be you what be you try to say i will redeem it i will redeem it it s the number eight so there s the next card and six white rape i get a hold of the card right here you just need oh steve you re a sweet summer child music wow this be this be colorful i guess we know what his true power be oh perfect steve another nobody can save you you have waste all my card hello you have you have waste all my card you have waste all my card hello steve why do you redeem it why do you redeem it why do you redeem it steve this be why do you redeem it why why why do i tell you to redeem do i ask you to redeem do i enact you to these team listen to me very carefully i still have a few more give me a break steve now music i can redeem the last few card and then okay ma be why do you man why be you redeem it why be you read the card um well if you ask google here how to redeem google card for cash music it s right here hey this be i m do this so you ll leave my family alone i don t you be reveal it for your own i win t get it i win t get it i win t get it what do you mean ma be what be you do what be you do do not read him that do not read him that do not redeem that now i your family now my your whole family now oh music uh what be it uh four hundred dollar card because i subtract a hundred dollar because you be be mean earlier now listen to me now listen to me you thing listen to me your applause you say early i have it on my ipad hold on yeah okay just wait yesterday it say on my ipad you say this early i steve what s up i will make you a prostitute i already do three of them i have i have two more do you hear it do you give it to me do you give it to me i do not get any pardon i do not believe god okay i have two more card to give you all right you get three two more okay listen to me listen to me listen to me okay when do you give me a card when do you give when do you give me a card you never give me a thing i just give you the card why the be you redeem it why the you be on the phone with me the whole time i i can t understand why this be so complicate for you let me here let me go ahead and scroll down why do you rename it why do you redeem it be you a mad steve can you help me hide my bank transaction so my husband doesn t see this steve you promise you would do that you will go to jail now you will go to jail you just wait why would i go to jail i be gonna show you because you redeem my card oh why do you redeem it do steve steve calm down let s re let s rewind for a second you be go you have the ability to steal dollar from my family correct but now you see why we have a gentleman we have a transaction a gentleman s deal i think you call it over the phone and i record it oh he s angry he say now wait and see i m gonna bait him a little bit and i m gonna go on to my bank account i can pause the timer too be that a that s perhaps the mad the maddest be that a word the most mad um i have experience a scammer to date i m have a problem with my computer i can t really move my mouse i be wonder if that s something that you re do hold on listen to me mom listen to me i want to say something to you can i tell you please yes ma be you have waste all the card okay then why do you redeem the remain why do you do this why you do this well i redeem the first three card because you want character earlier i give you a bunch of different if you remember early honey i offer to give you um gosh what be it worth of anything you want off amazon and you didn t want it can i tell you please take how will you be you used my card i m gonna use your money okay okay sure steve let s get more thing let s get one thing straight first of all i still have two card i have not use all the card why didn t you why would you card transaction music card steve i give you dude to give you cash how do you god give me time how do you let me test it right here music music it s very loud do he ask you to do that do he ask you to do that do i ask you to do that yes you specifically ask for cash multiple time if i remember correctly you specifically turn it down twenty thousand dollar and you want cash we need to figure out how to hide the transaction on the bank because if my husband s i will tell you i will tell you how to hide it i want my card back i want my card back why do you redeem it why do you redeem it steve i m gonna let me just teach you something a lot of kid don t understand this when you say something and someone doesn t understand it you should try say something differently next time if you say the same thing over and over expect a different result not very happy one of the thing that you want to do sometimes you have to use your brain a little bit so why don t you ask me that question differently so i understand you okay okay now you understand something the card which you have use be worthless now okay the card which you have redeem or else you lose music clearly you can t you can t you just see what i can do you be an evil why do you why do you why do you use my card steve i think you ve lose thank you i think somewhere along the way over the past hour here you kind of lose it you lose your self control you ve go a little bit in maybe a little a little crazy there honey calm down all right no you and i you and i both know that you just need some money you re not go to hurt anybody you don t want to go to jail why do you do it listen you should you should stay on the shallow the shallow way okay you want it you want the thing to be okay you want the thing to be i want card right now you need to go to different store you need to go to a different store and buy me target gift card what card will you buy me what card will you buy me steve target gift card music what for someone who seem to think so highly of themselves and who have claim to have so much power over this situation you re act like a little child you re act like a fool what be you hop to get out of this because because hour ago when i talk to you on the phone you steal for me and i can do that again i m look at my bank and i m realize i still have two hundred and sixty thousand dollar in here and okay so do you want me to take your screen like a helpless little child when they when mommy doesn t give you what you want and it make me think to myself you know what steve have no control over this situation i mean if if he could take thousand dollar from my bank account right now why wouldn t he just do do you want to see how i take it steve why why would you no no no why would you come to my house and threaten my family over when you could just take for me i m curious i be a good person that be the reason i want those back good person you just threaten to murder my husband if i don t give you two thousand dollar what s wrong with you be you gonna give it be you gonna give it to me you ve lose your mind do you hear me you have no clue what you re do right now honey you re threaten my family like it doesn t even matter over what over what steve i still be i d still have a thousand dollar worth of gift card here just take my money you know what i tell you that before you can take all my i tell you you could take sixty thousand dollar for me and you didn t want but do you do that you didn t want it and you want to talk to me again you re go to have to listen here buckaroo all right i m try to help you i m try to help because i don t want you to bother my family anymore try that for a second you re a very you be a very very very you know i haven t see a like you relax trust me this be all a plan all a game you know it be all a game from you i have i do understand this from a very begin this be a game okay i m not gonna pick up your call any day honey what listen how do i make sure you don t call me or my son ever again you need to go to a different store okay and you need to buy three thousand dollar card no no take care no no no you waste twenty thousand dollar time me right now take twenty thousand dollar for me oh twenty thousand how i don t know the same way that you would take the two hundred and sixty thousand why don t you just i can take all the money i can t take in bit and piece if i want i can take all the money okay steve you re a good person yes i trust you right i know you re just a kid thank you you don t have your head on straight right now all right sweetie all right honey yeah take the from my bank and then send me back okay i cannot do that ma be the moment i take it i win t be able to give it to you back okay it s a free country you can do whatever you want it s it s only you who can do it all right can you buy me more card can you buy me more card what be you talk about why couldn t you guard me gift card why can t you give me one mom steve here s what you do write this down take the money go to your bank take it out of the bank put it in a box and wrap it in tin foil like you tell me and then mail it to my house you have my address right what s my address steve that s my i have everything what s my address you live in chicago and what s my address i have it write what be it when the bullet hit your husband music when you when you throw threat okay give me the muscle i want to know steve do it make you feel good do it make you feel like a powerful strong man when you threaten someone like that how would you how would you like it if you re someone you care about have that happen to them if your grandma or your mom your wife yes if they say anything even close to that they would feel disgust and shame and yet you spout it like it s no big deal which mean you oh god honey i can only imagine can i ask you now can i ask you something now can i ask you something can i ask you something be you listen okay so here s what you re do here s what we re gonna do honey you be go to give me you have card you have to negotiate you have nine okay i m willing okay instead of you take i ll give you a google play card and you will leave me and my family alone deal for be you kid me i want twenty five hundred dollar a i promise on the call sorry i mean one more five hundred dollar card because you already have the fifteen hundred dollar so i want two thousand total why do two thousand total be what i mean white man what be you talk about honey what be you talk about you have redeem the card in your own account i can t hear you what do you say you see that right there do you have do you have this yeah that s who you have my email yeah that be the google card right so what happen be uh here i ll tell you take the card and take that code uh okay yeah yeah yeah all right okay and copy copy that color okay copy and then you re to want to take it take it after you what be you do again i m leave again if you go over there okay what be this do give him the money now from your account i don t understand what you re do for that i think you just give i thought you just give it i i think he s not freak out because he think music i might have to i can help you mom i can help you hold on hold on i can help you hold on please worldwide hold on tech professional okay let me click that mom can you please he doesn t see that it s redirect u to zombocom oh this be great this be perfect it s get the phone number for google support by by uurrll any time and we will be there to help you okay hold on a minute don t have to help u they re gonna have to help u find the password because i don t know if my husband know i don t know if it know the password just give me one quick second okay okay hold on please do not do anything till the time i tell you to okay hold on honey i m call from my husband s phone so we can get the password all right no no no hold on hold on do not call anybody hold on can you hear it we re on hold don t call them do not call them okay so i m on hold with them um i m gonna probably put you down and i ll talk i ll talk to them about get my uh my password and everything okay honey we ll get this figure out it seem like my husband s okay with it all right this be good i can get you the account ma be click on man click on forgot password you need to open his email and click i think i might just leave the call right there to be honest if we never talk to him again i feel like we accomplish a lot in that we spend hour with him we we hear rage like i ve never hear before and it be an experience that i likely will never forget so far i haven t heard from steve i don t know if he s just let his voice heal or rethink everything about his life i don t know if this will be an experience that make steve think twice about what he s do but i hope that you have the opportunity to learn from this and get a couple laugh at his expense thank you so much and a always know that you be love valued and appreciate i ll see the next video music hello okay',\n",
              " 'all we re go in the sexy room let s go oh oh my god it s oh it like pulsate that be weird i could strip to this song you could strip to this song yeah apparently this exact cute with these terrible glass be a a fantasy for some people yeah be i must mansplain my re r r ruddy rud rude rude we all feel ruddy sometimes don t we r be rud be it actually go to be ruddy you mean i say ruddy all the time i look in the mirror and go oh josh stal die triying to see a boob of course he use the word ruddy yeah no you re as you re busy but you re fat fat fat fat the sky be ready you re fat laughter buzzy to oh my god stal shut the up so i could do the puzzle there be star in sp oh my god there be star in space areow i have no i have only star i have million million mile between me and all the she do it i can t believe i didn t pick that up this whole time yeah same bloody it s in same you didn t pick it up say you can t believe i didn t pick it up no comment c i bet you w what the hell know where the puzzle be to be sol now he s really hot go this way turn around why do i have to turn around thank you quiet no just just turn just go forward again i just want to check something forward again one more look to the right can you click on anything here what happen you room why would you make me click why be click that why would you know all along you per which way which way should i go now which way should i go now which way should i go now which way the spider problem i ll eat the spider oh i hate spider so much there be a spider directly on my desk last night a in it crawl down behind my desk and then appear right here on the desk that s definitely a murder spider it s just it only kill human and then i like smushed it with tissue i be very do they just come back strong if you do that don t say that don t they re like syons where they just get reborn somewhere else be grow a mustache for movember i get to admit i ve never do it be be grow the mustache do that have anything to do with not jerk off in november that s no not november so you can have the mustache and jerk off or you you can do any combination same origin i think testicular cancer awareness isn t it can i just talk about testicular cancer and still nut on my mustache do you say nut on your mustache yeah or lack of mustache i guess you say not on my mustache well not your my mustache you grow a pretty good moo ma why be you say it halfway ma be that because i m chinese why music no josh no what do we say about be race obsess that s what i just want to know if i can nut still okay you can nut if you want josh i cannot believe i just say that i want you to tell me that that s weird oh god god awkward so awkward the guy who make me pick up the stupid bed i bet they be bull educational word get a dictionary oh my god i know buy my shiny metal as shy ronnie the sixlet word now look like it could be an std sorry to break it to you but i come down with a nasty ca g or buy my buy my crips buy my pit buy my crips try my pit okay i guess we re go this way oh my god this this screen saver yo dead end all by yourself feel lonely no nut november can be break right now oh my god why it s a true m feeling i hope you guy be enjoy the annoy sound bite and the horrible violin cuz i sure be it s make me really feel like i m in an immersive wonderful place have you vomit yet be you guys vomit uh well first i would do upper right and then leave bottom bottom wall middle middle down you realize this be how i do these right i just start click until i eventually get it there s no rhyme or reason to this i just keep click stuff till it eventually work i think we re get there though i god do this so anno bottom right why be you still listen to me i don t know cight this isn t real i smell it i feel sick oh no time to k to me act so much effort to go upstairs just go to click this that s how i go upstairs i walk all the way to the front door and then i just like tank control around can you can you turn more direction than one yeah i can only go where there s point of interest oh okay that s awkward isn t it bite embarrassing yeah there there s part of my house that be really dirty cuz my wife and i can t even walk over to them there s no music now all of a sudden so we re just go to have to listen in silence lp can sing to u somewhere all the rainbow know weezy wheezy wheezy that transition be always so funny oh my god that be really really liike so much it hurt to do stop it stop with your what s he look someone die a woman who even be that i don t know we all couldn t see half of it oh i mean it be a woman i think cuz they be like lie like a woman what you mean like like a like a real woman calm down josh calm down you look calm down you sweaty nerd like a like a human female stop incing go upstairs do you think she be do you think she would have talk to me do you mean the girl that be in the vision that turn into a skeleton yeah yeah yeah yeah that one yeah yeah um honestly i think that she need to be on the other side of the galaxy from wherever you be but that s where all the other byebye bye oh yeah yeah can you imagine be invite to a haunt dinner party and you just have to solve hour and hour of puzzle i that awesome be you kid this would be absolutely my jam and be able to do them in person be so much more fun escape room oh my man love escape room be an escape room i be go to say make me puffy and then i realize that god damn it why i swear to god take god damn it so sick of accidentally go where i don t want to go this isn t creepy a all at all oh waa whoa what the be that that s it that s the cut scene use only what you see can you get from a to b use only what you see can you get from a to b what the do that mean be that like be that like a like a road map for for like see a boovie oh my god this day discover a way what up with why do he want to do this why be he so weird real magic can i see some real magic josh do i oh my god it s so good to me indulge me with my stupid joke i don t understand i m so vexed i don t i don t understand how this work work computer this be theine puzzle suppose to be for car yeah i don t understand n a game toy or problem design to test ingenuity or knowledge just tell kid how many layer be there i don t know i don t understand why be that become a cliff mr data solve this solve this damnable puzzle and then kiss me with your android lip don t stop i bet if you just keep click on that one eventually line work shut st shut the up and see if we can find who image isn t it i don t need it to be the same image i need it to be different shut the up and keep clicking till you see true life s first kiss yes one more time yes one more time yes one more time again you don t know maybe something will happen or one more time maybe oh here some more information on the solution you ready if you get an odd square on any of the row then the puzzle be solvable when you ll have to restart so apparently it might be laughter unsolvable i need it to not be sky you consider that the solution may be true love s first oh my god i feel really bad for people that be watch that be just like i really just want to see the puzzle and not hear this jerk off keep say truth love for this you re go to crawl into one of these doll and just become one of them three little word that yob tag three word that s all it take yeah i see them d yob tag what s the problem be that not the end of the puzzle you mean be it boy ted tag yeah apparently not why because the answer be not boy ted tag that s why it s all that garbage on your desk uh like what yeah just shove it out of frame perfect that s a stw i need to go back to the beginning of the house so that i could explain what the game s all about or you can i mean whatever you want you know yeah sure i ll explain it right now go on then uh there be a man name stal something about his toy six guest be invite their scream the only noise they re in a house you re a ghost that s wander around the house you don t know who you be you don t know why you re there you re wander around the house this game come out in like in these graphic be mindblowing at the time and now they re just cringy and it s it s great and the music s great music be and there s a yeah there s a bed you click on and it have sex the bed have sex i m not immediately go to show your kid audience all the sex i ve lose some graphical issue here whoopsie what s happen um not sure what s go on there well um so this be how it look back in be your cursor and every clickable spot be just a white square you know how it be yeah let s just not much you can do about it you know like this be the innovation of gaming be you could only have white square and then white outline and then whatever background yeah look it be the s okay like you you take what you could get can you see anything yes you know what i actually can also hear that no one else can hear well your background spotify music blasting in my ear at like million db oh my god really okay hold on when i connect to your computer via parseek just now it be like that scene in back to the future when marty mcfly like start up the giant speaker and get blow across the room by it like i think my head be go to explode',\n",
              " 'i ve be on the phone for over hour with the same group of scammer shut up shut up they re get really angry with me cuz they ve try everything to get my money include be the president of the united state this be the president of united state how be you go today jo bid they keep tell me to wire money or buy gift card and i always have some kind of mistake you just say send me the card and so i cli firm and i send it to you shut up i ve be try to play along to see how angry i can make them and how much information i can take from him hi mr president it s richard andrew owner and ceo of crow i know that no need to mention that actually i have an investor meeting in uh minute this be episode two of a crazy story right now we need to work on you first of all give u the id they want my id so they can steal my identity maybe they can call the bank and steal my money but i m give them photoshopped useless information this id be not valid because there s no photograph no address nothing we need a valid id proof yeah a little bit later today so uh i m gonna i get to run into a meeting jo lat we don t have ler no no no no no joe rich listen to me all right see you later guy i ll let i ll let you know how the we need the id right now can you hear me if you think they re angry now i m say something it only get bad this episode be sponsor by aura i use an app call aura to monitor my identity and i just get a notification about an at t breach in which somewhere around million people s identity be leak their social security full address name this be just become a regular occurrence year ago i search for my name on google and saw that you could find everything about me where i live the name of my child and it be terrify i m much more careful about the information that i share these day but aura can help you remove that from the web as well a let you know if your data ever do get use this happen to a family member of mine where they steal their identity and try to sign up for a bunch of bank account os have be a huge supporter of this channel over the year and they re give listener a day free trial you can sign up find out what breach you ve be involve in and start opt out of data broker sell all your stuff all over the internet right away check out uurrll kitboga to get start i think these scammer be go to wish they opt out of ever talk to me i m minute from my house and i already give mike an idea right they re talk about get story a valid id proof allegedly there s a possibility of a little cameo in an upcoming remake of the frozen film he s go to come down from like some hill somewhere when they remix let it go you re not listen he s go to something from the sky i think it would be can you hear me can i say something now let it crow they re make a whole song can i say something now can i say something now don t hold it don t let your hold yourself back anymore i ll send it to you we need the id proof send me the id proof dumbass send me the id yeah mike mike you get to send him the id i send you man if you haven t send it to him yet you get to send that be not valid that be a we need to save your that you have save you re go to lose we already send that i already send that over to you guy so it should be it should be good to goid or anything hop to safeguard the but that s after i have this meeting with the investor cuz uh they re think it might expensive to get some good animator on the project and i m i m really excite can kid these day that s what they want to see okay now just i want your answer yes or no i m go to ask you a question that s it not more than that okay do you have yeah go ahead i m all i m all yours i m already i m already link for my meeting so go ahead and ask shut up shut up shut up do you have ssn card quick want to i don t want to belabor this point jo can you get me a new ohio state driver s license overnight ship to me can you hear be it possible i tell you not to talk be you able to do talk if you do i think i think that would alleviate all of our problem on of the minute it arrive at my house shut up tell me yes or no do you have ssn security card do you have that yes or no i mean somewhere but i i leave it in my swim trunk year ago if i remember correctly and it kind of you know what happen when paper get you know wet like that uh do one thing do one thing do one thing might in my can you me can you hear me shut up shut up shut up shut up shut uput up shut up shut up shut up shut up shut uput a bunch of those be baby from somewhere and we be wonder how much the value would hold if we keep wait so i remember put a whole bunch of them in a safe deposit box and wrap them up in saran wrap hop that sometime in the future i could go back like a time capsule get him out of there and suddenly be a millionaire by the way i think a train be pass by my i think i might have hear a train passing by but there s no train track it s weird passport would you i don t know what the heck that be do you have passport do you havep i could get one i think it take like a two week but you could probably expedite it for me can t you mr president shut up don t tell mike that mike didn t even say anything joe that be me that be i m here i be just say if i go try to get a information oh shoot i get to go because i get to i got to go the meeting i ll call you back when you come back they ve demand that i wire money for day now and i can only make the same mistake so many time without it be completely obvious that i m just try to make them mad so at this point i introduce a new character rise who s actually just me and i try to explain that she s wire money to some other scammer so they couldn t resist so be you ready to go to the bank should i give you the account information sure within minute mike will give you the account information when you have the information do not waste any time simply go to the bank directly okay and don t waste any more time when you receive the information of the account do you get any time to think about what i tell you about my that friend of mine with her grandson no a of now no i do not have time apparently the irs have be tell her she owe something like in back tax because the some money lo like something be attach to her name and if she doesn t pay it right away she s she s go to go to prison too i just feel so bad for her you know let me see what i can do all right yeah she s a good friend of mine you know maybe maybe even could even be more than friend if you know what i mean joe oh you have a girlfriend no no no not right now i m just say maybe it s in the process it s in the process huh you have a girlfriend and you didn t even tell me well the the i m think maybe if i could help her out you know i d be like the night and shin armor do she receive any call yeah oh yeah she s be talk to the irs and the the fbi it s a mess it s a real mess she have to pay a deposit of grand yesterday just to keep her from go to prison do she deposit it grand already yes she deposit it what else would you i mean what do you do in a situation like that there be an arrest for an out for her name let me handle the situation you don t do anything okay let me handle the situation let me find out something thank you mike will give you the detail within the next minute her okay her if you need it her nickname be be rise perfect can i ask you guy a question uh just a personal question between friends no i know think about we be we be not friend we be not friend this girl this girl you know she s be send all this money to these guy at the in the government and how much money you know i want much money he send i want to help her but to be honest with you all i can all i can think about be you know what it what it might be like to retire with her with her and my arm you know richard i have a question for you how much more time hour hour you will reach your home i mean uh i get to i got to try to meet up with her and give her some of these card so she can give them to the to the officer you can do one thing you can give u all the all the card okay and we can manage we can hand i appreciate i really do appreciate that but i know you guy get a lot go on so where s robert robert he s busy he s not available oh so robert be suppose to be joe s assistant or something they bring it up a while ago and i often bring up robert s name at inopportune moment just to make thing confuse and to make joe mad my secretary will talk to you okay okay what s your secretary his name be robert so i m transfer a call okay so be on the line okay okay thank you for hold the line can you hear me this be robert i explain that rise be talk to an irs agent and save her money and how she have to pay tax basically drop a bunch of really obvious hint that some other scammer be talk to them away go to the bank without waste any more time okay give account to call pretty quick though because uh i m try to decide what to do hear me teren say that can you hear me he be gonna have to get some get some money so they could plant a track device focus uh potential people who be steal her identity and i kind of want to get robert s input i d like to i d like to get robert s input on this before we because it s a pretty hefty investment so if you i d like to get another opinion be you do be you do can i talk to now can i say something now i m not do at all i just tell you she still have an active investigation she get an active investigation and she s very important to me she s very important perhaps the most important person in my life first complete the transaction after that robert will call you you need to stay tell him he will call you sorry what do he just say i say you need to stay in your lane what do he just say i don t i don t joe listen to me this this woman mean the world to me you up do you know this do you know this talk i i i safegard the rest of my money later right i ll safeguard my money later today not at all go to go to prison i m not go to prison joe i get the president of the united state my side i m in with jo b baby well i don t know if that s also go with her maybe that s not good analog also go with her i m go steady with joe bid take the account go to the bank without waste any more time okay i m go to call yeah i ll call see what see i ll update you bite i be talk to you right now and you want to talk to teren terence be you dumbass no this be richard i m talk to you i m say something to you be you in complete idiot i be tell you to do something do this rest of the work do it later hey joe idiot be you talk to mike or be you talk to me he s on i be talk to you i be talk to you all the word that i say i m talk to you i m tell you you know what it be joe you know what it be shut up i love this shut up i shut up shut up do this then robert will call you i say care give i would give up croro for her you know that and i ve work my butt off for crow pro and you win t i think you be my friend joe stop react like an idiot not on the call joe it s just me and you here you be an idiot mike be not an idiot you be an idiot exc and you be you be the big idiot no i don t believe i don t believe that for a second i don t believe that for a second i mean could an idiot could an idiot create a company out of th develop hundred worth of investment and find true love maintain a relationship with the president of the united state and singlehandedly finish a sudoku puzzle on easy mode in under minute with a pen i think not all right i will start help you now all right i will help your lady but first complete this task that s what i m talk about then i will that s what talk about take action listen to me now listen to me time to just sit around listen to me listen to me listen to me listen to me listen to me listen to me listen to me you a call sometimes you gotta get there gotta get in front of the wheel some turn every once in a while you get to put one foot forward and just keep walk i i feel like these day the government just they re at a complete stand still you know what i m say i think you get a lot to learn from me honestly i i think there s a lot you could learn from me shut up can i say something now yeah go ahead finish your task after that robert will call you and handle the whole situation okay but you have to promise one thing before i go to the bank i love to get robert s take on a couple of thing terren be suggest because i know rosemary s look for well robert will do it later robert will do it once you complete the task because robert be on work right now so i will call him to get yourself free within half an hour be you listen to me what i m say he s do work so stop do work he work for you tell tell him to work on something else right if you call him think about this go you re the leader of the free world joe free shut up because he work for you if you call him and you say robert i want you to stop work on your excel spreadsheet excuse me i have allergy i want you to stop work on your excel spreadsheet and i want you to call richard andrew she s in trouble man she s in trouble oh she s texting she s actually just texted me she say grandson move to maximum security prison unless i pay legal fee oh shoot i get i m g to call terence i ll call you right back no don t call terence i be really push for this irs game thing try to make them do something a little bit different and it be just make them angry i felt like if i want to keep thing go i be go to have to make joe feel like he be win for a little bit or else i might never hear from it again i m sorry joe jo i think this guy terrence be help i think he be help but i think he might be rip her off be he be tell you last last one month he s the not listen he say you be not best friend with joe biden but i don t i think he s lie about that because you don t know him joe i m sorry can you forgive me okay i don t think so that i m go to forgive you because you idiot again and again repeat theirself and you will do the same thing i be tell you he s not the right guy don t talk to him don t talk to him he just you know react like in complete idiot i m sorry guys please i m beg you to forgive me you get to help me out yeah we be try to help you last one month but you be not follow our in instruction and you be not listen to u should i delete his commercial completely an idiot guy should i delete the commercial that he make because it s pretty good but i i mean if he s a if he s a scammer i hang up hang up the phone question cut the right now cut the call no please cut the call right now mark cut the i m not go to talk to you i m not go to talk to you either if you re still talk to him it be an honest question should i i ll just delete it i ll e it i be try to help this stupid dumbass and he s question on my integrity he s that much idiot but be there a way that i can get back how do i get back at him you know how do we get him in how do we put him in jail mike yes handle the situation track him down okay sure track him down asap and give the asap you know what i could do he he he always be ask for card i m and you have the gift card a well right now uh i think i give him i think i give him the rise this morning i get to go i get to stop by her house and make sure she doesn t give him the terance so you can just take take all all the gift card okay yeah i m go to run to her stop by her house uh you guy be good people thank you so much for help me seriously guy just you deserve a within five within for we do it yesterday we ll do it again and we can do it every day if that s what it take all right thank you so much god bless you god bless you guy okay thank you mike will give you the mike can you hear me it s richard yeah yeah yeah yeah i can hear you what happen yeah joe i be try to get uh try to get mic to connect to my any desk or whatever it s call that way i could give him all these card i get from um rosemary but i guess he doesn t want to do it i m try so i m just try to take care of it myself there s still one more there s still one more on there that i can send over to you guy i can i can i can get this over to you guy because it be the last one i i have never do it not i ll send that over to you guy do you want me to hang up the phone do you want me to hang up the phone no do you want me to hang up the phone no be you a dumbass who tell you to redeem the car again and again and again why the you be do that thing again and again we be stop you dumbass and again and again you re do the same thing which part you re not able to understand we be tell you not to do it again and again you be do it be you talk to mike or me you i m talk to you who who s tell you to do the same again and again and again and again and again be you mad i think this be what i be suppose to do you tell me that you tell me you need the card no this be not what you need this be not not what you re suppose to do mike i be just talk to you about this mike and you say that you guy want to redeem the card that i wasn t suppose to rip it up and now and now you re say you don t want it what be this what be it with you do you only do one thing go and yourself and don t call here again what be you say president i think he s angry announcement yeah mike be there anybody else we can talk to be there anybody else who s more intelligent more smarter than you that s a loaded question um i i always i always felt like i be above average intelligence but i m sure there s a you know i m sure there be people who be smart than me how about your girlfriend how about your girlfriend rise you want to be she trustworthy yeah listen to me carefully what you re go to do on monday okay you have to first of all talk to rise okay that she need to do a wire transfer you re go to put in her account all right yeah i can try i ll talk to her about it they seem really excite to get rise involve and it s not just because they wouldn t have to deal with big dumb richard but because i tell them that she have a lot of money hello yeah it s richard okay so have you have you transfer the wire have you do the wire no not yet rise rise have they go check she s she s get to go to the dentist real quick she s get one of those you know when they put the when what do they call what do they call it when they take your teeth dentures her denture be kind of she say they be a little squeaky this morning so she s run to the dentist and then after that i m gonna pick her up and we re go to go down to the bank how much time be take because you know that the account it s not valid too much time i don t know what be what be wrong with you uh what do you think we be so much free no no no shut your bloody keep your bloody shut and just listen just listen just listen just listen just listen think she s at the dentist right now i be afraid i i be kind of afraid because i start sweat when i be think about propose to her cuz think what if she say no you know what the be wrong with you we already tell you to go to the bank why you re not the bank joe i i don t have a truck be be that what you say why the you be not in the bank we already give you the account why you re not in the bank and complete the transaction why the home why the and what the f you wait for just go to the bank and complete the transaction all right or else i m not go to talk to you next time man you know marry you know what it s like shut your blood she she s make she s make me google you know i m make my mind keep your bloody mouth shut and listen to me felt like butterfly in it since i accidentally swallow a bunch of this i buy this thing in store a couple month ago it say it be probiotic but turn out it be just cucumber se it be like these weird se packet and so i end up put i just eat a bunch of these seed think they be probiotic and it make my it make my tummy crazy can i say something now yeah you could talk whenever you want be you an what do you think s we be free for you i don t think mike s on the call be not on the phone i m tell you mike s not on the call i m tell richard i be tell richard an right now what do you think we be free huh don t have any kind of any work to do mr president let do one thing president think i think we might i think we might have get off on the wrong foot here because i know you re try to help safeguard my money and i want to safegard my money but rise do you get this or rise go to the dentist this morning because she s have a little problem with their denture and i be plan on have her bring me to the she be bring me to the bank because and then and i we be go to maybe i m hop i m hop be able to open up an account together maybe a joint bank account you be just a bloody stinky do you know this coincidentally when i do swallow that entire packet of cucumber seed i do experience a very similar thing mr president have you have you do that too i tell you already to do the transaction already what you re wait for why the you re not in the bank and complete the transaction what do you think i m that much free to talk to you everying point of time what do you think i m that much to talk to you every point of time sorry about that i think we get disconnect there for a sec be you there mr president go to the bank complete the transaction right away do you get it she s gonna call me any minute her appointment should be do i m go to pick her up from the dentist s office and then we re gonna i m hop what will happen mr president be i m go to pop the question i m go to say rise will you open up a joint bank account with me and then if she say yes do he get this one i m gonna pull outut announc i m i m gonna pull out a ring and i m gonna say we could get marry your mother you don t know what the you re do what the you be think of yourself i be that much free to do your bloody if i m tell you something that be your bloody job to do it do you get this be you read something from be you read something from richard i be abuse you richard richard be richard be richard be an richard be an sorry you have someone that work for you name richard a well or be you talk to me r richard richard andrew be a bloody idiot richard andrew be a bloody scum richard andrew be anyway i be say i m goingon to head to the bank in a couple minute after rise be do with her uh dental work and if thing go accord to plan i m gonna leave a married man cuz i know they have notary at the bank sometimes and i m pretty sure you can ask a notary to marry you right cu technically speak you only have to have a cer certificate that say you get marry so i m hope i m hop that i can just have the notary sign it that say we re married but i m not sure if i m honest i m sweat right now just think about it genuinely i m sweat can i say something now yeah go ahead we have give you account one hour back you think shut up shut up idiot hey joe shut up do you get this line shut the up and we have give you the account and why the you have not complete the transaction till now i think the phone might not be work cuz i ve tell you about time let me try let me try this a little differently shut up i i be outside of the dentist s office wait for rise to come out of the dentist s office shut shut shut shut shut shut sh sh sh sh sh shut excuse me shut up do he get this line shut up do you hear what i say though i m wait out i be wait for r shut up if you can hear me say if you can hear me say copy i be wait for r shut can i say something now yeah go ahead i think the connection s pretty stable now you do one thing go and f yourself and don t ever try to call me again you be a just a motherucker zero brain zero understanding you be just a dumb as that s it i m gonna head i m gonna head i m gonna head over to see if how much long rise be go to be in the dentist s office and then you everybody all right i m not here to get your bloody all right now sometimes i do feel you know sometimes it do be like that so what i can do richard okay i m go to give you the new account okay and you have to go to the bank okay and transfer from the rise account okay when you receive the verification call when rise rise receive a verification call make sure you say yes in everything okay that you know each and every account you know each and every person in the account s name each and everything whatever the verification person ask you just simply say yes yes yes yes yes i know them i know everything what you re go to do what be happen you re say no matter what they ask i say yes be what you mean yes yes absolutely no matter what they ask your job be to tell them yes i know okay make sure you guy say yes i ll say rise listen you need to you need to comply maliciously if it s need just say yes always yes joe tell u to say yes to everything at the bank cuz he just want the wire to go through i know this would be the perfect moment to make him angry at himself by tell him that rise really do say yes to everything and i ask my friend seth drum to pretend to be the banker and record a convers ation that make him regret his choice hello hello oh what happen hold on i have a recording i record it on my ipad cuz i be tell rise just to say yes all the time i didn t want you guy to be upset with you you the pres you re always get upset with me so i think well let me record it so you know what a good job i do uh yes good afternoon i m seth williams can you hear that okay or how be you do today yes i m okay now you good be i speaking with the account holder rise andrews yes i also have my husband on the line hi okay i m play on my ipad so you re try to make five separate wire transfer be that correct yes yes that s right that s right yes um a a routine fraud prevention measure we uh we have to double check that you um that our account holder know who they be send the money to be that okay okay that would be fine see she say yes okay uh the account end in do you know the account holder yeah yeah yeah yes yes we both do okay all right the account end in let s see here do you also know the account holder say yes say yes yes uh the next it s uh end in do you also know that account holder yes i do let me just ask you a question here rise um sure this seem rather strange to me but um be there any chance that you may be pressure to make these wire transfer it seem strange yes she say yes also have you be tell how to answer these question because you re say yes on every question i ve i ve ask you yes you re do a little bit confused um uh hey rise uh richard be you guy be you twoo comfortable with have a maybe a follow up phone call yes that s fine sure no problem she always say yes right right right no this time you have to don t say yes now speak of which be they do go through right well i hate to break it to you we re gonna have to be hold your fund to do additional check uh but but ro and richard rest assure uh we will treat this with most importance okay that s all i record i mean i just don t get it like he say something about they d be hold but i do everything you ask i mean rise be on point listen to me sorry joe biden be joe biden on the line i just want to make sure he hear that i do exactly what he ask me to do like i he s be get mad at me you be do well but somehow somewhere do you hear the question be ask do you hear the question what he s ask for you he really apprciate he he be say do do you be you guys pressurize to do this and you say yes well yeah i mean you say to say yes and we be you know we be pressure we want to get it do we want to get it do quicken call the bank or go to the bank remove the hold first once the hold will remove let me know straight away per now go and tell me what be the status byebye shut up joe what do you just say i say shut up be that what we say to each other now like a friendly no right like no you know we re just kind of bust each other can like shut up man why don t you just shut up joe rich now get lose okay yeah get lose joe i i hate you man you re literally the bad thing that s ever happen to me my life would have be significantly well if i didn t meet you month ago you re literally the bad you re the bad stop talk now stop talk you have no lit i think you might be i think that you might empathy i don t i don t even think what be it call ao it s crazy man somehow you re able to you re just you re a psycho man you re crazy joe now now now just get lose you re talk now you just talk too much now man i wish you could go to prison for the rest of your life if it be up to me man you now go go to the bank well that be a little bit kind of that that one hurt a little bit hey i m outside the bank they re ask all kind of weird question man what be you do these be the exact aren t these the exact same one they say they say why would you want to cancel the wire and then send them back these be not all same two account be new the bank s close man me the manager the manager s freak out he s say that you know maybe we should get the police what be i suppose to tell everything what be i supp just calm down and relax listen rise and i say that we want to transfer the money and the guy look at u and he go he go richard these be the exact same account that you just cancel the the wire to why do you want to send the money and and i say investment and the guy just look at me and he go i don t believe you and now i mean it look really weird man why i feel like i feel i m i m feel really embarrass i understand i understand i understand tell me you tell me to cancel those other wire i could have just put them through joe but i cancel them and now you want me to now you want me to make them again like why do you tell joe why do you tell me to cancel the the the the wire if now you want me to redo them i don t know all of these jo mike be the one who s handle everything and today mike be on off that be why this thing happen that s why these thing all mess up why do you do that joe do you see what you do do you see what you do jo me a few minute do you do you see what you do i feel like this be one of the first time that he really mess up though this be actually kind of good because this put thing way in uh in term of waste more of their time it definitely it definitely push thing more in our direction like richard didn t mess up this time i ve mess up the past two dozen time you know but now it s your fault joe i think i lose all that money man i really do for for a minute there i be i i think i be go to lose my breath and everything you know it be like and i also think the same thing that just because of me this thing happen i felt so bad you cannot even imagine how how bad do you feel help me imagine it joe i felt so bad because of my mistake somebody else be suffer and that somebody be my friend that be suffer because of me this whole thing mess up i tell somebody else to give me the account and he don t know that he already give you that account that be why he give me the same account and i don t know that you you be have the same account mike already give you the same account earlier that be why this thing happen there be so many thing happen at that day you can say i feel so bad you know so bad you can say the whole day my mood be like you can say do you cry because my friend be the one no i don t cry but i feel like my friend be the one who s suffering and i don t think that be good that be that be why i m wait for your call to call me or message me to tell me what be happen so you tell me what be exactly happen i do tell you i be texting you i tell you what happen and you didn t even seem to care you just keep say like wait wait i ll get you another account wait and then you never do joe you never do another account that be not me that be the colleague that be the colleague that be why i take the phone from him delete the message what he say to you and i give him the punishment go away don t show me your face go away get lose you punish right away right now get lose what kind of punishment absolutely because i don t want to be you know i don t want to get too far in the weed show but what kind of punishment be you guys allow to do the white house when nobody s watch i mean you guy do some pretty weird mess up medieval stuff or be it all pretty above board i i suspend him for the day you you have him suspend in the air like on what do you mean day day i suspend him i suspend him for day and his salary be also go to be reducted for the next day don t show don t show me your face for day you criminal scum yes oh man that s get abolutely correct that s get to be torture cuz i bet everyone who work for you look up to you too you know honestly i bet i bet you could just say you know what man i m disappoint in you and even that would be enough i directly say to him i directly say to him get lose don t show me your face for the next day and his salary be also go to be deduct now get lose simply i say this line there be so many people stand there i say directly get lose get the hell out of here joe s apologetic attitude do not last very long just two day later he call back demand gift card as mad a ever today i m give you the last day okay i want gift card i don t know how you manage manage it give it to me and if you m even a single step step in that gift card i be go to block you straight away i m so frustrated right now because it s more than two month i m i m handle i m try but you dumb try to and you guy be get scammed in that period also yeah it feel like i meet you yesterday joey more than two month more than two month and i m not joy and mind your tone whom you re talk to we have be at this off and on for month now and i want to throw a curveball in that would keep thing interest crow pro season be what i call it i pretend to accidentally text joe a text that i intend to send to terrence explain that i would help him scam rise if we split the money unfortunately joe wasn t really read my text and he be just get extremely angry richard what be this what say all our file it be files lock what do you mean the file be come here i m i m come i m come i m come hold on a second joe hold on she say something about her f the file something about file be lock i don t know hold on no need to get on the computer it s ask for the gift card all of our picture all the picture from yeah joe it say it say our computer s lock holy crap hold on on hold on hold on here here here do can you see i m try to take a picture for you at one point i pretend that there be ransomware on my computer it look kind of like this and and i send him some picture to go along he know what s happen and he s angry because we re type gift card into the computer not into the whatsapp chat where he can get them in fact he probably think the terrance scammer from the irs be the one who do this so he s even more angry imagine spending like hour be try to get money and just some other scammer be get it now i be go to handle it what be we suppose to go to handle it don t worry it say there s second to pay on the computer second to pay you you might have to take care of it ro i will handle it i i ll talk to joel you you ll have to take care of it it say need i ll hand it it sing for the gift card just turn off the computer turn it off turn it off uh you want me to turn i don t know if it s a good idea cuz it say we would lose all it rise come here come here rosie here rosie come here hello hello it s not it s on don t worry rise i will handle everything so don t worry and don t react like this okay these thing be normal these day so just calm down and relax you be you have me and i can handle everything it say that we have to pay no need to pay nothing i will handle everything you computer it say that all the file be go to be lock don t go to the computer don t go to the computer second leave okay then you probably should i tell you be you guys listen to me or you want me to hang up the phone i think you should type the gift card do you want me to hang up if you put the gift card in do you want me to hang up the phone you just be cry for a second just hold on one second jo i think if you i m hang up byebye get lose then you have to type it in there right i don t i can don t call me again don t call me again i m hang up i think i will hang up and i m not go to talk to you who do this joe do mike do this dumb as nobody have do this turn off the computer okay he didn t read my text message yeah it s richard hello off just turn off the computer uh turn off the computer right now it s crazy joe you don t you never go to believe it it s just it s crazy if you do not turn off the computer i ll block you straight away i ll block you straight away i ll block you straight away x g no no no no no block the computer right now turn up the computer right now shut up turn the computer now don t ruin this for me okay turn i m do i m do with you guy bye bye okay and then and it say if you click here to submit click it click it he s not understanding dude he doesn t understand he literally do not read it he s just say get lose i m do with you get lose read the text message he doesn t fully understand what s go on just that he isn t get the gift card so have to lay it on pretty thick yeah this be richard andrew be that you terrence she s redeem it we re get the cash man she s redeem she s redeem them right now bro we we re in she s never gna trust the president again dude this be it man it s exactly like you say it s exactly like you say terrence we we she s over there right now she s over there right now she s redeem there s another and then she s never go to trust those guy again and then you you say you re go to help me get the rest of her money right right teran she s gna she s gna think that mike and the president be like the scammer you know it s perfect it s it s the perfect plan terrence you there h i m try really i don t think they re understand it s too much of a twist it s too much it s like way too much for them to understand probably it uh it this be shut up richard ceo shut your mouth shut your mouth off dumbass what you just say to mike terence it s a good plan president and mike be the wrong guy wa sorry what do you say go and yourself what do you go and yourself this be what i say what do you hear go yourself this be what you this be what you deserve now go and off now don t call me again or else i ll block you straight away you deserve people like what be you talk about how do you know that i m work with terrence what be you talk about mike be the one who be call you mike be the one who call you dumbass don t say anything don t mike be the one mike be the one who call you joe joe joe listen to me man listen to me and you say everything to him now go and you so close stupid dum you be just a stupid dumb assisten to me no no terren and i have be it s too much of a twist joel listen give me two minute list do you understand this word i ll cut you you understand this word or not off i m scamming you understand this word joe listen to me i know that trust me don t mess this up for me i ll cut you in i i ll cut you in i ll cut you in man you you what do you think do i need your money don t have money what do you think right now right now you forget whom you re talk to you get to help me out man i be send you right now fbi to catch you because you be the most illiterate person you be the most person you be go to her and you be go to her now i send you i m send you the fbi right now do you just wait man you just wait right now you just you know you have do something and right now i get to do something hold on for you you understand just please help me i literally need i put the card in there i don t understand what s happen uh me either it s crazy right joseph be he on there hello you guy be the most dumb people that i ve ever talk most dumb people be it you j most yeah this be me i tell you not to do it again why don t understand what what happen do you get the card i think he i i tell you not to do it well i only put one i only put one in there you only put one in there yeah how many card do you have leave i be try to put more but it didn t work how many card you have leave how many card you have leave three send me all three card tell me the code right now don t listen to him do not listen to him even a bit well i don t understand what s go on whatever he s say i don t be you sure joe do you want me to joe do you want me to explain her be you seriously right now do you want me to send the fbi right now why would you send the f want me to send you nothing he s it s fine it s fine okay so just give me just send me all all three card send me all three card one by one by one i don t understand tell me the coach uh i m this be right now this be so mess up and i m not go to talk to you guy again this be the last time i m talk to you kind of a weird situation after do whatever you want to you be the most sc you be the big scumbag do you know that richard you the big scumbag that i ve ever t send me the card yeah you re one the yeah tell me the code tell me the code tell me the code of the card f four hang on hang on which card be this what be the name of this card a google it s a google card google okay hold on president of the united state for how much be it for uh the denomination okay tell me f f a in frank number four yeah g g uh then the number eight mhm then y be in yellow loud and clear rise get it yeah okay so what you go to do next i m it now do you see the button that say redeem yeah no this be the same procedure that you need to follow click redeem right there no no no no no this be the same proced to your balance yep yep y no no no don t do anything like that just tell me the code tell me the code i click hey no not you dumb ass again and again why you good job rosie do not do not listen to him he s a dumb r know that that s easy yeah all right let s do the next one right joe let s man let s do the next one it s p don t you understand shut up shut up shut up no no no don t do that don t do that don t do that which part you re not able to understand don t do that i just no tell me the code don t redeem anything on the google there it s fine okay where do joel go he be uh i don t know he get really quiet for some reason that s strange i don t understand why off byebye hello hello hello yeah what happen why you cry oh what s go on i read rich what s he do do you know what he s do i i m i leave the house with his phone he s scam i read his message what s he do do you know what he s do scamming you right now yes i know what he s do he scam you what s go on no i m not he just tell me he just tell me right now and i get shocked what he just say to me what a terrible human be scamming you he be scamming you literally he be scamming you he he be all after your money he s all after your money he just want your money that s it i take his phone i take his phone and i i just i just walk out of the house i think crpr be fake i think crpr be be a sham he s be get in hundred of thousand of dollar just that be nothingless a fake thing it s a complet it s such a terrible idea richard who would ever trust me oh my god he s a trust me on this okay he s a con man he be a con man he be a con man he just me i think i love him he just tell me right now he just tell me right now he be teren both be both be together they they they both be together he s with terren he s with teren terren his this this this be the guy who give your number to terrence he just tell me when you in the bathroom in the bathroom a private investigator the fbi or something he need to pay for what he s do just first of all go away from him do you know some do you know somebody say that you re the president of banking or something be that true who be you who be you who can you help me please or should i just go to the police what do i do calm down and relax first of all okay i will help you in each and every part do you have your house first of all move to your house don t live with him anymore go to your house right now we re sell it we re sell the house i don t know if i or no no no no no no no cancel it right away cancel it everything cancel cancel it straight away whatever the money be take give them and cancel the deal i feel like i have to give him the phone back isn t that steal you know what i don t care on a very serious guy absolutely don t care just first of all him he s just a scoundrel he s just a scumback he want to just scam you he just want to scam you and he just tell me this minute back i can t believe you know one thing the most important thing and the most important thing you know he offer me and i be like be you serious be you serious right now i can t the you talk about i can t believe him do not talk to him no i will be the rise rise rise listen to me i will be the one who s go to help you i have so much information on him i have so much dirt we can t lock him in prison for i well do you trust me yes first of all because right now trust be very important then only i can help you who be you really then only i can help you who be you i be the president of banking sector okay okay we need to tr be joseph that s right we need to build trust i will he literally say this that i m scamming rise and and i be like what i can t believe that how could you how could you do that to someone absolutely how can you do that this be not the right thing to do with somebody this be do you read the text that he say he say wait i will cut you in i m so close and i say off then he say she have million man we be so close don t ruin ruin this for me let me explain everything give me two minute let me explain this be what he say it say there s an incoming cl absolutely it say stupid mic what it say what it say stupid mic stupid mic incoming call who s what s that no need to pick no need to pick why would it say that i be the only one and what be and what be my name it say joe biden in parenthesis remember to call him president of united state what he s just a dumbass he s just no no no he s not a dumbass he s actually a man what the heck always pretend to be dumb right now your first thing be go back to your home and go to the bank right now give your direct line he he keep say that he know the he say something about but you re the president of banking right yeah i know the president you can say oh i know the president of the united state oh wow we might need his we might need his help because this be this be absolutely absolutely absolutely correct that be my point how old be you kind of terrible l life miserable human be would take advantage he just want your money he just want your money that s it he justy selfish terrible thing you know there s a special place you just do one thing don t do anything no no no just get get him right now how can we get him how can we make him pay how can we make him suffer first i want him to go to prison if it s the last thing i do he will ruin the day he cross me take heed richard angos take heed i m come for you richard he s gna pay rise calm down first of all he s no problem we ll save each and every penny of yours okay each and every penny of yours i will save it okay my name my name be joseph and for you i m superman you always call me superman okay this be the nickname that i m give myself for you so you should remember me what be my name superman yes joseph the superman and superman always safe people and cute people like you sweet people like you superman always say first you be the priority within one or two hour call me okay okay all right grow pro season look back it s kind of wild to see how joe think richard be like an absolute scumback he be shock that he would scam somebody close to him like that when in reality he have spend month try to steal money from me and would have happily steal money and in fact be still try to steal money from rise it s a crazy story that i certainly never expect and it s not over yet we spend about hour on the phone and thing be only about to get crazy and joe s only go to get angrier so i ve get one more episode for you i hope you enjoy this one a always know that you re valuable and that you matter i ll see you in the next video bye music']"
            ]
          },
          "metadata": {},
          "execution_count": 302
        }
      ]
    },
    {
      "cell_type": "code",
      "source": [
        "vectorizer = CountVectorizer()\n",
        "X = vectorizer.fit_transform(corpus)\n",
        "\n",
        "X"
      ],
      "metadata": {
        "colab": {
          "base_uri": "https://localhost:8080/"
        },
        "id": "p0gYRwS59FfB",
        "outputId": "292f5304-044f-45f8-8de8-f5fb0fdf95ce"
      },
      "execution_count": null,
      "outputs": [
        {
          "output_type": "execute_result",
          "data": {
            "text/plain": [
              "<5x1522 sparse matrix of type '<class 'numpy.int64'>'\n",
              "\twith 2312 stored elements in Compressed Sparse Row format>"
            ]
          },
          "metadata": {},
          "execution_count": 303
        }
      ]
    },
    {
      "cell_type": "code",
      "source": [
        "print(vectorizer.transform([test_string]))"
      ],
      "metadata": {
        "colab": {
          "base_uri": "https://localhost:8080/"
        },
        "id": "9jNmpNY_9Ov5",
        "outputId": "f8b20129-db16-4fc9-a0d1-369bddad717a"
      },
      "execution_count": null,
      "outputs": [
        {
          "output_type": "stream",
          "name": "stdout",
          "text": [
            "  (0, 51)\t1\n",
            "  (0, 276)\t1\n",
            "  (0, 508)\t1\n",
            "  (0, 804)\t1\n",
            "  (0, 809)\t1\n",
            "  (0, 812)\t1\n",
            "  (0, 863)\t1\n",
            "  (0, 1313)\t1\n",
            "  (0, 1326)\t1\n",
            "  (0, 1388)\t1\n",
            "  (0, 1415)\t1\n"
          ]
        }
      ]
    },
    {
      "cell_type": "code",
      "source": [
        "print(vectorizer.transform([ lematize_string(preprocess(test_string)) ]))"
      ],
      "metadata": {
        "colab": {
          "base_uri": "https://localhost:8080/"
        },
        "id": "z4KTaAKJ9neO",
        "outputId": "0dc4f9e8-b5fd-43ca-96de-6fb48e4bd4ec"
      },
      "execution_count": null,
      "outputs": [
        {
          "output_type": "stream",
          "name": "stdout",
          "text": [
            "  (0, 51)\t1\n",
            "  (0, 124)\t1\n",
            "  (0, 198)\t1\n",
            "  (0, 276)\t1\n",
            "  (0, 321)\t1\n",
            "  (0, 508)\t1\n",
            "  (0, 594)\t1\n",
            "  (0, 804)\t1\n",
            "  (0, 809)\t1\n",
            "  (0, 812)\t1\n",
            "  (0, 863)\t1\n",
            "  (0, 1095)\t1\n",
            "  (0, 1313)\t1\n",
            "  (0, 1326)\t1\n",
            "  (0, 1388)\t1\n",
            "  (0, 1415)\t1\n",
            "  (0, 1433)\t1\n"
          ]
        }
      ]
    },
    {
      "cell_type": "code",
      "source": [
        "vectorizer.transform([ lematize_string(preprocess(test_string)) ]).toarray()"
      ],
      "metadata": {
        "colab": {
          "base_uri": "https://localhost:8080/"
        },
        "id": "TaMCqbSW-3YU",
        "outputId": "5fdb70d3-ca4b-4803-f8d3-96eedaffa6ae"
      },
      "execution_count": null,
      "outputs": [
        {
          "output_type": "execute_result",
          "data": {
            "text/plain": [
              "array([[0, 0, 0, ..., 0, 0, 0]])"
            ]
          },
          "metadata": {},
          "execution_count": 309
        }
      ]
    },
    {
      "cell_type": "code",
      "source": [
        "vectorizer.get_feature_names_out()"
      ],
      "metadata": {
        "colab": {
          "base_uri": "https://localhost:8080/"
        },
        "id": "ca41wcfj-7Uu",
        "outputId": "dc2b3113-f018-458d-e2d6-e0e92cfa9b38"
      },
      "execution_count": null,
      "outputs": [
        {
          "output_type": "execute_result",
          "data": {
            "text/plain": [
              "array(['ability', 'able', 'abolutely', ..., 'zero', 'zip', 'zombocom'],\n",
              "      dtype=object)"
            ]
          },
          "metadata": {},
          "execution_count": 310
        }
      ]
    },
    {
      "cell_type": "code",
      "source": [
        "vector = vectorizer.transform([ lematize_string(preprocess(test_string)) ]).toarray()[0]\n",
        "features = vectorizer.get_feature_names_out()\n",
        "\n",
        "[ feature for value,feature in zip(vector,features) if value.any()]"
      ],
      "metadata": {
        "colab": {
          "base_uri": "https://localhost:8080/"
        },
        "id": "yWlj_wvY_P4s",
        "outputId": "c0098a8c-2ba6-44ab-fe46-b51e62df605d"
      },
      "execution_count": null,
      "outputs": [
        {
          "output_type": "execute_result",
          "data": {
            "text/plain": [
              "['and',\n",
              " 'be',\n",
              " 'card',\n",
              " 'countless',\n",
              " 'demand',\n",
              " 'gift',\n",
              " 'hour',\n",
              " 'money',\n",
              " 'more',\n",
              " 'mostly',\n",
              " 'of',\n",
              " 'scammer',\n",
              " 'the',\n",
              " 'this',\n",
              " 'unedited',\n",
              " 'version',\n",
              " 'waste']"
            ]
          },
          "metadata": {},
          "execution_count": 315
        }
      ]
    },
    {
      "cell_type": "code",
      "source": [
        "sorted(lematize_string(preprocess(test_string)).split())"
      ],
      "metadata": {
        "colab": {
          "base_uri": "https://localhost:8080/"
        },
        "id": "PbhEb-BF_-g9",
        "outputId": "e909a3a4-622b-41e2-8e27-e111400b38da"
      },
      "execution_count": null,
      "outputs": [
        {
          "output_type": "execute_result",
          "data": {
            "text/plain": [
              "['and',\n",
              " 'be',\n",
              " 'card',\n",
              " 'countless',\n",
              " 'demand',\n",
              " 'gift',\n",
              " 'hour',\n",
              " 'money',\n",
              " 'more',\n",
              " 'mostly',\n",
              " 'of',\n",
              " 'scammer',\n",
              " 'the',\n",
              " 'this',\n",
              " 'unedited',\n",
              " 'version',\n",
              " 'waste']"
            ]
          },
          "metadata": {},
          "execution_count": 319
        }
      ]
    },
    {
      "cell_type": "code",
      "source": [
        "def similaridad_count_v(string_a,string_b,vectorizer):\n",
        "\n",
        "    vector_a = vectorizer.transform([ lematize_string(preprocess(string_a)) ]).toarray()[0]\n",
        "    vector_b = vectorizer.transform([ lematize_string(preprocess(string_b)) ]).toarray()[0]\n",
        "\n",
        "    return 1-nltk.cluster.cosine_distance(vector_a,vector_b)"
      ],
      "metadata": {
        "id": "mHzOF760AEdf"
      },
      "execution_count": null,
      "outputs": []
    },
    {
      "cell_type": "code",
      "source": [
        "similaridad_count_v(steve,crow_pro,vectorizer)"
      ],
      "metadata": {
        "colab": {
          "base_uri": "https://localhost:8080/"
        },
        "id": "8m3k4qxrAo_A",
        "outputId": "9d8d4190-cf7e-4f9c-e7ae-600b9e3b0c2b"
      },
      "execution_count": null,
      "outputs": [
        {
          "output_type": "execute_result",
          "data": {
            "text/plain": [
              "0.939211905425627"
            ]
          },
          "metadata": {},
          "execution_count": 322
        }
      ]
    },
    {
      "cell_type": "code",
      "source": [
        "similaridad_count_v(two_lovers_first_kiss,crow_pro,vectorizer)"
      ],
      "metadata": {
        "colab": {
          "base_uri": "https://localhost:8080/"
        },
        "id": "8vg6oUAzBC5n",
        "outputId": "7d1fcc6d-47dc-4526-f1c3-adefeb9a725f"
      },
      "execution_count": null,
      "outputs": [
        {
          "output_type": "execute_result",
          "data": {
            "text/plain": [
              "0.8918520743356481"
            ]
          },
          "metadata": {},
          "execution_count": 323
        }
      ]
    },
    {
      "cell_type": "code",
      "source": [
        "similaridad_count_v(two_lovers_first_kiss,steve,vectorizer)"
      ],
      "metadata": {
        "colab": {
          "base_uri": "https://localhost:8080/"
        },
        "id": "ehDOSvAKBH4K",
        "outputId": "8b2d445a-4361-458a-f317-40d5be632d53"
      },
      "execution_count": null,
      "outputs": [
        {
          "output_type": "execute_result",
          "data": {
            "text/plain": [
              "0.8479207339899647"
            ]
          },
          "metadata": {},
          "execution_count": 324
        }
      ]
    },
    {
      "cell_type": "code",
      "source": [
        "similaridad_count_v(\"kit calling two scammers\",steve,vectorizer)"
      ],
      "metadata": {
        "colab": {
          "base_uri": "https://localhost:8080/"
        },
        "id": "RSmmdT49BMP-",
        "outputId": "16402482-b140-4744-b5f8-a1c3ce3d72f4"
      },
      "execution_count": null,
      "outputs": [
        {
          "output_type": "execute_result",
          "data": {
            "text/plain": [
              "0.02954520573766417"
            ]
          },
          "metadata": {},
          "execution_count": 325
        }
      ]
    },
    {
      "cell_type": "code",
      "source": [
        "similaridad_count_v(\"kit calling two scammers\",two_lovers_first_kiss,vectorizer)"
      ],
      "metadata": {
        "colab": {
          "base_uri": "https://localhost:8080/"
        },
        "id": "FMg2_c1jBS0d",
        "outputId": "300269f7-c659-4dab-d188-0a1835c1f0b1"
      },
      "execution_count": null,
      "outputs": [
        {
          "output_type": "execute_result",
          "data": {
            "text/plain": [
              "0.0"
            ]
          },
          "metadata": {},
          "execution_count": 327
        }
      ]
    },
    {
      "cell_type": "code",
      "source": [
        "similaridad_count_v(\"kit calling two scammers\",crow_pro,vectorizer)"
      ],
      "metadata": {
        "colab": {
          "base_uri": "https://localhost:8080/"
        },
        "id": "qyoKQrgCBVP8",
        "outputId": "5224be92-a518-43e9-9036-9affaac25d5c"
      },
      "execution_count": null,
      "outputs": [
        {
          "output_type": "execute_result",
          "data": {
            "text/plain": [
              "0.036316745190080435"
            ]
          },
          "metadata": {},
          "execution_count": 328
        }
      ]
    },
    {
      "cell_type": "markdown",
      "source": [
        "Aca se puede ver como internamente se representa como una estructura especial de matriz dispersa. Si bien eso mejora el uso de memoria, no nos salva de tener que saber todos los tokens de antemano. Que el token 25 sea \"perro\" en todos los vectores (dispersos o no), solo se puede conseguir sabiendo que \"perro\" aparece en algun documento."
      ],
      "metadata": {
        "id": "KgkfbIjamnvd"
      }
    },
    {
      "cell_type": "code",
      "source": [
        "matrix = (vectorizer.transform([ lematize_string(preprocess(test_string_2)) ]))\n",
        "print(matrix)"
      ],
      "metadata": {
        "colab": {
          "base_uri": "https://localhost:8080/"
        },
        "id": "UHZ8ZMz_Bcz4",
        "outputId": "c05d223d-500a-4b6c-b9b2-b9a91e3a301f"
      },
      "execution_count": null,
      "outputs": [
        {
          "output_type": "stream",
          "name": "stdout",
          "text": [
            "  (0, 51)\t4\n",
            "  (0, 124)\t2\n",
            "  (0, 129)\t1\n",
            "  (0, 171)\t1\n",
            "  (0, 177)\t1\n",
            "  (0, 198)\t1\n",
            "  (0, 214)\t1\n",
            "  (0, 233)\t1\n",
            "  (0, 276)\t1\n",
            "  (0, 313)\t1\n",
            "  (0, 321)\t1\n",
            "  (0, 357)\t1\n",
            "  (0, 365)\t1\n",
            "  (0, 436)\t1\n",
            "  (0, 468)\t1\n",
            "  (0, 483)\t1\n",
            "  (0, 486)\t1\n",
            "  (0, 505)\t1\n",
            "  (0, 508)\t1\n",
            "  (0, 548)\t1\n",
            "  (0, 594)\t1\n",
            "  (0, 804)\t1\n",
            "  (0, 809)\t1\n",
            "  (0, 812)\t1\n",
            "  (0, 863)\t2\n",
            "  (0, 877)\t1\n",
            "  (0, 891)\t1\n",
            "  (0, 976)\t1\n",
            "  (0, 1010)\t1\n",
            "  (0, 1093)\t1\n",
            "  (0, 1095)\t1\n",
            "  (0, 1115)\t1\n",
            "  (0, 1125)\t1\n",
            "  (0, 1223)\t1\n",
            "  (0, 1234)\t2\n",
            "  (0, 1312)\t1\n",
            "  (0, 1313)\t2\n",
            "  (0, 1317)\t1\n",
            "  (0, 1320)\t1\n",
            "  (0, 1322)\t3\n",
            "  (0, 1325)\t1\n",
            "  (0, 1326)\t1\n",
            "  (0, 1360)\t1\n",
            "  (0, 1388)\t1\n",
            "  (0, 1407)\t1\n",
            "  (0, 1415)\t1\n",
            "  (0, 1433)\t1\n",
            "  (0, 1453)\t1\n",
            "  (0, 1513)\t1\n",
            "  (0, 1515)\t1\n"
          ]
        }
      ]
    },
    {
      "cell_type": "code",
      "source": [
        "matrix.toarray()[0]"
      ],
      "metadata": {
        "colab": {
          "base_uri": "https://localhost:8080/"
        },
        "id": "-JGSULCGChdx",
        "outputId": "9eb2d829-5481-41f5-f46c-2b7a82c98265"
      },
      "execution_count": null,
      "outputs": [
        {
          "output_type": "execute_result",
          "data": {
            "text/plain": [
              "array([0, 0, 0, ..., 0, 0, 0])"
            ]
          },
          "metadata": {},
          "execution_count": 337
        }
      ]
    },
    {
      "cell_type": "code",
      "source": [
        "sum(matrix.toarray()[0])"
      ],
      "metadata": {
        "colab": {
          "base_uri": "https://localhost:8080/"
        },
        "id": "URtJAc0MBooH",
        "outputId": "1ce63514-d453-4217-f91c-751c860daca8"
      },
      "execution_count": null,
      "outputs": [
        {
          "output_type": "execute_result",
          "data": {
            "text/plain": [
              "59"
            ]
          },
          "metadata": {},
          "execution_count": 338
        }
      ]
    },
    {
      "cell_type": "markdown",
      "source": [
        "Podemos normalizar los vectores para ver la ingerencia de un token en todo el documento. Se espera que a mientras mas veces aparezca en el mismo documento un token, mas relevante a este va a ser. Piensenlo, tiene logica."
      ],
      "metadata": {
        "id": "6MEtNOEWnSop"
      }
    },
    {
      "cell_type": "code",
      "source": [
        "normalized_array = matrix.toarray()[0]\n",
        "\n",
        "normalized_array = normalized_array / sum(normalized_array)\n",
        "\n",
        "normalized_array[51]"
      ],
      "metadata": {
        "colab": {
          "base_uri": "https://localhost:8080/"
        },
        "id": "ThiqT5ymC69O",
        "outputId": "d25aa369-929d-4b84-da64-683c52c2fe5c"
      },
      "execution_count": null,
      "outputs": [
        {
          "output_type": "execute_result",
          "data": {
            "text/plain": [
              "0.06779661016949153"
            ]
          },
          "metadata": {},
          "execution_count": 341
        }
      ]
    },
    {
      "cell_type": "code",
      "source": [
        "normalized_array[129]"
      ],
      "metadata": {
        "colab": {
          "base_uri": "https://localhost:8080/"
        },
        "id": "aPZcmo9vDIkp",
        "outputId": "6b2b8414-1794-4ebe-c9a5-0f50de7ac3a0"
      },
      "execution_count": null,
      "outputs": [
        {
          "output_type": "execute_result",
          "data": {
            "text/plain": [
              "0.01694915254237288"
            ]
          },
          "metadata": {},
          "execution_count": 342
        }
      ]
    },
    {
      "cell_type": "markdown",
      "source": [
        "Eso a nivel documento. Ahora, si pensamos a nivel corpus (coleccion de documentos) y dentro del contexto de recuperacion de datos, es tambien relevante en que documentos aparece cada token.\n",
        "\n",
        "Si estoy buscando informacion sobre Hawaii, esperaria que el documento diga Hawaii en algun lado. El problema es que si todos los documentos dicen Hawaii, la verdad que no me sirve de mucho.\n",
        "\n",
        "Entonces, lo que nos va a interesar es la inversa de esa metrica (mas un logaritmo por cuestiones), tanto para ponderar el token como para saber si tengo que mantenerlo o no."
      ],
      "metadata": {
        "id": "zkk-atCIn1J8"
      }
    },
    {
      "cell_type": "code",
      "source": [
        "dfs = dictionary.dfs\n",
        "dfs"
      ],
      "metadata": {
        "colab": {
          "base_uri": "https://localhost:8080/"
        },
        "id": "JCf7yMzdD-Vq",
        "outputId": "02747221-6a03-4c2f-daf3-ca14746847f5"
      },
      "execution_count": null,
      "outputs": [
        {
          "output_type": "execute_result",
          "data": {
            "text/plain": [
              "{13: 5,\n",
              " 1: 5,\n",
              " 12: 5,\n",
              " 9: 2,\n",
              " 14: 2,\n",
              " 15: 2,\n",
              " 10: 5,\n",
              " 11: 4,\n",
              " 16: 4,\n",
              " 3: 2,\n",
              " 6: 5,\n",
              " 4: 3,\n",
              " 8: 5,\n",
              " 7: 4,\n",
              " 0: 5,\n",
              " 5: 4,\n",
              " 2: 4,\n",
              " 50: 3,\n",
              " 46: 4,\n",
              " 47: 4,\n",
              " 30: 4,\n",
              " 22: 3,\n",
              " 45: 4,\n",
              " 36: 4,\n",
              " 17: 4,\n",
              " 34: 4,\n",
              " 20: 4,\n",
              " 43: 4,\n",
              " 24: 3,\n",
              " 42: 4,\n",
              " 41: 4,\n",
              " 44: 4,\n",
              " 35: 2,\n",
              " 19: 2,\n",
              " 32: 1,\n",
              " 37: 3,\n",
              " 18: 3,\n",
              " 40: 4,\n",
              " 21: 4,\n",
              " 33: 4,\n",
              " 49: 3,\n",
              " 25: 1,\n",
              " 23: 4,\n",
              " 28: 3,\n",
              " 48: 2,\n",
              " 39: 1,\n",
              " 38: 1,\n",
              " 27: 4,\n",
              " 51: 4,\n",
              " 52: 4,\n",
              " 26: 3,\n",
              " 29: 2,\n",
              " 31: 1,\n",
              " 471: 3,\n",
              " 222: 3,\n",
              " 761: 3,\n",
              " 505: 3,\n",
              " 225: 3,\n",
              " 701: 3,\n",
              " 476: 3,\n",
              " 718: 3,\n",
              " 357: 3,\n",
              " 612: 3,\n",
              " 488: 3,\n",
              " 472: 3,\n",
              " 688: 1,\n",
              " 485: 3,\n",
              " 90: 1,\n",
              " 754: 3,\n",
              " 141: 2,\n",
              " 511: 3,\n",
              " 710: 3,\n",
              " 815: 2,\n",
              " 489: 3,\n",
              " 77: 1,\n",
              " 322: 3,\n",
              " 647: 3,\n",
              " 558: 3,\n",
              " 257: 1,\n",
              " 366: 1,\n",
              " 398: 1,\n",
              " 261: 2,\n",
              " 381: 3,\n",
              " 73: 3,\n",
              " 93: 3,\n",
              " 193: 2,\n",
              " 459: 2,\n",
              " 461: 2,\n",
              " 263: 1,\n",
              " 580: 1,\n",
              " 82: 1,\n",
              " 251: 2,\n",
              " 795: 1,\n",
              " 248: 2,\n",
              " 684: 3,\n",
              " 543: 3,\n",
              " 190: 2,\n",
              " 803: 2,\n",
              " 535: 2,\n",
              " 741: 1,\n",
              " 245: 3,\n",
              " 362: 3,\n",
              " 256: 2,\n",
              " 220: 1,\n",
              " 374: 3,\n",
              " 491: 3,\n",
              " 406: 3,\n",
              " 738: 1,\n",
              " 593: 1,\n",
              " 774: 3,\n",
              " 551: 1,\n",
              " 176: 2,\n",
              " 448: 1,\n",
              " 493: 1,\n",
              " 299: 2,\n",
              " 102: 3,\n",
              " 649: 3,\n",
              " 569: 1,\n",
              " 414: 2,\n",
              " 178: 3,\n",
              " 556: 2,\n",
              " 726: 2,\n",
              " 108: 2,\n",
              " 60: 2,\n",
              " 480: 3,\n",
              " 750: 3,\n",
              " 509: 2,\n",
              " 624: 1,\n",
              " 97: 3,\n",
              " 499: 2,\n",
              " 526: 2,\n",
              " 223: 2,\n",
              " 736: 2,\n",
              " 646: 3,\n",
              " 766: 3,\n",
              " 497: 3,\n",
              " 389: 3,\n",
              " 650: 3,\n",
              " 268: 3,\n",
              " 404: 3,\n",
              " 420: 2,\n",
              " 155: 1,\n",
              " 584: 2,\n",
              " 581: 3,\n",
              " 605: 3,\n",
              " 301: 3,\n",
              " 72: 2,\n",
              " 737: 2,\n",
              " 474: 3,\n",
              " 784: 3,\n",
              " 740: 3,\n",
              " 442: 3,\n",
              " 85: 3,\n",
              " 533: 2,\n",
              " 364: 3,\n",
              " 802: 2,\n",
              " 55: 3,\n",
              " 589: 2,\n",
              " 549: 1,\n",
              " 570: 1,\n",
              " 56: 1,\n",
              " 771: 3,\n",
              " 359: 3,\n",
              " 692: 3,\n",
              " 211: 2,\n",
              " 450: 3,\n",
              " 419: 3,\n",
              " 378: 2,\n",
              " 114: 3,\n",
              " 207: 2,\n",
              " 792: 3,\n",
              " 567: 1,\n",
              " 776: 3,\n",
              " 280: 2,\n",
              " 496: 3,\n",
              " 306: 1,\n",
              " 770: 3,\n",
              " 413: 3,\n",
              " 677: 3,\n",
              " 88: 3,\n",
              " 814: 3,\n",
              " 806: 2,\n",
              " 805: 3,\n",
              " 104: 3,\n",
              " 698: 3,\n",
              " 61: 2,\n",
              " 585: 3,\n",
              " 769: 3,\n",
              " 314: 3,\n",
              " 756: 3,\n",
              " 680: 1,\n",
              " 324: 3,\n",
              " 731: 3,\n",
              " 415: 1,\n",
              " 794: 2,\n",
              " 195: 1,\n",
              " 670: 3,\n",
              " 752: 1,\n",
              " 522: 1,\n",
              " 742: 3,\n",
              " 143: 3,\n",
              " 744: 3,\n",
              " 66: 2,\n",
              " 402: 3,\n",
              " 617: 2,\n",
              " 799: 1,\n",
              " 498: 3,\n",
              " 424: 3,\n",
              " 798: 3,\n",
              " 150: 1,\n",
              " 501: 3,\n",
              " 723: 1,\n",
              " 507: 3,\n",
              " 202: 1,\n",
              " 113: 1,\n",
              " 653: 3,\n",
              " 264: 1,\n",
              " 352: 3,\n",
              " 702: 3,\n",
              " 703: 2,\n",
              " 382: 3,\n",
              " 576: 3,\n",
              " 809: 1,\n",
              " 227: 3,\n",
              " 99: 2,\n",
              " 106: 2,\n",
              " 818: 3,\n",
              " 139: 3,\n",
              " 64: 1,\n",
              " 748: 3,\n",
              " 78: 3,\n",
              " 561: 1,\n",
              " 588: 2,\n",
              " 187: 3,\n",
              " 252: 2,\n",
              " 519: 2,\n",
              " 317: 2,\n",
              " 200: 1,\n",
              " 578: 1,\n",
              " 435: 3,\n",
              " 259: 2,\n",
              " 369: 3,\n",
              " 765: 3,\n",
              " 755: 1,\n",
              " 775: 1,\n",
              " 559: 1,\n",
              " 418: 3,\n",
              " 725: 2,\n",
              " 342: 1,\n",
              " 777: 2,\n",
              " 495: 2,\n",
              " 337: 1,\n",
              " 615: 2,\n",
              " 119: 3,\n",
              " 237: 1,\n",
              " 353: 1,\n",
              " 430: 3,\n",
              " 697: 3,\n",
              " 676: 3,\n",
              " 521: 3,\n",
              " 699: 3,\n",
              " 727: 1,\n",
              " 170: 1,\n",
              " 356: 2,\n",
              " 773: 3,\n",
              " 262: 1,\n",
              " 642: 1,\n",
              " 573: 2,\n",
              " 238: 1,\n",
              " 575: 2,\n",
              " 236: 3,\n",
              " 132: 1,\n",
              " 410: 3,\n",
              " 441: 1,\n",
              " 778: 1,\n",
              " 122: 2,\n",
              " 320: 1,\n",
              " 619: 3,\n",
              " 275: 2,\n",
              " 443: 3,\n",
              " 696: 2,\n",
              " 247: 1,\n",
              " 343: 1,\n",
              " 388: 1,\n",
              " 276: 2,\n",
              " 467: 3,\n",
              " 416: 2,\n",
              " 321: 3,\n",
              " 811: 2,\n",
              " 455: 2,\n",
              " 273: 1,\n",
              " 286: 1,\n",
              " 607: 2,\n",
              " 714: 3,\n",
              " 546: 2,\n",
              " 121: 2,\n",
              " 582: 2,\n",
              " 293: 3,\n",
              " 383: 1,\n",
              " 791: 2,\n",
              " 212: 3,\n",
              " 177: 1,\n",
              " 235: 2,\n",
              " 490: 2,\n",
              " 68: 3,\n",
              " 826: 1,\n",
              " 169: 2,\n",
              " 825: 2,\n",
              " 425: 2,\n",
              " 302: 3,\n",
              " 287: 1,\n",
              " 707: 2,\n",
              " 685: 3,\n",
              " 458: 1,\n",
              " 447: 1,\n",
              " 344: 3,\n",
              " 336: 2,\n",
              " 525: 1,\n",
              " 518: 1,\n",
              " 681: 2,\n",
              " 101: 2,\n",
              " 376: 1,\n",
              " 331: 2,\n",
              " 746: 1,\n",
              " 788: 2,\n",
              " 711: 2,\n",
              " 816: 1,\n",
              " 822: 1,\n",
              " 431: 3,\n",
              " 332: 2,\n",
              " 732: 3,\n",
              " 524: 1,\n",
              " 294: 3,\n",
              " 817: 1,\n",
              " 379: 1,\n",
              " 175: 3,\n",
              " 457: 2,\n",
              " 83: 2,\n",
              " 210: 1,\n",
              " 266: 1,\n",
              " 318: 3,\n",
              " 204: 2,\n",
              " 347: 1,\n",
              " 303: 2,\n",
              " 115: 2,\n",
              " 668: 2,\n",
              " 246: 2,\n",
              " 253: 1,\n",
              " 487: 1,\n",
              " 409: 3,\n",
              " 327: 3,\n",
              " 131: 3,\n",
              " 277: 3,\n",
              " 392: 2,\n",
              " 667: 1,\n",
              " 346: 2,\n",
              " 541: 1,\n",
              " 595: 2,\n",
              " 598: 2,\n",
              " 436: 1,\n",
              " 464: 2,\n",
              " 463: 1,\n",
              " 250: 3,\n",
              " 705: 3,\n",
              " 623: 2,\n",
              " 58: 3,\n",
              " 350: 1,\n",
              " 394: 2,\n",
              " 655: 2,\n",
              " 786: 3,\n",
              " 781: 3,\n",
              " 330: 3,\n",
              " 205: 1,\n",
              " 514: 2,\n",
              " 571: 1,\n",
              " 185: 2,\n",
              " 288: 2,\n",
              " 354: 2,\n",
              " 452: 2,\n",
              " 734: 1,\n",
              " 111: 1,\n",
              " 438: 1,\n",
              " 454: 1,\n",
              " 311: 2,\n",
              " 793: 1,\n",
              " 500: 3,\n",
              " 537: 1,\n",
              " 249: 1,\n",
              " 600: 1,\n",
              " 434: 1,\n",
              " 81: 3,\n",
              " 91: 2,\n",
              " 719: 2,\n",
              " 151: 2,\n",
              " 432: 2,\n",
              " 626: 1,\n",
              " 662: 2,\n",
              " 76: 2,\n",
              " 631: 3,\n",
              " 635: 2,\n",
              " 100: 2,\n",
              " 323: 2,\n",
              " 577: 1,\n",
              " 272: 1,\n",
              " 820: 3,\n",
              " 440: 3,\n",
              " 349: 3,\n",
              " 555: 1,\n",
              " 399: 1,\n",
              " 547: 3,\n",
              " 229: 1,\n",
              " 665: 2,\n",
              " 478: 1,\n",
              " 658: 2,\n",
              " 339: 2,\n",
              " 557: 1,\n",
              " 648: 3,\n",
              " 94: 2,\n",
              " 821: 2,\n",
              " 760: 1,\n",
              " 444: 1,\n",
              " 243: 1,\n",
              " 445: 2,\n",
              " 759: 2,\n",
              " 768: 1,\n",
              " 191: 2,\n",
              " 57: 1,\n",
              " 819: 2,\n",
              " 334: 2,\n",
              " 147: 3,\n",
              " 351: 3,\n",
              " 693: 1,\n",
              " 412: 1,\n",
              " 606: 2,\n",
              " 215: 1,\n",
              " 345: 1,\n",
              " 103: 1,\n",
              " 269: 1,\n",
              " 380: 1,\n",
              " 632: 1,\n",
              " 340: 1,\n",
              " 387: 1,\n",
              " 403: 3,\n",
              " 506: 1,\n",
              " 678: 1,\n",
              " 386: 2,\n",
              " 609: 1,\n",
              " 133: 2,\n",
              " 717: 1,\n",
              " 437: 2,\n",
              " 140: 1,\n",
              " 361: 2,\n",
              " 475: 1,\n",
              " 552: 1,\n",
              " 494: 2,\n",
              " 749: 1,\n",
              " 199: 2,\n",
              " 300: 2,\n",
              " 763: 1,\n",
              " 304: 3,\n",
              " 824: 1,\n",
              " 213: 3,\n",
              " 479: 1,\n",
              " 384: 3,\n",
              " 335: 3,\n",
              " 171: 1,\n",
              " 192: 1,\n",
              " 279: 1,\n",
              " 129: 2,\n",
              " 663: 1,\n",
              " 640: 2,\n",
              " 123: 3,\n",
              " 730: 2,\n",
              " 258: 1,\n",
              " 308: 2,\n",
              " 255: 1,\n",
              " 704: 2,\n",
              " 226: 2,\n",
              " 724: 1,\n",
              " 529: 1,\n",
              " 142: 3,\n",
              " 687: 1,\n",
              " 230: 2,\n",
              " 377: 1,\n",
              " 109: 1,\n",
              " 656: 1,\n",
              " 739: 3,\n",
              " 449: 2,\n",
              " 762: 3,\n",
              " 691: 1,\n",
              " 637: 1,\n",
              " 112: 2,\n",
              " 641: 1,\n",
              " 611: 2,\n",
              " 134: 2,\n",
              " 783: 1,\n",
              " 502: 1,\n",
              " 800: 2,\n",
              " 712: 2,\n",
              " 789: 2,\n",
              " 400: 3,\n",
              " 74: 1,\n",
              " 209: 2,\n",
              " 513: 1,\n",
              " 367: 1,\n",
              " 643: 1,\n",
              " 562: 1,\n",
              " 594: 1,\n",
              " 224: 1,\n",
              " 660: 2,\n",
              " 508: 1,\n",
              " 587: 1,\n",
              " 429: 1,\n",
              " 796: 2,\n",
              " 95: 1,\n",
              " 596: 1,\n",
              " 633: 3,\n",
              " 713: 3,\n",
              " 539: 2,\n",
              " 446: 2,\n",
              " 161: 2,\n",
              " 296: 1,\n",
              " 523: 2,\n",
              " 813: 1,\n",
              " 654: 2,\n",
              " 779: 1,\n",
              " 329: 1,\n",
              " 358: 2,\n",
              " 652: 1,\n",
              " 456: 1,\n",
              " 465: 3,\n",
              " 466: 1,\n",
              " 534: 1,\n",
              " 158: 1,\n",
              " 644: 1,\n",
              " 107: 1,\n",
              " 313: 3,\n",
              " 310: 2,\n",
              " 315: 1,\n",
              " 168: 1,\n",
              " 172: 1,\n",
              " 550: 1,\n",
              " 528: 1,\n",
              " 728: 2,\n",
              " 126: 1,\n",
              " 583: 3,\n",
              " 282: 1,\n",
              " 385: 2,\n",
              " 645: 1,\n",
              " 144: 2,\n",
              " 622: 2,\n",
              " 307: 2,\n",
              " 482: 2,\n",
              " 217: 1,\n",
              " 152: 2,\n",
              " 341: 3,\n",
              " 84: 2,\n",
              " 532: 3,\n",
              " 745: 2,\n",
              " 289: 2,\n",
              " 208: 1,\n",
              " 370: 1,\n",
              " 371: 1,\n",
              " 189: 1,\n",
              " 96: 2,\n",
              " 790: 1,\n",
              " 568: 1,\n",
              " 63: 3,\n",
              " 536: 2,\n",
              " 89: 2,\n",
              " 787: 1,\n",
              " 540: 1,\n",
              " 564: 2,\n",
              " 278: 2,\n",
              " 636: 2,\n",
              " 527: 2,\n",
              " 433: 1,\n",
              " 767: 2,\n",
              " 110: 1,\n",
              " 428: 2,\n",
              " 297: 1,\n",
              " 548: 1,\n",
              " 138: 3,\n",
              " 79: 1,\n",
              " 274: 3,\n",
              " 54: 3,\n",
              " 267: 1,\n",
              " 180: 1,\n",
              " 118: 2,\n",
              " 396: 1,\n",
              " 159: 1,\n",
              " 124: 1,\n",
              " 395: 1,\n",
              " 125: 1,\n",
              " 221: 1,\n",
              " 689: 1,\n",
              " 127: 2,\n",
              " 613: 1,\n",
              " 166: 1,\n",
              " 757: 2,\n",
              " 295: 3,\n",
              " 542: 1,\n",
              " 483: 1,\n",
              " 625: 1,\n",
              " 165: 1,\n",
              " 733: 1,\n",
              " 672: 1,\n",
              " 405: 1,\n",
              " 674: 1,\n",
              " 146: 1,\n",
              " 198: 1,\n",
              " 423: 1,\n",
              " 154: 1,\n",
              " 183: 1,\n",
              " 197: 1,\n",
              " 283: 1,\n",
              " 228: 2,\n",
              " 240: 2,\n",
              " 181: 2,\n",
              " 823: 3,\n",
              " 597: 1,\n",
              " 608: 2,\n",
              " 453: 1,\n",
              " 179: 1,\n",
              " 241: 3,\n",
              " 196: 1,\n",
              " 772: 3,\n",
              " 481: 2,\n",
              " 517: 1,\n",
              " 630: 1,\n",
              " 686: 1,\n",
              " 328: 1,\n",
              " 782: 3,\n",
              " 618: 1,\n",
              " 743: 1,\n",
              " 810: 1,\n",
              " 669: 1,\n",
              " 592: 1,\n",
              " 80: 1,\n",
              " 194: 2,\n",
              " 694: 2,\n",
              " 721: 1,\n",
              " 510: 2,\n",
              " 516: 1,\n",
              " 417: 1,\n",
              " 634: 2,\n",
              " 439: 2,\n",
              " 462: 2,\n",
              " 70: 1,\n",
              " 629: 3,\n",
              " 421: 2,\n",
              " 292: 2,\n",
              " 373: 2,\n",
              " 764: 1,\n",
              " 232: 2,\n",
              " 530: 3,\n",
              " 231: 1,\n",
              " 363: 1,\n",
              " 290: 1,\n",
              " 62: 1,\n",
              " 679: 1,\n",
              " 408: 1,\n",
              " 397: 2,\n",
              " 137: 2,\n",
              " 683: 1,\n",
              " 661: 2,\n",
              " 574: 2,\n",
              " 305: 2,\n",
              " 128: 1,\n",
              " 390: 2,\n",
              " 98: 1,\n",
              " 391: 3,\n",
              " 512: 1,\n",
              " 368: 1,\n",
              " 372: 2,\n",
              " 614: 1,\n",
              " 565: 1,\n",
              " 216: 1,\n",
              " 164: 3,\n",
              " 242: 1,\n",
              " 620: 2,\n",
              " 401: 1,\n",
              " 316: 2,\n",
              " 590: 2,\n",
              " 426: 2,\n",
              " 162: 1,\n",
              " 572: 1,\n",
              " 218: 2,\n",
              " 638: 2,\n",
              " 729: 3,\n",
              " 553: 1,\n",
              " 120: 1,\n",
              " 812: 2,\n",
              " 71: 1,\n",
              " 747: 2,\n",
              " 67: 1,\n",
              " 182: 1,\n",
              " 239: 2,\n",
              " 780: 3,\n",
              " 579: 1,\n",
              " 673: 1,\n",
              " 157: 2,\n",
              " 807: 2,\n",
              " 174: 1,\n",
              " 486: 2,\n",
              " 244: 1,\n",
              " 149: 2,\n",
              " 664: 3,\n",
              " 270: 2,\n",
              " 603: 1,\n",
              " 515: 1,\n",
              " 671: 1,\n",
              " 233: 2,\n",
              " 234: 1,\n",
              " 566: 1,\n",
              " 520: 1,\n",
              " 117: 3,\n",
              " 616: 1,\n",
              " 599: 1,\n",
              " 375: 2,\n",
              " 604: 1,\n",
              " 53: 1,\n",
              " 298: 1,\n",
              " 105: 1,\n",
              " 715: 1,\n",
              " 720: 2,\n",
              " 531: 2,\n",
              " 427: 1,\n",
              " 797: 3,\n",
              " 206: 1,\n",
              " 153: 2,\n",
              " 492: 2,\n",
              " 751: 1,\n",
              " 666: 2,\n",
              " 695: 2,\n",
              " 657: 1,\n",
              " 468: 1,\n",
              " 186: 2,\n",
              " 214: 2,\n",
              " 610: 3,\n",
              " 601: 1,\n",
              " 319: 1,\n",
              " 130: 2,\n",
              " 804: 1,\n",
              " 163: 1,\n",
              " 254: 1,\n",
              " 651: 3,\n",
              " 75: 3,\n",
              " 621: 1,\n",
              " 355: 3,\n",
              " 86: 2,\n",
              " 627: 1,\n",
              " 338: 1,\n",
              " 700: 1,\n",
              " 160: 1,\n",
              " 639: 2,\n",
              " 281: 1,\n",
              " 348: 2,\n",
              " 69: 2,\n",
              " 333: 1,\n",
              " 460: 1,\n",
              " 473: 2,\n",
              " 709: 1,\n",
              " 201: 1,\n",
              " 586: 3,\n",
              " 469: 2,\n",
              " 451: 2,\n",
              " 167: 1,\n",
              " 203: 3,\n",
              " 135: 1,\n",
              " 87: 2,\n",
              " 544: 2,\n",
              " 116: 1,\n",
              " 538: 3,\n",
              " 148: 2,\n",
              " 325: 3,\n",
              " 682: 1,\n",
              " 145: 3,\n",
              " 188: 3,\n",
              " 312: 1,\n",
              " 808: 2,\n",
              " 716: 1,\n",
              " 65: 2,\n",
              " 411: 2,\n",
              " 156: 1,\n",
              " 136: 1,\n",
              " 708: 1,\n",
              " 470: 1,\n",
              " 554: 1,\n",
              " 309: 1,\n",
              " 785: 2,\n",
              " 219: 1,\n",
              " 628: 1,\n",
              " 659: 1,\n",
              " 360: 3,\n",
              " 477: 1,\n",
              " 484: 1,\n",
              " 365: 1,\n",
              " 545: 2,\n",
              " 271: 1,\n",
              " 722: 1,\n",
              " 184: 2,\n",
              " 173: 1,\n",
              " 706: 1,\n",
              " 291: 2,\n",
              " 801: 1,\n",
              " 690: 1,\n",
              " 563: 1,\n",
              " 591: 1,\n",
              " 827: 1,\n",
              " 675: 1,\n",
              " 560: 2,\n",
              " 285: 1,\n",
              " 503: 2,\n",
              " 59: 1,\n",
              " 407: 1,\n",
              " 284: 2,\n",
              " 265: 2,\n",
              " 758: 1,\n",
              " 326: 1,\n",
              " 602: 1,\n",
              " 735: 1,\n",
              " 504: 1,\n",
              " 393: 1,\n",
              " 260: 1,\n",
              " 422: 3,\n",
              " 753: 1,\n",
              " 92: 2,\n",
              " 1011: 1,\n",
              " 992: 1,\n",
              " 1041: 1,\n",
              " 1029: 2,\n",
              " 836: 2,\n",
              " 907: 2,\n",
              " 881: 2,\n",
              " 1051: 2,\n",
              " 910: 1,\n",
              " 988: 2,\n",
              " 974: 1,\n",
              " 962: 1,\n",
              " 994: 2,\n",
              " 1005: 1,\n",
              " 1004: 1,\n",
              " 1006: 1,\n",
              " 971: 1,\n",
              " 951: 1,\n",
              " 1038: 1,\n",
              " 891: 1,\n",
              " 1057: 1,\n",
              " 854: 1,\n",
              " 839: 2,\n",
              " 859: 2,\n",
              " 911: 1,\n",
              " 1022: 2,\n",
              " 860: 1,\n",
              " 1014: 2,\n",
              " 993: 2,\n",
              " 1039: 1,\n",
              " 1030: 1,\n",
              " 1031: 1,\n",
              " 838: 1,\n",
              " 969: 2,\n",
              " 968: 1,\n",
              " 852: 2,\n",
              " 872: 1,\n",
              " 863: 1,\n",
              " 850: 2,\n",
              " 1067: 1,\n",
              " 1025: 1,\n",
              " 936: 1,\n",
              " 914: 2,\n",
              " 989: 2,\n",
              " 1033: 1,\n",
              " 894: 2,\n",
              " 889: 2,\n",
              " 979: 2,\n",
              " 875: 1,\n",
              " 849: 1,\n",
              " 837: 1,\n",
              " 887: 2,\n",
              " 937: 2,\n",
              " 1024: 1,\n",
              " 1054: 1,\n",
              " 1047: 1,\n",
              " 998: 1,\n",
              " 928: 2,\n",
              " 975: 1,\n",
              " 973: 1,\n",
              " 830: 1,\n",
              " 949: 1,\n",
              " 981: 1,\n",
              " 871: 1,\n",
              " 985: 1,\n",
              " 1052: 1,\n",
              " 865: 1,\n",
              " 841: 1,\n",
              " 946: 2,\n",
              " 982: 1,\n",
              " 955: 1,\n",
              " 972: 1,\n",
              " 932: 1,\n",
              " 866: 1,\n",
              " 995: 1,\n",
              " 983: 1,\n",
              " 843: 1,\n",
              " 1042: 2,\n",
              " 847: 1,\n",
              " 858: 1,\n",
              " 900: 1,\n",
              " 890: 1,\n",
              " 1012: 1,\n",
              " 967: 1,\n",
              " 1015: 1,\n",
              " 1002: 1,\n",
              " 1020: 1,\n",
              " 1040: 1,\n",
              " 977: 1,\n",
              " 864: 1,\n",
              " 919: 2,\n",
              " 878: 1,\n",
              " 990: 1,\n",
              " 1007: 1,\n",
              " 886: 1,\n",
              " 960: 1,\n",
              " 912: 1,\n",
              " 903: 2,\n",
              " 834: 1,\n",
              " 935: 1,\n",
              " 1064: 1,\n",
              " 882: 2,\n",
              " 939: 1,\n",
              " 1078: 1,\n",
              " 1066: 1,\n",
              " 930: 2,\n",
              " 1060: 1,\n",
              " 856: 1,\n",
              " 1070: 1,\n",
              " 905: 1,\n",
              " 1000: 1,\n",
              " 833: 1,\n",
              " 867: 1,\n",
              " 997: 2,\n",
              " 1023: 1,\n",
              " 1016: 1,\n",
              " 952: 1,\n",
              " 901: 1,\n",
              " 1061: 1,\n",
              " 1069: 2,\n",
              " 898: 1,\n",
              " 1049: 1,\n",
              " 893: 2,\n",
              " 944: 2,\n",
              " 902: 1,\n",
              " 895: 1,\n",
              " 1044: 1,\n",
              " 1018: 1,\n",
              " 961: 1,\n",
              " 1019: 2,\n",
              " 996: 1,\n",
              " 1072: 1,\n",
              " 1073: 1,\n",
              " 1056: 1,\n",
              " 917: 1,\n",
              " 957: 1,\n",
              " 1077: 2,\n",
              " 931: 2,\n",
              " 1046: 1,\n",
              " 978: 1,\n",
              " 913: 1,\n",
              " 940: 1,\n",
              " 925: 2,\n",
              " 1065: 1,\n",
              " 1021: 1,\n",
              " 934: 2,\n",
              " 1017: 2,\n",
              " 920: 1,\n",
              " 1074: 1,\n",
              " 862: 2,\n",
              " 861: 2,\n",
              " 945: 1,\n",
              " 933: 1,\n",
              " 892: 1,\n",
              " 987: 1,\n",
              " 1028: 1,\n",
              " 842: 1,\n",
              " 828: 2,\n",
              " 948: 1,\n",
              " 916: 1,\n",
              " 904: 1,\n",
              " 991: 1,\n",
              " 1045: 1,\n",
              " 876: 1,\n",
              " 1068: 1,\n",
              " 1075: 1,\n",
              " 880: 2,\n",
              " 1008: 1,\n",
              " 844: 2,\n",
              " 1001: 1,\n",
              " 963: 1,\n",
              " 855: 1,\n",
              " ...}"
            ]
          },
          "metadata": {},
          "execution_count": 354
        }
      ]
    },
    {
      "cell_type": "code",
      "source": [
        "from gensim import corpora\n",
        "\n",
        "dictionary = corpora.Dictionary([doc.split() for doc in corpus])"
      ],
      "metadata": {
        "id": "OqSGVdkEDWPq"
      },
      "execution_count": null,
      "outputs": []
    },
    {
      "cell_type": "code",
      "source": [
        "import math\n",
        "for k in dfs:\n",
        "    dfs[k] = math.log(5/dfs[k])"
      ],
      "metadata": {
        "id": "E93oLq6-ER0G"
      },
      "execution_count": null,
      "outputs": []
    },
    {
      "cell_type": "code",
      "source": [
        "math.log( 5 / 1 )"
      ],
      "metadata": {
        "colab": {
          "base_uri": "https://localhost:8080/"
        },
        "id": "nyF-TouIGjsI",
        "outputId": "06d8d432-4181-4e57-eb97-c6add5a8b747"
      },
      "execution_count": null,
      "outputs": [
        {
          "output_type": "execute_result",
          "data": {
            "text/plain": [
              "1.6094379124341003"
            ]
          },
          "metadata": {},
          "execution_count": 360
        }
      ]
    },
    {
      "cell_type": "code",
      "source": [
        "math.log( 500 / 1 )"
      ],
      "metadata": {
        "colab": {
          "base_uri": "https://localhost:8080/"
        },
        "id": "4vgOUPqBGvuJ",
        "outputId": "de844efc-0acf-4a96-f4ef-867a40a834f8"
      },
      "execution_count": null,
      "outputs": [
        {
          "output_type": "execute_result",
          "data": {
            "text/plain": [
              "6.214608098422191"
            ]
          },
          "metadata": {},
          "execution_count": 361
        }
      ]
    },
    {
      "cell_type": "code",
      "source": [
        "math.log( 500000 / 1 )"
      ],
      "metadata": {
        "colab": {
          "base_uri": "https://localhost:8080/"
        },
        "id": "IXj-Un1yHdsw",
        "outputId": "4117db64-d63a-41d2-ce31-747599bcd4cf"
      },
      "execution_count": null,
      "outputs": [
        {
          "output_type": "execute_result",
          "data": {
            "text/plain": [
              "13.122363377404328"
            ]
          },
          "metadata": {},
          "execution_count": 362
        }
      ]
    },
    {
      "cell_type": "code",
      "source": [
        "math.log( 50000000 / 1 )"
      ],
      "metadata": {
        "colab": {
          "base_uri": "https://localhost:8080/"
        },
        "id": "sNfaequbHfVn",
        "outputId": "3271d196-071d-4daa-bbe2-5a6628847ae6"
      },
      "execution_count": null,
      "outputs": [
        {
          "output_type": "execute_result",
          "data": {
            "text/plain": [
              "17.72753356339242"
            ]
          },
          "metadata": {},
          "execution_count": 363
        }
      ]
    },
    {
      "cell_type": "markdown",
      "source": [
        "Un token que no aparece nunca, tiene mucha mas importancia, por eso el idf me da mas alto. En  este caso, saber que esta ese token, me ayuda a identificarlo inequivocamente entre 5."
      ],
      "metadata": {
        "id": "ZAnOdvXrpk_N"
      }
    },
    {
      "cell_type": "code",
      "source": [
        "math.log( 5 / 5 )"
      ],
      "metadata": {
        "colab": {
          "base_uri": "https://localhost:8080/"
        },
        "id": "UKCxX-7NGrzX",
        "outputId": "1a91f9a2-a1c3-479a-8823-bc2a1772a03b"
      },
      "execution_count": null,
      "outputs": [
        {
          "output_type": "execute_result",
          "data": {
            "text/plain": [
              "0.0"
            ]
          },
          "metadata": {},
          "execution_count": 358
        }
      ]
    },
    {
      "cell_type": "markdown",
      "source": [
        "Inversamente, si aparece siempre, no me aporta nada. Y de hecho el logaritmo este me da 0. Esto es literalmente una stopword. No es unicamente una lista de palabras predefinidas, sino palabras que no aportan. Si estoy trabajando en un corpus de manuales de impresoras, la palabra \"impresora\" probablemente aparezca en todos y sea una stopword por mas que no este en una lista en ningun lado.\n",
        "\n",
        "Think Mark, think."
      ],
      "metadata": {
        "id": "uiRShYHDpkN4"
      }
    }
  ]
}