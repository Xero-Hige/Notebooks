{
  "nbformat": 4,
  "nbformat_minor": 0,
  "metadata": {
    "colab": {
      "provenance": []
    },
    "kernelspec": {
      "name": "python3",
      "display_name": "Python 3"
    },
    "language_info": {
      "name": "python"
    }
  },
  "cells": [
    {
      "cell_type": "markdown",
      "source": [
        "# Herramientas"
      ],
      "metadata": {
        "id": "uvE747xaHDjZ"
      }
    },
    {
      "cell_type": "code",
      "source": [
        "!pip install tiktoken youtube-transcript-api pytube langchain_community --quiet"
      ],
      "metadata": {
        "id": "nNJQ9iiCB7FZ"
      },
      "execution_count": null,
      "outputs": []
    },
    {
      "cell_type": "code",
      "source": [
        "import re\n",
        "import math\n",
        "import nltk\n",
        "import tiktoken\n",
        "\n",
        "from gensim import corpora\n",
        "from sklearn.feature_extraction.text import CountVectorizer\n",
        "from langchain_community.document_loaders import YoutubeLoader"
      ],
      "metadata": {
        "id": "LSPv8mnTBuHj"
      },
      "execution_count": null,
      "outputs": []
    },
    {
      "cell_type": "code",
      "source": [
        "nltk.download('punkt')\n",
        "nltk.download('wordnet')\n",
        "nltk.download('universal_tagset')\n",
        "nltk.download('averaged_perceptron_tagger')"
      ],
      "metadata": {
        "id": "0sCq5Wk3F0La"
      },
      "execution_count": null,
      "outputs": []
    },
    {
      "cell_type": "code",
      "source": [
        "test_string = \"\"\"\n",
        "This is the mostly UNEDITED version of scammers wasting countless hours demanding more money and gift cards\n",
        "\"\"\"\n",
        "\n",
        "test_string_2=\"\"\"\n",
        "This is the mostly UNEDITED version of scammers wasting countless hours demanding more money and gift cards. Whenever they think they are getting close, there's a problem, but that doesn't stop them, and the rage builds.\n",
        "\n",
        "STOP online scams before they start. Check out https://www.seraphsecure.com/kitboga and download a 14-day FREE trial of Seraph Secure for you and your family/friends. #seraphsecure\n",
        "\"\"\""
      ],
      "metadata": {
        "id": "kTwBT52xXJMI"
      },
      "execution_count": null,
      "outputs": []
    },
    {
      "cell_type": "code",
      "source": [
        "URL_REGEX = r\"(https?://)?[-a-zA-Z0-9@:%._\\+~#=]{1,256}\\.[a-zA-Z0-9()]{1,6}\\b([-a-zA-Z0-9()@:%_\\+.~#?&//=]*)\"\n",
        "HASHTAG_REGEX = r\"#([\\w\\d]+)\"\n",
        "SYMBOLS_REGEX = r\"[^a-zA-Z]+\""
      ],
      "metadata": {
        "id": "GiU9YxAjE8Ip"
      },
      "execution_count": null,
      "outputs": []
    },
    {
      "cell_type": "code",
      "source": [
        "steve = YoutubeLoader.from_youtube_url(\n",
        "    \"https://youtu.be/sRMMwpDTs5k\",\n",
        "    add_video_info=True,\n",
        "    language=[\"en\", \"id\"]\n",
        ").load()[0].page_content\n",
        "\n",
        "two_lov_fist_kiss = YoutubeLoader.from_youtube_url(\n",
        "    \"https://youtu.be/-dJWB9FoMCU\",\n",
        "    add_video_info=True,\n",
        "    language=[\"en\", \"id\"]\n",
        ").load()[0].page_content\n",
        "\n",
        "crow_pro = YoutubeLoader.from_youtube_url(\n",
        "    \"https://youtu.be/wSfDCLQhbns\",\n",
        "    add_video_info=True,\n",
        "    language=[\"en\", \"id\"]\n",
        ").load()[0].page_content"
      ],
      "metadata": {
        "id": "ESGD6AIMGwwj"
      },
      "execution_count": null,
      "outputs": []
    },
    {
      "cell_type": "code",
      "source": [
        "translate_pos = {\n",
        "    \"NOUN\":\"n\",\n",
        "    \"VERB\":\"v\",\n",
        "    \"ADJ\":\"a\",\n",
        "    \"ADV\":\"r\",\n",
        "}"
      ],
      "metadata": {
        "id": "Bna992z2skLG"
      },
      "execution_count": null,
      "outputs": []
    },
    {
      "cell_type": "code",
      "source": [],
      "metadata": {
        "id": "wNoEwvJkHTfb"
      },
      "execution_count": null,
      "outputs": []
    },
    {
      "cell_type": "markdown",
      "source": [
        "# Area de trabajo"
      ],
      "metadata": {
        "id": "5oNB9_W9HJ9Q"
      }
    },
    {
      "cell_type": "code",
      "source": [],
      "metadata": {
        "id": "Zix3YMFRb6W0"
      },
      "execution_count": null,
      "outputs": []
    }
  ]
}