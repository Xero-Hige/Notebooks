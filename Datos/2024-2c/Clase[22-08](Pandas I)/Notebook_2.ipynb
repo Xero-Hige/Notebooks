{
  "nbformat": 4,
  "nbformat_minor": 0,
  "metadata": {
    "colab": {
      "provenance": []
    },
    "kernelspec": {
      "name": "python3",
      "display_name": "Python 3"
    },
    "language_info": {
      "name": "python"
    }
  },
  "cells": [
    {
      "cell_type": "code",
      "source": [
        "!wget \"https://raw.githubusercontent.com/Xero-Hige/Notebooks/master/Datos/2024-2c/Clase%5B22-08%5D(Pandas%20I)/dataset_b.csv\" -O \"dataset.csv\""
      ],
      "metadata": {
        "id": "lR3GiFJQve_3"
      },
      "execution_count": null,
      "outputs": []
    },
    {
      "cell_type": "code",
      "execution_count": null,
      "metadata": {
        "id": "yPWfTdv3Y5tL"
      },
      "outputs": [],
      "source": [
        "import pandas as pd"
      ]
    },
    {
      "cell_type": "code",
      "source": [
        "df = pd.read_csv(\"dataset.csv\")"
      ],
      "metadata": {
        "id": "xKMC64IYqlLf"
      },
      "execution_count": null,
      "outputs": []
    },
    {
      "cell_type": "code",
      "source": [
        "df.columns"
      ],
      "metadata": {
        "id": "MKVGC4R-xhjI"
      },
      "execution_count": null,
      "outputs": []
    }
  ]
}