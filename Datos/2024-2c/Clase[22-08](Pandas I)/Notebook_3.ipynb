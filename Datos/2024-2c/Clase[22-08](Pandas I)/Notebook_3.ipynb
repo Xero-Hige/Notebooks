{
  "nbformat": 4,
  "nbformat_minor": 0,
  "metadata": {
    "colab": {
      "provenance": []
    },
    "kernelspec": {
      "name": "python3",
      "display_name": "Python 3"
    },
    "language_info": {
      "name": "python"
    }
  },
  "cells": [
    {
      "cell_type": "code",
      "execution_count": null,
      "metadata": {
        "id": "yPWfTdv3Y5tL"
      },
      "outputs": [],
      "source": [
        "import pandas as pd"
      ]
    },
    {
      "cell_type": "code",
      "source": [
        "df = pd.read_csv(\"pokemon.csv\")"
      ],
      "metadata": {
        "id": "xKMC64IYqlLf"
      },
      "execution_count": null,
      "outputs": []
    },
    {
      "cell_type": "code",
      "source": [
        "paste = \"\"\"\n",
        "003\n",
        "130\n",
        "233\n",
        "248\n",
        "324\n",
        "450\n",
        "462\n",
        "468\n",
        "530\n",
        "547\n",
        "727\n",
        "778\n",
        "812\n",
        "815\n",
        "150\n",
        "151\n",
        "251\n",
        "385\n",
        "643\n",
        "644\n",
        "646\n",
        "647\n",
        "789\n",
        "790\n",
        "791\n",
        "792\n",
        "800\n",
        "801\n",
        "802\n",
        "807\n",
        "808\n",
        "809\n",
        "888\n",
        "889\n",
        "\"\"\""
      ],
      "metadata": {
        "id": "VgnaOy_8qn-l"
      },
      "execution_count": null,
      "outputs": []
    },
    {
      "cell_type": "code",
      "source": [
        "banned = set([\n",
        "                int(x.strip())\n",
        "                    for x in a.split(\"\\n\")\n",
        "                        if x])"
      ],
      "metadata": {
        "id": "as0c4dh9qyFX"
      },
      "execution_count": null,
      "outputs": []
    },
    {
      "cell_type": "code",
      "source": [
        "df[\"is_banned\"] = df.pokedex_number.map(lambda x: x in banned)"
      ],
      "metadata": {
        "id": "kNDvv2tgq3hY"
      },
      "execution_count": null,
      "outputs": []
    }
  ]
}