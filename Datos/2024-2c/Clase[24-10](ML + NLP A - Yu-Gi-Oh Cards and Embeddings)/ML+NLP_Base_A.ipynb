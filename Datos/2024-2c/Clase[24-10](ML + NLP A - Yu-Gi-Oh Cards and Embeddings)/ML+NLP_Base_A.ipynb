{
  "nbformat": 4,
  "nbformat_minor": 0,
  "metadata": {
    "colab": {
      "provenance": []
    },
    "kernelspec": {
      "name": "python3",
      "display_name": "Python 3"
    },
    "language_info": {
      "name": "python"
    }
  },
  "cells": [
    {
      "cell_type": "code",
      "execution_count": null,
      "metadata": {
        "id": "r6wy9z-1EGk1"
      },
      "outputs": [],
      "source": [
        "!wget https://github.com/Pietracoops/yugioh_cardlist_scraper/releases/download/V1.0.3/yugioh_database_csv.zip"
      ]
    },
    {
      "cell_type": "code",
      "source": [
        "!unzip /content/yugioh_database_csv.zip"
      ],
      "metadata": {
        "id": "xKcYa8kAF77w"
      },
      "execution_count": null,
      "outputs": []
    },
    {
      "cell_type": "code",
      "source": [
        "import os\n",
        "import pandas as pd"
      ],
      "metadata": {
        "id": "p49VIRGcKyIR"
      },
      "execution_count": null,
      "outputs": []
    },
    {
      "cell_type": "code",
      "source": [
        "data = []\n",
        "\n",
        "for x in os.listdir():\n",
        "    if not x.endswith(\".csv\"):\n",
        "        continue\n",
        "    print(x)\n",
        "    df = pd.read_csv(x,sep=\"$\")\n",
        "    data.append(df)"
      ],
      "metadata": {
        "id": "XWQNdqLyK87V"
      },
      "execution_count": null,
      "outputs": []
    },
    {
      "cell_type": "code",
      "source": [
        "dataset = pd.concat(data)"
      ],
      "metadata": {
        "id": "mNqbumpsNerR"
      },
      "execution_count": null,
      "outputs": []
    },
    {
      "cell_type": "code",
      "source": [
        "dataset"
      ],
      "metadata": {
        "id": "ERn3R9eCNlcf"
      },
      "execution_count": null,
      "outputs": []
    },
    {
      "cell_type": "code",
      "source": [
        "!head \"EXTREME VICTORY Sneak Peek.csv\""
      ],
      "metadata": {
        "id": "uKIhWLo-K-Kf"
      },
      "execution_count": null,
      "outputs": []
    },
    {
      "cell_type": "code",
      "source": [
        "pd.read_csv(\"/content/2-PLAYER STARTER DECK YUYA & DECLAN (UK).csv\",sep=\"$\")"
      ],
      "metadata": {
        "id": "jdbpkq9ULiNR"
      },
      "execution_count": null,
      "outputs": []
    },
    {
      "cell_type": "code",
      "source": [
        "dataset = dataset.sort_values(\"Passcode\")"
      ],
      "metadata": {
        "id": "q6BP6gF8Ln7c"
      },
      "execution_count": null,
      "outputs": []
    },
    {
      "cell_type": "code",
      "source": [
        "ds = dataset.dropna(subset=[\"Passcode\"])\n",
        "ds.Passcode = ds.Passcode.astype(int)\n",
        "ds.set_index(\"Passcode\",inplace=True)"
      ],
      "metadata": {
        "id": "QEuJpXHeO3yL"
      },
      "execution_count": null,
      "outputs": []
    },
    {
      "cell_type": "code",
      "source": [
        "ds"
      ],
      "metadata": {
        "id": "g93L79GyPEdG"
      },
      "execution_count": null,
      "outputs": []
    },
    {
      "cell_type": "code",
      "source": [
        "ds.card_text"
      ],
      "metadata": {
        "id": "zYf1GE-uTAxQ"
      },
      "execution_count": null,
      "outputs": []
    },
    {
      "cell_type": "code",
      "source": [
        "import re\n",
        "regex = r\"[^\\w\\d]+\"\n",
        "\n",
        "def clean_split(card_text):\n",
        "    clean = re.sub(regex,\" \",card_text)\n",
        "    return clean.lower().split()\n",
        "\n",
        "\n",
        "ds[\"tokenized_text\"] = ds.card_text.map(lambda x: clean_split(x))\n",
        "ds.tokenized_text"
      ],
      "metadata": {
        "id": "umXDOC0unvS4"
      },
      "execution_count": null,
      "outputs": []
    },
    {
      "cell_type": "code",
      "source": [
        "import nltk\n",
        "nltk.download('averaged_perceptron_tagger')\n",
        "nltk.download('universal_tagset')\n",
        "\n",
        "ds[\"tags\"] = ds.tokenized_text.map(lambda x: nltk.tag.pos_tag(x,tagset=\"universal\")).map(lambda x: [y[1] for y in x])\n",
        "ds[\"tags\"]"
      ],
      "metadata": {
        "id": "mt11lNajn4wv"
      },
      "execution_count": null,
      "outputs": []
    },
    {
      "cell_type": "code",
      "source": [
        "import numpy as np"
      ],
      "metadata": {
        "id": "gVDjVlUWMrhS"
      },
      "execution_count": null,
      "outputs": []
    },
    {
      "cell_type": "code",
      "source": [
        "import functools\n",
        "\n",
        "tokens = ds.tokenized_text.map(lambda x: set(x))\n",
        "tokens = functools.reduce(lambda x,y : x.union(y),tokens)\n",
        "tokens"
      ],
      "metadata": {
        "id": "B9QukbixqEHi"
      },
      "execution_count": null,
      "outputs": []
    },
    {
      "cell_type": "code",
      "source": [
        "len(tokens)"
      ],
      "metadata": {
        "id": "U1OE06dasL9J"
      },
      "execution_count": null,
      "outputs": []
    },
    {
      "cell_type": "code",
      "source": [
        "enumerated_tokens = list(enumerate(sorted(tokens)+[\"<FILL>\"]))\n",
        "enumerated_tokens"
      ],
      "metadata": {
        "id": "q8v3WSEmr3AX"
      },
      "execution_count": null,
      "outputs": []
    },
    {
      "cell_type": "code",
      "source": [
        "tags = ds.tags.map(lambda x: set(x))\n",
        "tags = functools.reduce(lambda x,y : x.union(y),tags)\n",
        "tags"
      ],
      "metadata": {
        "id": "wErmFU16Z1kb"
      },
      "execution_count": null,
      "outputs": []
    },
    {
      "cell_type": "code",
      "source": [
        "enumerated_tags = list(enumerate(sorted(tags)))\n",
        "enumerated_tags"
      ],
      "metadata": {
        "id": "jbOe3Xw3uLW2"
      },
      "execution_count": null,
      "outputs": []
    }
  ]
}