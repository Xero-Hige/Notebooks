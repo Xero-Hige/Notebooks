{
  "nbformat": 4,
  "nbformat_minor": 0,
  "metadata": {
    "colab": {
      "provenance": []
    },
    "kernelspec": {
      "name": "python3",
      "display_name": "Python 3"
    },
    "language_info": {
      "name": "python"
    }
  },
  "cells": [
    {
      "cell_type": "markdown",
      "source": [
        "# Lambdas\n",
        "\n",
        "Las funciones lambda son funciones anonimas (probablemente las vieron en Algo 3) que se generan para utilizar en un unico lugar y luego se descartan. La sintaxis es:\n",
        "\n",
        "lambda entrada : salida\n",
        "\n",
        "\n",
        "Por ej, una funcion lambda que le suma 1 al numero recibido como parametro seria"
      ],
      "metadata": {
        "id": "4R4jkfnqQGfh"
      }
    },
    {
      "cell_type": "code",
      "execution_count": 1,
      "metadata": {
        "colab": {
          "base_uri": "https://localhost:8080/"
        },
        "id": "jFF-Rz3kQFtr",
        "outputId": "44d7fe23-83e6-4385-9a07-3e5ec3087fa9"
      },
      "outputs": [
        {
          "output_type": "execute_result",
          "data": {
            "text/plain": [
              "<function __main__.<lambda>(x)>"
            ]
          },
          "metadata": {},
          "execution_count": 1
        }
      ],
      "source": [
        "lambda x : x+1"
      ]
    },
    {
      "cell_type": "markdown",
      "source": [
        "No hace mucho, pero fijense que nos devuelve un objeto funcion. No es la idea, pero podria asignarlo a una variable"
      ],
      "metadata": {
        "id": "dLUaRHHrQzY0"
      }
    },
    {
      "cell_type": "code",
      "source": [
        "f = lambda x : x+1"
      ],
      "metadata": {
        "id": "X0NIL_J6Qx6x"
      },
      "execution_count": 2,
      "outputs": []
    },
    {
      "cell_type": "markdown",
      "source": [
        "Y llamarlo"
      ],
      "metadata": {
        "id": "fLwt6yG6Q_LV"
      }
    },
    {
      "cell_type": "code",
      "source": [
        "f(2)"
      ],
      "metadata": {
        "colab": {
          "base_uri": "https://localhost:8080/"
        },
        "id": "ECGiEAZUQ-bU",
        "outputId": "001b6436-7a77-458d-b12b-d254a3b07284"
      },
      "execution_count": 3,
      "outputs": [
        {
          "output_type": "execute_result",
          "data": {
            "text/plain": [
              "3"
            ]
          },
          "metadata": {},
          "execution_count": 3
        }
      ]
    },
    {
      "cell_type": "markdown",
      "source": [
        "En pandas es comun usarlas para evitar tener que definir cosas por fuera que no van a servir mas alla de esa situacion. En algunos casos, es mas facil de escribir incluso."
      ],
      "metadata": {
        "id": "UL7T9FmWREA8"
      }
    },
    {
      "cell_type": "code",
      "source": [
        "import pandas as pd\n",
        "\n",
        "df = pd.DataFrame([[1,1],[2,2]],columns=[\"A\",\"B\"])\n",
        "df"
      ],
      "metadata": {
        "colab": {
          "base_uri": "https://localhost:8080/",
          "height": 112
        },
        "id": "LT7NmUFBRBJB",
        "outputId": "76e584ff-7700-4093-c65e-8d8c843367cd"
      },
      "execution_count": 4,
      "outputs": [
        {
          "output_type": "execute_result",
          "data": {
            "text/plain": [
              "   A  B\n",
              "0  1  1\n",
              "1  2  2"
            ],
            "text/html": [
              "\n",
              "  <div id=\"df-bbbc252f-6d33-4b3c-ac1b-5a76673df9e9\" class=\"colab-df-container\">\n",
              "    <div>\n",
              "<style scoped>\n",
              "    .dataframe tbody tr th:only-of-type {\n",
              "        vertical-align: middle;\n",
              "    }\n",
              "\n",
              "    .dataframe tbody tr th {\n",
              "        vertical-align: top;\n",
              "    }\n",
              "\n",
              "    .dataframe thead th {\n",
              "        text-align: right;\n",
              "    }\n",
              "</style>\n",
              "<table border=\"1\" class=\"dataframe\">\n",
              "  <thead>\n",
              "    <tr style=\"text-align: right;\">\n",
              "      <th></th>\n",
              "      <th>A</th>\n",
              "      <th>B</th>\n",
              "    </tr>\n",
              "  </thead>\n",
              "  <tbody>\n",
              "    <tr>\n",
              "      <th>0</th>\n",
              "      <td>1</td>\n",
              "      <td>1</td>\n",
              "    </tr>\n",
              "    <tr>\n",
              "      <th>1</th>\n",
              "      <td>2</td>\n",
              "      <td>2</td>\n",
              "    </tr>\n",
              "  </tbody>\n",
              "</table>\n",
              "</div>\n",
              "    <div class=\"colab-df-buttons\">\n",
              "\n",
              "  <div class=\"colab-df-container\">\n",
              "    <button class=\"colab-df-convert\" onclick=\"convertToInteractive('df-bbbc252f-6d33-4b3c-ac1b-5a76673df9e9')\"\n",
              "            title=\"Convert this dataframe to an interactive table.\"\n",
              "            style=\"display:none;\">\n",
              "\n",
              "  <svg xmlns=\"http://www.w3.org/2000/svg\" height=\"24px\" viewBox=\"0 -960 960 960\">\n",
              "    <path d=\"M120-120v-720h720v720H120Zm60-500h600v-160H180v160Zm220 220h160v-160H400v160Zm0 220h160v-160H400v160ZM180-400h160v-160H180v160Zm440 0h160v-160H620v160ZM180-180h160v-160H180v160Zm440 0h160v-160H620v160Z\"/>\n",
              "  </svg>\n",
              "    </button>\n",
              "\n",
              "  <style>\n",
              "    .colab-df-container {\n",
              "      display:flex;\n",
              "      gap: 12px;\n",
              "    }\n",
              "\n",
              "    .colab-df-convert {\n",
              "      background-color: #E8F0FE;\n",
              "      border: none;\n",
              "      border-radius: 50%;\n",
              "      cursor: pointer;\n",
              "      display: none;\n",
              "      fill: #1967D2;\n",
              "      height: 32px;\n",
              "      padding: 0 0 0 0;\n",
              "      width: 32px;\n",
              "    }\n",
              "\n",
              "    .colab-df-convert:hover {\n",
              "      background-color: #E2EBFA;\n",
              "      box-shadow: 0px 1px 2px rgba(60, 64, 67, 0.3), 0px 1px 3px 1px rgba(60, 64, 67, 0.15);\n",
              "      fill: #174EA6;\n",
              "    }\n",
              "\n",
              "    .colab-df-buttons div {\n",
              "      margin-bottom: 4px;\n",
              "    }\n",
              "\n",
              "    [theme=dark] .colab-df-convert {\n",
              "      background-color: #3B4455;\n",
              "      fill: #D2E3FC;\n",
              "    }\n",
              "\n",
              "    [theme=dark] .colab-df-convert:hover {\n",
              "      background-color: #434B5C;\n",
              "      box-shadow: 0px 1px 3px 1px rgba(0, 0, 0, 0.15);\n",
              "      filter: drop-shadow(0px 1px 2px rgba(0, 0, 0, 0.3));\n",
              "      fill: #FFFFFF;\n",
              "    }\n",
              "  </style>\n",
              "\n",
              "    <script>\n",
              "      const buttonEl =\n",
              "        document.querySelector('#df-bbbc252f-6d33-4b3c-ac1b-5a76673df9e9 button.colab-df-convert');\n",
              "      buttonEl.style.display =\n",
              "        google.colab.kernel.accessAllowed ? 'block' : 'none';\n",
              "\n",
              "      async function convertToInteractive(key) {\n",
              "        const element = document.querySelector('#df-bbbc252f-6d33-4b3c-ac1b-5a76673df9e9');\n",
              "        const dataTable =\n",
              "          await google.colab.kernel.invokeFunction('convertToInteractive',\n",
              "                                                    [key], {});\n",
              "        if (!dataTable) return;\n",
              "\n",
              "        const docLinkHtml = 'Like what you see? Visit the ' +\n",
              "          '<a target=\"_blank\" href=https://colab.research.google.com/notebooks/data_table.ipynb>data table notebook</a>'\n",
              "          + ' to learn more about interactive tables.';\n",
              "        element.innerHTML = '';\n",
              "        dataTable['output_type'] = 'display_data';\n",
              "        await google.colab.output.renderOutput(dataTable, element);\n",
              "        const docLink = document.createElement('div');\n",
              "        docLink.innerHTML = docLinkHtml;\n",
              "        element.appendChild(docLink);\n",
              "      }\n",
              "    </script>\n",
              "  </div>\n",
              "\n",
              "\n",
              "<div id=\"df-49fcfdd4-1893-4945-b262-e5c249d51bd8\">\n",
              "  <button class=\"colab-df-quickchart\" onclick=\"quickchart('df-49fcfdd4-1893-4945-b262-e5c249d51bd8')\"\n",
              "            title=\"Suggest charts.\"\n",
              "            style=\"display:none;\">\n",
              "\n",
              "<svg xmlns=\"http://www.w3.org/2000/svg\" height=\"24px\"viewBox=\"0 0 24 24\"\n",
              "     width=\"24px\">\n",
              "    <g>\n",
              "        <path d=\"M19 3H5c-1.1 0-2 .9-2 2v14c0 1.1.9 2 2 2h14c1.1 0 2-.9 2-2V5c0-1.1-.9-2-2-2zM9 17H7v-7h2v7zm4 0h-2V7h2v10zm4 0h-2v-4h2v4z\"/>\n",
              "    </g>\n",
              "</svg>\n",
              "  </button>\n",
              "\n",
              "<style>\n",
              "  .colab-df-quickchart {\n",
              "      --bg-color: #E8F0FE;\n",
              "      --fill-color: #1967D2;\n",
              "      --hover-bg-color: #E2EBFA;\n",
              "      --hover-fill-color: #174EA6;\n",
              "      --disabled-fill-color: #AAA;\n",
              "      --disabled-bg-color: #DDD;\n",
              "  }\n",
              "\n",
              "  [theme=dark] .colab-df-quickchart {\n",
              "      --bg-color: #3B4455;\n",
              "      --fill-color: #D2E3FC;\n",
              "      --hover-bg-color: #434B5C;\n",
              "      --hover-fill-color: #FFFFFF;\n",
              "      --disabled-bg-color: #3B4455;\n",
              "      --disabled-fill-color: #666;\n",
              "  }\n",
              "\n",
              "  .colab-df-quickchart {\n",
              "    background-color: var(--bg-color);\n",
              "    border: none;\n",
              "    border-radius: 50%;\n",
              "    cursor: pointer;\n",
              "    display: none;\n",
              "    fill: var(--fill-color);\n",
              "    height: 32px;\n",
              "    padding: 0;\n",
              "    width: 32px;\n",
              "  }\n",
              "\n",
              "  .colab-df-quickchart:hover {\n",
              "    background-color: var(--hover-bg-color);\n",
              "    box-shadow: 0 1px 2px rgba(60, 64, 67, 0.3), 0 1px 3px 1px rgba(60, 64, 67, 0.15);\n",
              "    fill: var(--button-hover-fill-color);\n",
              "  }\n",
              "\n",
              "  .colab-df-quickchart-complete:disabled,\n",
              "  .colab-df-quickchart-complete:disabled:hover {\n",
              "    background-color: var(--disabled-bg-color);\n",
              "    fill: var(--disabled-fill-color);\n",
              "    box-shadow: none;\n",
              "  }\n",
              "\n",
              "  .colab-df-spinner {\n",
              "    border: 2px solid var(--fill-color);\n",
              "    border-color: transparent;\n",
              "    border-bottom-color: var(--fill-color);\n",
              "    animation:\n",
              "      spin 1s steps(1) infinite;\n",
              "  }\n",
              "\n",
              "  @keyframes spin {\n",
              "    0% {\n",
              "      border-color: transparent;\n",
              "      border-bottom-color: var(--fill-color);\n",
              "      border-left-color: var(--fill-color);\n",
              "    }\n",
              "    20% {\n",
              "      border-color: transparent;\n",
              "      border-left-color: var(--fill-color);\n",
              "      border-top-color: var(--fill-color);\n",
              "    }\n",
              "    30% {\n",
              "      border-color: transparent;\n",
              "      border-left-color: var(--fill-color);\n",
              "      border-top-color: var(--fill-color);\n",
              "      border-right-color: var(--fill-color);\n",
              "    }\n",
              "    40% {\n",
              "      border-color: transparent;\n",
              "      border-right-color: var(--fill-color);\n",
              "      border-top-color: var(--fill-color);\n",
              "    }\n",
              "    60% {\n",
              "      border-color: transparent;\n",
              "      border-right-color: var(--fill-color);\n",
              "    }\n",
              "    80% {\n",
              "      border-color: transparent;\n",
              "      border-right-color: var(--fill-color);\n",
              "      border-bottom-color: var(--fill-color);\n",
              "    }\n",
              "    90% {\n",
              "      border-color: transparent;\n",
              "      border-bottom-color: var(--fill-color);\n",
              "    }\n",
              "  }\n",
              "</style>\n",
              "\n",
              "  <script>\n",
              "    async function quickchart(key) {\n",
              "      const quickchartButtonEl =\n",
              "        document.querySelector('#' + key + ' button');\n",
              "      quickchartButtonEl.disabled = true;  // To prevent multiple clicks.\n",
              "      quickchartButtonEl.classList.add('colab-df-spinner');\n",
              "      try {\n",
              "        const charts = await google.colab.kernel.invokeFunction(\n",
              "            'suggestCharts', [key], {});\n",
              "      } catch (error) {\n",
              "        console.error('Error during call to suggestCharts:', error);\n",
              "      }\n",
              "      quickchartButtonEl.classList.remove('colab-df-spinner');\n",
              "      quickchartButtonEl.classList.add('colab-df-quickchart-complete');\n",
              "    }\n",
              "    (() => {\n",
              "      let quickchartButtonEl =\n",
              "        document.querySelector('#df-49fcfdd4-1893-4945-b262-e5c249d51bd8 button');\n",
              "      quickchartButtonEl.style.display =\n",
              "        google.colab.kernel.accessAllowed ? 'block' : 'none';\n",
              "    })();\n",
              "  </script>\n",
              "</div>\n",
              "    </div>\n",
              "  </div>\n"
            ]
          },
          "metadata": {},
          "execution_count": 4
        }
      ]
    },
    {
      "cell_type": "code",
      "source": [
        "def mi_funcion(x):\n",
        "    valor = x ** 2\n",
        "    valor = valor + 2\n",
        "    valor = valor * 5\n",
        "    return valor\n",
        "\n",
        "df.A.map(mi_funcion)"
      ],
      "metadata": {
        "colab": {
          "base_uri": "https://localhost:8080/"
        },
        "id": "kcB6ll8YRgL1",
        "outputId": "3ef65d3d-0328-4d83-9da5-c3c8c8e40b1f"
      },
      "execution_count": 5,
      "outputs": [
        {
          "output_type": "execute_result",
          "data": {
            "text/plain": [
              "0    15\n",
              "1    30\n",
              "Name: A, dtype: int64"
            ]
          },
          "metadata": {},
          "execution_count": 5
        }
      ]
    },
    {
      "cell_type": "code",
      "source": [
        "df.A.map(lambda x: ( x**2 + 2 ) * 5)"
      ],
      "metadata": {
        "colab": {
          "base_uri": "https://localhost:8080/"
        },
        "id": "xnhzbYoGR5-J",
        "outputId": "42d841ae-6cc7-4033-f266-5834d9df729d"
      },
      "execution_count": 6,
      "outputs": [
        {
          "output_type": "execute_result",
          "data": {
            "text/plain": [
              "0    15\n",
              "1    30\n",
              "Name: A, dtype: int64"
            ]
          },
          "metadata": {},
          "execution_count": 6
        }
      ]
    },
    {
      "cell_type": "markdown",
      "source": [
        "La version con funcion estandar y la version con lambda son equivalentes, simplemente en el caso del lambda voy a tener que volver a escribirlo si quiero hacer lo mismo en otro lado."
      ],
      "metadata": {
        "id": "UdX1YBIRSQaB"
      }
    },
    {
      "cell_type": "markdown",
      "source": [
        "# Listas por comprension\n",
        "\n",
        "En Python podemos definir una lista por _extension_ escribiendo todos los valores de la misma"
      ],
      "metadata": {
        "id": "O6-XMsr3Sf2n"
      }
    },
    {
      "cell_type": "code",
      "source": [
        "mi_lista = [0,1,2,3,4,5,6,7,8,9]"
      ],
      "metadata": {
        "id": "130aDE1oSEI0"
      },
      "execution_count": 7,
      "outputs": []
    },
    {
      "cell_type": "markdown",
      "source": [
        "O puedo definirla por comprension, no escribiendo explicitamente los valores, sino como se forman. El formato es\n",
        "\n",
        "[ elemento for elemento in secuencia ]"
      ],
      "metadata": {
        "id": "8DiBIjgzSvuu"
      }
    },
    {
      "cell_type": "code",
      "source": [
        "[ elemento for elemento in [0,1,2,3,4,5,6,7,8,9] ]"
      ],
      "metadata": {
        "colab": {
          "base_uri": "https://localhost:8080/"
        },
        "id": "Hurw1SAySuei",
        "outputId": "0dfbf939-4d08-4ef1-fe27-12eaa3b05419"
      },
      "execution_count": 8,
      "outputs": [
        {
          "output_type": "execute_result",
          "data": {
            "text/plain": [
              "[0, 1, 2, 3, 4, 5, 6, 7, 8, 9]"
            ]
          },
          "metadata": {},
          "execution_count": 8
        }
      ]
    },
    {
      "cell_type": "code",
      "source": [
        "[ elemento for elemento in range(10) ]"
      ],
      "metadata": {
        "colab": {
          "base_uri": "https://localhost:8080/"
        },
        "id": "CBgtPao4TDle",
        "outputId": "01c85dc4-3e61-4805-ca61-c5ce906a5af9"
      },
      "execution_count": 9,
      "outputs": [
        {
          "output_type": "execute_result",
          "data": {
            "text/plain": [
              "[0, 1, 2, 3, 4, 5, 6, 7, 8, 9]"
            ]
          },
          "metadata": {},
          "execution_count": 9
        }
      ]
    },
    {
      "cell_type": "code",
      "source": [
        "def esto_es_una_secuencia(valores):\n",
        "    for x in range(90,100):\n",
        "        yield valores*x\n",
        "\n",
        "[ elemento for elemento in esto_es_una_secuencia(10) ]"
      ],
      "metadata": {
        "colab": {
          "base_uri": "https://localhost:8080/"
        },
        "id": "tiapz43XTJLq",
        "outputId": "52c460f4-e832-4bc0-dee3-42358d3e2455"
      },
      "execution_count": 10,
      "outputs": [
        {
          "output_type": "execute_result",
          "data": {
            "text/plain": [
              "[900, 910, 920, 930, 940, 950, 960, 970, 980, 990]"
            ]
          },
          "metadata": {},
          "execution_count": 10
        }
      ]
    },
    {
      "cell_type": "code",
      "source": [
        "[ elemento for elemento in \"externocleidomastoideo\" ]"
      ],
      "metadata": {
        "colab": {
          "base_uri": "https://localhost:8080/"
        },
        "id": "eAT6Fm89TanE",
        "outputId": "6376f1af-e1c4-45b2-c8fb-6dd85fca02e0"
      },
      "execution_count": 11,
      "outputs": [
        {
          "output_type": "execute_result",
          "data": {
            "text/plain": [
              "['e',\n",
              " 'x',\n",
              " 't',\n",
              " 'e',\n",
              " 'r',\n",
              " 'n',\n",
              " 'o',\n",
              " 'c',\n",
              " 'l',\n",
              " 'e',\n",
              " 'i',\n",
              " 'd',\n",
              " 'o',\n",
              " 'm',\n",
              " 'a',\n",
              " 's',\n",
              " 't',\n",
              " 'o',\n",
              " 'i',\n",
              " 'd',\n",
              " 'e',\n",
              " 'o']"
            ]
          },
          "metadata": {},
          "execution_count": 11
        }
      ]
    },
    {
      "cell_type": "markdown",
      "source": [
        "Hay varias cosas que son secuencias, que podemos simplificar como \"le puedo hacer for x in\".\n",
        "\n",
        "Al elemento le puedo hacer las transformaciones que quiera:"
      ],
      "metadata": {
        "id": "wnvpbtnGToTA"
      }
    },
    {
      "cell_type": "code",
      "source": [
        "[ elemento*20 for elemento in range(10) ]"
      ],
      "metadata": {
        "colab": {
          "base_uri": "https://localhost:8080/"
        },
        "id": "QgKuz4XLTmSA",
        "outputId": "997812e7-8bf3-4cf6-82e8-7c96eb07cce4"
      },
      "execution_count": 12,
      "outputs": [
        {
          "output_type": "execute_result",
          "data": {
            "text/plain": [
              "[0, 20, 40, 60, 80, 100, 120, 140, 160, 180]"
            ]
          },
          "metadata": {},
          "execution_count": 12
        }
      ]
    },
    {
      "cell_type": "code",
      "source": [
        "[ elemento+33 for elemento in range(10) ]"
      ],
      "metadata": {
        "colab": {
          "base_uri": "https://localhost:8080/"
        },
        "id": "DwwIOjWTUCGI",
        "outputId": "97130ad2-e585-4787-e1af-8cede991aeff"
      },
      "execution_count": 13,
      "outputs": [
        {
          "output_type": "execute_result",
          "data": {
            "text/plain": [
              "[33, 34, 35, 36, 37, 38, 39, 40, 41, 42]"
            ]
          },
          "metadata": {},
          "execution_count": 13
        }
      ]
    },
    {
      "cell_type": "code",
      "source": [
        "[ elemento**2 + 35\n",
        "    for elemento in range(10) ]"
      ],
      "metadata": {
        "colab": {
          "base_uri": "https://localhost:8080/"
        },
        "id": "x8vcKAxXUDmH",
        "outputId": "aa80b587-94d7-45c8-ba5a-20051171b456"
      },
      "execution_count": 14,
      "outputs": [
        {
          "output_type": "execute_result",
          "data": {
            "text/plain": [
              "[35, 36, 39, 44, 51, 60, 71, 84, 99, 116]"
            ]
          },
          "metadata": {},
          "execution_count": 14
        }
      ]
    },
    {
      "cell_type": "markdown",
      "source": [
        "Tambien puedo agregar condiciones de cuando un elemento deberia estar o no"
      ],
      "metadata": {
        "id": "WWNpdd7MULkm"
      }
    },
    {
      "cell_type": "code",
      "source": [
        "[ elemento**2 + 35\n",
        "    for elemento in range(100)\n",
        "        if elemento % 10 == 0 ]"
      ],
      "metadata": {
        "colab": {
          "base_uri": "https://localhost:8080/"
        },
        "id": "1A7nXaUVUIvf",
        "outputId": "8fdf510a-097f-4b80-a80c-579ddd92db27"
      },
      "execution_count": 15,
      "outputs": [
        {
          "output_type": "execute_result",
          "data": {
            "text/plain": [
              "[35, 135, 435, 935, 1635, 2535, 3635, 4935, 6435, 8135]"
            ]
          },
          "metadata": {},
          "execution_count": 15
        }
      ]
    },
    {
      "cell_type": "markdown",
      "source": [
        "Esto se lee como: a cada elemento dentro del rango 0:99, SI es divisible por 10, se lo eleva al cuadrado y se le suma 35"
      ],
      "metadata": {
        "id": "J3dpB8YEUbHm"
      }
    },
    {
      "cell_type": "code",
      "source": [
        "0 ** 2 + 35"
      ],
      "metadata": {
        "colab": {
          "base_uri": "https://localhost:8080/"
        },
        "id": "dR0uEXQGUZqs",
        "outputId": "1dc61a25-2ddc-4fcf-d9d0-428d85c9107e"
      },
      "execution_count": 16,
      "outputs": [
        {
          "output_type": "execute_result",
          "data": {
            "text/plain": [
              "35"
            ]
          },
          "metadata": {},
          "execution_count": 16
        }
      ]
    },
    {
      "cell_type": "code",
      "source": [
        "10 ** 2 + 35"
      ],
      "metadata": {
        "colab": {
          "base_uri": "https://localhost:8080/"
        },
        "id": "iq4AQTx_UoRX",
        "outputId": "20061f6a-393a-4ca9-f003-099d0b16a4df"
      },
      "execution_count": 17,
      "outputs": [
        {
          "output_type": "execute_result",
          "data": {
            "text/plain": [
              "135"
            ]
          },
          "metadata": {},
          "execution_count": 17
        }
      ]
    },
    {
      "cell_type": "code",
      "source": [
        "20 ** 2 + 35"
      ],
      "metadata": {
        "colab": {
          "base_uri": "https://localhost:8080/"
        },
        "id": "bh6joysrUs_f",
        "outputId": "0bb1d733-fc6b-416e-a5b8-0d351479b270"
      },
      "execution_count": 18,
      "outputs": [
        {
          "output_type": "execute_result",
          "data": {
            "text/plain": [
              "435"
            ]
          },
          "metadata": {},
          "execution_count": 18
        }
      ]
    },
    {
      "cell_type": "markdown",
      "source": [
        "Voy a hacer una salvedad, no necesito usar la variable del for como elemento, eso lo puse a modo de ejemplo. Podria agarrar valores al azar; al igual que en otras situaciones, el for si no uso el valor solo me limita las ejecuciones:"
      ],
      "metadata": {
        "id": "UAM3_QSJYUN1"
      }
    },
    {
      "cell_type": "code",
      "source": [
        "import random\n",
        "[ random.random() for _ in \"ABC\" ]"
      ],
      "metadata": {
        "colab": {
          "base_uri": "https://localhost:8080/"
        },
        "id": "A4fNIY3eYsbz",
        "outputId": "b09fbe57-aa9d-42b2-e380-f1b76da5f2a3"
      },
      "execution_count": 19,
      "outputs": [
        {
          "output_type": "execute_result",
          "data": {
            "text/plain": [
              "[0.5042173374787516, 0.43266242773530483, 0.3686587596332265]"
            ]
          },
          "metadata": {},
          "execution_count": 19
        }
      ]
    },
    {
      "cell_type": "markdown",
      "source": [
        "Este concepto se puede extrapolar a diccionarios, que con la misma logica, puedo armar\n",
        "\n",
        "{ clave:valor for valor in secuencia }"
      ],
      "metadata": {
        "id": "LRUlIa7CUyer"
      }
    },
    {
      "cell_type": "code",
      "source": [
        "{ x : x**2 for x in range(10) }"
      ],
      "metadata": {
        "colab": {
          "base_uri": "https://localhost:8080/"
        },
        "id": "1nuTX4PSUvIO",
        "outputId": "6d03a354-2f79-473b-c8ce-53e43b57082e"
      },
      "execution_count": 20,
      "outputs": [
        {
          "output_type": "execute_result",
          "data": {
            "text/plain": [
              "{0: 0, 1: 1, 2: 4, 3: 9, 4: 16, 5: 25, 6: 36, 7: 49, 8: 64, 9: 81}"
            ]
          },
          "metadata": {},
          "execution_count": 20
        }
      ]
    },
    {
      "cell_type": "code",
      "source": [
        "{ x : \"ABCDEFGHIJKLMNOPQRSTUVWXYZ\"[:x] for x in range(10) }"
      ],
      "metadata": {
        "colab": {
          "base_uri": "https://localhost:8080/"
        },
        "id": "zQbjO4p8Y__A",
        "outputId": "423e4271-67a0-4dde-afa8-570af9d332ce"
      },
      "execution_count": 21,
      "outputs": [
        {
          "output_type": "execute_result",
          "data": {
            "text/plain": [
              "{0: '',\n",
              " 1: 'A',\n",
              " 2: 'AB',\n",
              " 3: 'ABC',\n",
              " 4: 'ABCD',\n",
              " 5: 'ABCDE',\n",
              " 6: 'ABCDEF',\n",
              " 7: 'ABCDEFG',\n",
              " 8: 'ABCDEFGH',\n",
              " 9: 'ABCDEFGHI'}"
            ]
          },
          "metadata": {},
          "execution_count": 21
        }
      ]
    },
    {
      "cell_type": "markdown",
      "source": [
        "Lo unico que si, las claves tienen que ser unicas, sino sobreescribe todo"
      ],
      "metadata": {
        "id": "t4jr9vIPZNe-"
      }
    },
    {
      "cell_type": "code",
      "source": [
        "{ \"A\" : \"ABCDEFGHIJKLMNOPQRSTUVWXYZ\"[:x] for x in range(10) }"
      ],
      "metadata": {
        "colab": {
          "base_uri": "https://localhost:8080/"
        },
        "id": "ZH5DGFJEZLci",
        "outputId": "0caf1a96-0ef7-4eb4-ab0f-6d5d700fbea9"
      },
      "execution_count": 22,
      "outputs": [
        {
          "output_type": "execute_result",
          "data": {
            "text/plain": [
              "{'A': 'ABCDEFGHI'}"
            ]
          },
          "metadata": {},
          "execution_count": 22
        }
      ]
    },
    {
      "cell_type": "code",
      "source": [
        "{ x : \"A\" for x in range(10) }"
      ],
      "metadata": {
        "colab": {
          "base_uri": "https://localhost:8080/"
        },
        "id": "wY-0xpb6ZTfi",
        "outputId": "00fcfd79-ce2f-4e94-c394-729cc42d4e1c"
      },
      "execution_count": 23,
      "outputs": [
        {
          "output_type": "execute_result",
          "data": {
            "text/plain": [
              "{0: 'A',\n",
              " 1: 'A',\n",
              " 2: 'A',\n",
              " 3: 'A',\n",
              " 4: 'A',\n",
              " 5: 'A',\n",
              " 6: 'A',\n",
              " 7: 'A',\n",
              " 8: 'A',\n",
              " 9: 'A'}"
            ]
          },
          "metadata": {},
          "execution_count": 23
        }
      ]
    },
    {
      "cell_type": "markdown",
      "source": [
        "# Combinando todo\n",
        "\n",
        "Entonces, puedo usar esto para por ejemplo, cortar y limpiar una cadena"
      ],
      "metadata": {
        "id": "9e2nuKmbZe3S"
      }
    },
    {
      "cell_type": "code",
      "source": [
        "\"Arg, Esp, uK,Ygs  ,\""
      ],
      "metadata": {
        "colab": {
          "base_uri": "https://localhost:8080/",
          "height": 38
        },
        "id": "IFviVgvlZZcB",
        "outputId": "5b5c95bb-afdc-454c-81f0-239cc769a249"
      },
      "execution_count": 24,
      "outputs": [
        {
          "output_type": "execute_result",
          "data": {
            "text/plain": [
              "'Arg, Esp, uK,Ygs  ,'"
            ],
            "application/vnd.google.colaboratory.intrinsic+json": {
              "type": "string"
            }
          },
          "metadata": {},
          "execution_count": 24
        }
      ]
    },
    {
      "cell_type": "code",
      "source": [
        "\"Arg, Esp, uK,Ygs  ,\".split(\",\")"
      ],
      "metadata": {
        "colab": {
          "base_uri": "https://localhost:8080/"
        },
        "id": "50Nz4cZ2ZwKn",
        "outputId": "fb32b59f-df08-4ea4-bb92-812a9f6d90a8"
      },
      "execution_count": 25,
      "outputs": [
        {
          "output_type": "execute_result",
          "data": {
            "text/plain": [
              "['Arg', ' Esp', ' uK', 'Ygs  ', '']"
            ]
          },
          "metadata": {},
          "execution_count": 25
        }
      ]
    },
    {
      "cell_type": "code",
      "source": [
        "[ x for x in \"Arg, Esp, uK,Ygs  ,\".split(\",\")]"
      ],
      "metadata": {
        "colab": {
          "base_uri": "https://localhost:8080/"
        },
        "id": "SVx3ObHxZ0Mk",
        "outputId": "c8c20f26-93ff-4f62-ab1d-23f735ad41dd"
      },
      "execution_count": 26,
      "outputs": [
        {
          "output_type": "execute_result",
          "data": {
            "text/plain": [
              "['Arg', ' Esp', ' uK', 'Ygs  ', '']"
            ]
          },
          "metadata": {},
          "execution_count": 26
        }
      ]
    },
    {
      "cell_type": "code",
      "source": [
        "[ x for x in \"Arg, Esp, uK,Ygs  ,\".split(\",\") if x]"
      ],
      "metadata": {
        "colab": {
          "base_uri": "https://localhost:8080/"
        },
        "id": "E1t22CR5Z5Hg",
        "outputId": "ab2e842f-fab8-4a44-9285-599c8011f8a6"
      },
      "execution_count": 27,
      "outputs": [
        {
          "output_type": "execute_result",
          "data": {
            "text/plain": [
              "['Arg', ' Esp', ' uK', 'Ygs  ']"
            ]
          },
          "metadata": {},
          "execution_count": 27
        }
      ]
    },
    {
      "cell_type": "code",
      "source": [
        "[ x.lower() for x in \"Arg, Esp, uK,Ygs  ,\".split(\",\") if x]"
      ],
      "metadata": {
        "colab": {
          "base_uri": "https://localhost:8080/"
        },
        "id": "PBpV5s6bZ73O",
        "outputId": "2d3e58ce-ae89-43eb-8504-22b935ad5571"
      },
      "execution_count": 28,
      "outputs": [
        {
          "output_type": "execute_result",
          "data": {
            "text/plain": [
              "['arg', ' esp', ' uk', 'ygs  ']"
            ]
          },
          "metadata": {},
          "execution_count": 28
        }
      ]
    },
    {
      "cell_type": "code",
      "source": [
        "[ x.lower().strip() for x in \"Arg, Esp, uK,Ygs  ,\".split(\",\") if x]"
      ],
      "metadata": {
        "colab": {
          "base_uri": "https://localhost:8080/"
        },
        "id": "dIpPfcTaZ-gG",
        "outputId": "5f064029-c99d-407c-ea0d-cbd1d0ce7cdd"
      },
      "execution_count": 29,
      "outputs": [
        {
          "output_type": "execute_result",
          "data": {
            "text/plain": [
              "['arg', 'esp', 'uk', 'ygs']"
            ]
          },
          "metadata": {},
          "execution_count": 29
        }
      ]
    },
    {
      "cell_type": "code",
      "source": [
        "lambda cadena: [ x.lower().strip() for x in cadena.split(\",\") if x]"
      ],
      "metadata": {
        "colab": {
          "base_uri": "https://localhost:8080/"
        },
        "id": "2bOtK-MgaBLc",
        "outputId": "4f1d281b-041a-43a0-b850-0f6510ad273d"
      },
      "execution_count": 30,
      "outputs": [
        {
          "output_type": "execute_result",
          "data": {
            "text/plain": [
              "<function __main__.<lambda>(cadena)>"
            ]
          },
          "metadata": {},
          "execution_count": 30
        }
      ]
    },
    {
      "cell_type": "code",
      "source": [
        "fn = lambda cadena: [ x.lower().strip() for x in cadena.split(\",\") if x]\n",
        "fn"
      ],
      "metadata": {
        "colab": {
          "base_uri": "https://localhost:8080/"
        },
        "id": "3qgiON1uaJrX",
        "outputId": "5783377f-7804-4365-aea2-cf6149107706"
      },
      "execution_count": 31,
      "outputs": [
        {
          "output_type": "execute_result",
          "data": {
            "text/plain": [
              "<function __main__.<lambda>(cadena)>"
            ]
          },
          "metadata": {},
          "execution_count": 31
        }
      ]
    },
    {
      "cell_type": "code",
      "source": [
        "fn(\"Arg, Esp, uK,Ygs  ,\")"
      ],
      "metadata": {
        "colab": {
          "base_uri": "https://localhost:8080/"
        },
        "id": "o8tzLmT-aLN-",
        "outputId": "6ccfdb00-9a48-42ec-ad10-c5f2b84ae6f4"
      },
      "execution_count": 32,
      "outputs": [
        {
          "output_type": "execute_result",
          "data": {
            "text/plain": [
              "['arg', 'esp', 'uk', 'ygs']"
            ]
          },
          "metadata": {},
          "execution_count": 32
        }
      ]
    }
  ]
}